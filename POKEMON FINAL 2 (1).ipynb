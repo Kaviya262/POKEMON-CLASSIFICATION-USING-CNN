{
 "cells": [
  {
   "cell_type": "markdown",
   "id": "7ec139dc",
   "metadata": {
    "papermill": {
     "duration": 0.012991,
     "end_time": "2023-09-18T07:02:15.441241",
     "exception": false,
     "start_time": "2023-09-18T07:02:15.428250",
     "status": "completed"
    },
    "tags": []
   },
   "source": [
    "# POKEMON IMAGE DETECTION USING CNN"
   ]
  },
  {
   "cell_type": "code",
   "execution_count": 1,
   "id": "5fc816fa",
   "metadata": {
    "_cell_guid": "b1076dfc-b9ad-4769-8c92-a6c4dae69d19",
    "_uuid": "8f2839f25d086af736a60e9eeb907d3b93b6e0e5",
    "papermill": {
     "duration": 5.31532,
     "end_time": "2023-09-18T07:02:20.769245",
     "exception": false,
     "start_time": "2023-09-18T07:02:15.453925",
     "status": "completed"
    },
    "tags": []
   },
   "outputs": [
    {
     "ename": "ModuleNotFoundError",
     "evalue": "No module named 'torch'",
     "output_type": "error",
     "traceback": [
      "\u001b[1;31m---------------------------------------------------------------------------\u001b[0m",
      "\u001b[1;31mModuleNotFoundError\u001b[0m                       Traceback (most recent call last)",
      "Cell \u001b[1;32mIn[1], line 5\u001b[0m\n\u001b[0;32m      3\u001b[0m \u001b[38;5;28;01mimport\u001b[39;00m \u001b[38;5;21;01mnumpy\u001b[39;00m \u001b[38;5;28;01mas\u001b[39;00m \u001b[38;5;21;01mnp\u001b[39;00m\n\u001b[0;32m      4\u001b[0m \u001b[38;5;28;01mfrom\u001b[39;00m \u001b[38;5;21;01mskimage\u001b[39;00m \u001b[38;5;28;01mimport\u001b[39;00m io\n\u001b[1;32m----> 5\u001b[0m \u001b[38;5;28;01mimport\u001b[39;00m \u001b[38;5;21;01mtorch\u001b[39;00m\n\u001b[0;32m      6\u001b[0m \u001b[38;5;28;01mfrom\u001b[39;00m \u001b[38;5;21;01mtorch\u001b[39;00m\u001b[38;5;21;01m.\u001b[39;00m\u001b[38;5;21;01mutils\u001b[39;00m\u001b[38;5;21;01m.\u001b[39;00m\u001b[38;5;21;01mdata\u001b[39;00m \u001b[38;5;28;01mimport\u001b[39;00m Dataset, DataLoader\n\u001b[0;32m      7\u001b[0m \u001b[38;5;28;01mimport\u001b[39;00m \u001b[38;5;21;01mtorch\u001b[39;00m\u001b[38;5;21;01m.\u001b[39;00m\u001b[38;5;21;01mnn\u001b[39;00m\u001b[38;5;21;01m.\u001b[39;00m\u001b[38;5;21;01mfunctional\u001b[39;00m \u001b[38;5;28;01mas\u001b[39;00m \u001b[38;5;21;01mF\u001b[39;00m\n",
      "\u001b[1;31mModuleNotFoundError\u001b[0m: No module named 'torch'"
     ]
    }
   ],
   "source": [
    "import os\n",
    "import pandas as pd\n",
    "import numpy as np\n",
    "from skimage import io\n",
    "import torch\n",
    "from torch.utils.data import Dataset, DataLoader\n",
    "import torch.nn.functional as F\n",
    "from torch.utils.data.sampler import SubsetRandomSampler\n",
    "%matplotlib inline\n",
    "import matplotlib.pyplot as plt\n",
    "import fnmatch"
   ]
  },
  {
   "cell_type": "markdown",
   "id": "baa37ee4",
   "metadata": {
    "papermill": {
     "duration": 0.014529,
     "end_time": "2023-09-18T07:02:20.799069",
     "exception": false,
     "start_time": "2023-09-18T07:02:20.784540",
     "status": "completed"
    },
    "tags": []
   },
   "source": [
    "## Exploring DataFrame"
   ]
  },
  {
   "cell_type": "code",
   "execution_count": 2,
   "id": "e3aa6c87",
   "metadata": {
    "papermill": {
     "duration": 0.052555,
     "end_time": "2023-09-18T07:02:20.864147",
     "exception": false,
     "start_time": "2023-09-18T07:02:20.811592",
     "status": "completed"
    },
    "tags": []
   },
   "outputs": [],
   "source": [
    "import pandas as pd\n",
    "pokemons = pd.read_csv(r\"C:\\Users\\USER\\Downloads\\7th Sem\\DEEP LEARNING\\Project\\Dataset\\pokemon.csv\")"
   ]
  },
  {
   "cell_type": "code",
   "execution_count": 3,
   "id": "3beddf3d-0009-426b-ad90-01071cfa6f42",
   "metadata": {},
   "outputs": [],
   "source": [
    "pokemons = pokemons.drop(columns=['Evolution'])"
   ]
  },
  {
   "cell_type": "code",
   "execution_count": 4,
   "id": "8b5ab9e4-b886-4cf7-a15f-16253180ade9",
   "metadata": {},
   "outputs": [
    {
     "data": {
      "text/plain": [
       "(809, 3)"
      ]
     },
     "execution_count": 4,
     "metadata": {},
     "output_type": "execute_result"
    }
   ],
   "source": [
    "pokemons.shape"
   ]
  },
  {
   "cell_type": "code",
   "execution_count": 5,
   "id": "0a6c39d1",
   "metadata": {
    "papermill": {
     "duration": 0.037972,
     "end_time": "2023-09-18T07:02:20.915083",
     "exception": false,
     "start_time": "2023-09-18T07:02:20.877111",
     "status": "completed"
    },
    "tags": []
   },
   "outputs": [
    {
     "data": {
      "text/html": [
       "<div>\n",
       "<style scoped>\n",
       "    .dataframe tbody tr th:only-of-type {\n",
       "        vertical-align: middle;\n",
       "    }\n",
       "\n",
       "    .dataframe tbody tr th {\n",
       "        vertical-align: top;\n",
       "    }\n",
       "\n",
       "    .dataframe thead th {\n",
       "        text-align: right;\n",
       "    }\n",
       "</style>\n",
       "<table border=\"1\" class=\"dataframe\">\n",
       "  <thead>\n",
       "    <tr style=\"text-align: right;\">\n",
       "      <th></th>\n",
       "      <th>Name</th>\n",
       "      <th>Type1</th>\n",
       "      <th>Type2</th>\n",
       "    </tr>\n",
       "  </thead>\n",
       "  <tbody>\n",
       "    <tr>\n",
       "      <th>0</th>\n",
       "      <td>bulbasaur</td>\n",
       "      <td>Grass</td>\n",
       "      <td>Poison</td>\n",
       "    </tr>\n",
       "    <tr>\n",
       "      <th>1</th>\n",
       "      <td>ivysaur</td>\n",
       "      <td>Grass</td>\n",
       "      <td>Poison</td>\n",
       "    </tr>\n",
       "    <tr>\n",
       "      <th>2</th>\n",
       "      <td>venusaur</td>\n",
       "      <td>Grass</td>\n",
       "      <td>Poison</td>\n",
       "    </tr>\n",
       "    <tr>\n",
       "      <th>3</th>\n",
       "      <td>charmander</td>\n",
       "      <td>Fire</td>\n",
       "      <td>NaN</td>\n",
       "    </tr>\n",
       "    <tr>\n",
       "      <th>4</th>\n",
       "      <td>charmeleon</td>\n",
       "      <td>Fire</td>\n",
       "      <td>NaN</td>\n",
       "    </tr>\n",
       "  </tbody>\n",
       "</table>\n",
       "</div>"
      ],
      "text/plain": [
       "         Name  Type1   Type2\n",
       "0   bulbasaur  Grass  Poison\n",
       "1     ivysaur  Grass  Poison\n",
       "2    venusaur  Grass  Poison\n",
       "3  charmander   Fire     NaN\n",
       "4  charmeleon   Fire     NaN"
      ]
     },
     "execution_count": 5,
     "metadata": {},
     "output_type": "execute_result"
    }
   ],
   "source": [
    "pokemons.head()"
   ]
  },
  {
   "cell_type": "code",
   "execution_count": 6,
   "id": "86913f8b",
   "metadata": {
    "papermill": {
     "duration": 0.035641,
     "end_time": "2023-09-18T07:02:20.964208",
     "exception": false,
     "start_time": "2023-09-18T07:02:20.928567",
     "status": "completed"
    },
    "tags": []
   },
   "outputs": [
    {
     "data": {
      "text/html": [
       "<div>\n",
       "<style scoped>\n",
       "    .dataframe tbody tr th:only-of-type {\n",
       "        vertical-align: middle;\n",
       "    }\n",
       "\n",
       "    .dataframe tbody tr th {\n",
       "        vertical-align: top;\n",
       "    }\n",
       "\n",
       "    .dataframe thead th {\n",
       "        text-align: right;\n",
       "    }\n",
       "</style>\n",
       "<table border=\"1\" class=\"dataframe\">\n",
       "  <thead>\n",
       "    <tr style=\"text-align: right;\">\n",
       "      <th></th>\n",
       "      <th>Type1</th>\n",
       "      <th>Type2</th>\n",
       "    </tr>\n",
       "    <tr>\n",
       "      <th>Name</th>\n",
       "      <th></th>\n",
       "      <th></th>\n",
       "    </tr>\n",
       "  </thead>\n",
       "  <tbody>\n",
       "    <tr>\n",
       "      <th>bulbasaur</th>\n",
       "      <td>Grass</td>\n",
       "      <td>Poison</td>\n",
       "    </tr>\n",
       "    <tr>\n",
       "      <th>ivysaur</th>\n",
       "      <td>Grass</td>\n",
       "      <td>Poison</td>\n",
       "    </tr>\n",
       "    <tr>\n",
       "      <th>venusaur</th>\n",
       "      <td>Grass</td>\n",
       "      <td>Poison</td>\n",
       "    </tr>\n",
       "    <tr>\n",
       "      <th>charmander</th>\n",
       "      <td>Fire</td>\n",
       "      <td>NaN</td>\n",
       "    </tr>\n",
       "    <tr>\n",
       "      <th>charmeleon</th>\n",
       "      <td>Fire</td>\n",
       "      <td>NaN</td>\n",
       "    </tr>\n",
       "    <tr>\n",
       "      <th>...</th>\n",
       "      <td>...</td>\n",
       "      <td>...</td>\n",
       "    </tr>\n",
       "    <tr>\n",
       "      <th>stakataka</th>\n",
       "      <td>Rock</td>\n",
       "      <td>Steel</td>\n",
       "    </tr>\n",
       "    <tr>\n",
       "      <th>blacephalon</th>\n",
       "      <td>Fire</td>\n",
       "      <td>Ghost</td>\n",
       "    </tr>\n",
       "    <tr>\n",
       "      <th>zeraora</th>\n",
       "      <td>Electric</td>\n",
       "      <td>NaN</td>\n",
       "    </tr>\n",
       "    <tr>\n",
       "      <th>meltan</th>\n",
       "      <td>Steel</td>\n",
       "      <td>NaN</td>\n",
       "    </tr>\n",
       "    <tr>\n",
       "      <th>melmetal</th>\n",
       "      <td>Steel</td>\n",
       "      <td>NaN</td>\n",
       "    </tr>\n",
       "  </tbody>\n",
       "</table>\n",
       "<p>809 rows × 2 columns</p>\n",
       "</div>"
      ],
      "text/plain": [
       "                Type1   Type2\n",
       "Name                         \n",
       "bulbasaur       Grass  Poison\n",
       "ivysaur         Grass  Poison\n",
       "venusaur        Grass  Poison\n",
       "charmander       Fire     NaN\n",
       "charmeleon       Fire     NaN\n",
       "...               ...     ...\n",
       "stakataka        Rock   Steel\n",
       "blacephalon      Fire   Ghost\n",
       "zeraora      Electric     NaN\n",
       "meltan          Steel     NaN\n",
       "melmetal        Steel     NaN\n",
       "\n",
       "[809 rows x 2 columns]"
      ]
     },
     "execution_count": 6,
     "metadata": {},
     "output_type": "execute_result"
    }
   ],
   "source": [
    "pokemons = pokemons.set_index('Name')\n",
    "pokemons"
   ]
  },
  {
   "cell_type": "code",
   "execution_count": 7,
   "id": "01683944",
   "metadata": {
    "papermill": {
     "duration": 0.030352,
     "end_time": "2023-09-18T07:02:21.007950",
     "exception": false,
     "start_time": "2023-09-18T07:02:20.977598",
     "status": "completed"
    },
    "tags": []
   },
   "outputs": [
    {
     "data": {
      "text/plain": [
       "18"
      ]
     },
     "execution_count": 7,
     "metadata": {},
     "output_type": "execute_result"
    }
   ],
   "source": [
    "NUMBER_UNIQUE_TYPES = len(pokemons['Type1'].unique())\n",
    "NUMBER_UNIQUE_TYPES"
   ]
  },
  {
   "cell_type": "code",
   "execution_count": 8,
   "id": "d72661dd",
   "metadata": {
    "papermill": {
     "duration": 0.022313,
     "end_time": "2023-09-18T07:02:21.043643",
     "exception": false,
     "start_time": "2023-09-18T07:02:21.021330",
     "status": "completed"
    },
    "tags": []
   },
   "outputs": [],
   "source": [
    "image_dir = \"E:\\sugi\\sem 7\\Deep Learning\\Pokemon\\images\""
   ]
  },
  {
   "cell_type": "code",
   "execution_count": 9,
   "id": "30bb1417",
   "metadata": {
    "papermill": {
     "duration": 0.024858,
     "end_time": "2023-09-18T07:02:21.081790",
     "exception": false,
     "start_time": "2023-09-18T07:02:21.056932",
     "status": "completed"
    },
    "tags": []
   },
   "outputs": [
    {
     "data": {
      "text/plain": [
       "'Electric'"
      ]
     },
     "execution_count": 9,
     "metadata": {},
     "output_type": "execute_result"
    }
   ],
   "source": [
    "pokemons.loc['pichu']['Type1']"
   ]
  },
  {
   "cell_type": "code",
   "execution_count": 10,
   "id": "c9f08fe7",
   "metadata": {
    "papermill": {
     "duration": 0.027172,
     "end_time": "2023-09-18T07:02:21.122714",
     "exception": false,
     "start_time": "2023-09-18T07:02:21.095542",
     "status": "completed"
    },
    "tags": []
   },
   "outputs": [
    {
     "data": {
      "text/plain": [
       "{'Grass': 0,\n",
       " 'Fire': 1,\n",
       " 'Water': 2,\n",
       " 'Bug': 3,\n",
       " 'Normal': 4,\n",
       " 'Poison': 5,\n",
       " 'Electric': 6,\n",
       " 'Ground': 7,\n",
       " 'Fairy': 8,\n",
       " 'Fighting': 9,\n",
       " 'Psychic': 10,\n",
       " 'Rock': 11,\n",
       " 'Ghost': 12,\n",
       " 'Ice': 13,\n",
       " 'Dragon': 14,\n",
       " 'Dark': 15,\n",
       " 'Steel': 16,\n",
       " 'Flying': 17}"
      ]
     },
     "execution_count": 10,
     "metadata": {},
     "output_type": "execute_result"
    }
   ],
   "source": [
    "poke_types = {\n",
    "    t:i for i, t in enumerate(pokemons['Type1'].unique())\n",
    "}\n",
    "poke_types"
   ]
  },
  {
   "cell_type": "code",
   "execution_count": 11,
   "id": "540b4512",
   "metadata": {
    "papermill": {
     "duration": 0.033839,
     "end_time": "2023-09-18T07:02:21.170308",
     "exception": false,
     "start_time": "2023-09-18T07:02:21.136469",
     "status": "completed"
    },
    "tags": []
   },
   "outputs": [],
   "source": [
    "class PokemonDataset(Dataset):\n",
    "    def __init__(self, image_dir):\n",
    "        \"\"\"Initialize the attributes of the object of the class.\"\"\"\n",
    "        self.image_dir = image_dir\n",
    "        self.image_path_list = sorted(self._find_files(image_dir))\n",
    "        \n",
    "    def __len__(self):\n",
    "        \"\"\"Return the size of the dataset.\"\"\"\n",
    "        return len(self.image_path_list)\n",
    "\n",
    "    def __getitem__(self, index):\n",
    "        image_path = self.image_path_list[index]\n",
    "        name = image_path.split(\"/\")[-1].replace('.png', '')\n",
    "        poke_type = pokemons.loc[name]['Type1']\n",
    "        \n",
    "        x = io.imread(image_path)\n",
    "        x = torch.tensor(x).type(torch.FloatTensor)\n",
    "        x = x[:, :, :3]\n",
    "        x_min, x_max = torch.min(x), torch.max(x)\n",
    "        normalized_x = (x - x_min) / (x_max - x_min)\n",
    "        x = torch.reshape(normalized_x, (3, 120, 120))\n",
    "        \n",
    "        return x, poke_types[poke_type]\n",
    "    \n",
    "    def _find_files(self, directory, pattern='*.png'):\n",
    "        \"\"\"Recursively find all files matching the pattern.\"\"\"\n",
    "        image_path_list = []\n",
    "        for root, dirnames, filenames in os.walk(directory):\n",
    "            for filename in fnmatch.filter(filenames, pattern):\n",
    "                image_path_list.append(os.path.join(root, filename))\n",
    "        return image_path_list"
   ]
  },
  {
   "cell_type": "code",
   "execution_count": 12,
   "id": "93fdcb8e",
   "metadata": {
    "papermill": {
     "duration": 0.393052,
     "end_time": "2023-09-18T07:02:21.577414",
     "exception": false,
     "start_time": "2023-09-18T07:02:21.184362",
     "status": "completed"
    },
    "tags": []
   },
   "outputs": [
    {
     "data": {
      "text/plain": [
       "809"
      ]
     },
     "execution_count": 12,
     "metadata": {},
     "output_type": "execute_result"
    }
   ],
   "source": [
    "dataset = PokemonDataset(image_dir=image_dir)\n",
    "len(dataset)"
   ]
  },
  {
   "cell_type": "markdown",
   "id": "750a996d",
   "metadata": {
    "papermill": {
     "duration": 0.014783,
     "end_time": "2023-09-18T07:02:22.074932",
     "exception": false,
     "start_time": "2023-09-18T07:02:22.060149",
     "status": "completed"
    },
    "tags": []
   },
   "source": [
    "### Data augmentation"
   ]
  },
  {
   "cell_type": "code",
   "execution_count": 24,
   "id": "6baabd17",
   "metadata": {
    "papermill": {
     "duration": 0.513588,
     "end_time": "2023-09-18T07:02:22.602883",
     "exception": false,
     "start_time": "2023-09-18T07:02:22.089295",
     "status": "completed"
    },
    "tags": []
   },
   "outputs": [
    {
     "name": "stdout",
     "output_type": "stream",
     "text": [
      "Length of original dataset: 809\n",
      "Length of combined dataset: 8899\n"
     ]
    }
   ],
   "source": [
    "import os\n",
    "from PIL import Image\n",
    "import torchvision.transforms as transforms\n",
    "from torchvision.transforms import RandomHorizontalFlip, RandomRotation, ColorJitter, GaussianBlur\n",
    "\n",
    "# Define transformations\n",
    "transform = transforms.Compose([\n",
    "    RandomHorizontalFlip(p=0.5),\n",
    "    RandomRotation(degrees=15),\n",
    "    ColorJitter(brightness=0.1, contrast=0.1, saturation=0.1, hue=0.1),\n",
    "    GaussianBlur(kernel_size=3)\n",
    "])\n",
    "\n",
    "# Folder containing images (your original dataset)\n",
    "image_folder = \"E:\\sugi\\sem 7\\Deep Learning\\Pokemon\\images\"  # Replace with the actual folder path\n",
    "\n",
    "# Load original dataset (list of images)\n",
    "dataset = []\n",
    "for filename in os.listdir(image_folder):\n",
    "    if filename.endswith('.jpg') or filename.endswith('.png'):  # Adjust for your image types\n",
    "        image_path = os.path.join(image_folder, filename)\n",
    "        image = Image.open(image_path)\n",
    "        dataset.append(image)\n",
    "\n",
    "# Create a list to store augmented images\n",
    "augmented_samples = []\n",
    "\n",
    "# Number of augmentations per image\n",
    "num_augmentations = 10\n",
    "\n",
    "# Apply transformations to each image in the dataset\n",
    "for image in dataset:\n",
    "    for _ in range(num_augmentations):\n",
    "        augmented_image = transform(image)\n",
    "        augmented_samples.append(augmented_image)\n",
    "\n",
    "# Combine the original dataset with the augmented samples\n",
    "combined_dataset = dataset + augmented_samples\n",
    "\n",
    "# Print the lengths of the original and combined datasets\n",
    "print(f\"Length of original dataset: {len(dataset)}\")  # This is the number of original images\n",
    "print(f\"Length of combined dataset: {len(combined_dataset)}\")  # This is the number of original + augmented images\n"
   ]
  },
  {
   "cell_type": "markdown",
   "id": "00a32699",
   "metadata": {
    "papermill": {
     "duration": 0.014724,
     "end_time": "2023-09-18T07:02:22.868241",
     "exception": false,
     "start_time": "2023-09-18T07:02:22.853517",
     "status": "completed"
    },
    "tags": []
   },
   "source": [
    "### Create training and testing datasets"
   ]
  },
  {
   "cell_type": "code",
   "execution_count": 25,
   "id": "7ec84278",
   "metadata": {
    "papermill": {
     "duration": 0.027473,
     "end_time": "2023-09-18T07:02:22.993196",
     "exception": false,
     "start_time": "2023-09-18T07:02:22.965723",
     "status": "completed"
    },
    "tags": []
   },
   "outputs": [],
   "source": [
    "test_split = .2\n",
    "shuffle_dataset = True\n",
    "\n",
    "# dataset_size = len(combined_dataset)\n",
    "dataset_size = len(dataset)\n",
    "indices = list(range(dataset_size))\n",
    "split = int(np.floor(test_split * dataset_size))\n",
    "\n",
    "if shuffle_dataset:\n",
    "    np.random.seed(42)\n",
    "    np.random.shuffle(indices)\n",
    "    \n",
    "train_indices, test_indices = indices[split:], indices[:split]"
   ]
  },
  {
   "cell_type": "code",
   "execution_count": 26,
   "id": "e63e6567",
   "metadata": {
    "papermill": {
     "duration": 0.027662,
     "end_time": "2023-09-18T07:02:23.037624",
     "exception": false,
     "start_time": "2023-09-18T07:02:23.009962",
     "status": "completed"
    },
    "tags": []
   },
   "outputs": [],
   "source": [
    "train_sampler = SubsetRandomSampler(train_indices)\n",
    "test_sampler = SubsetRandomSampler(test_indices)\n",
    "\n",
    "batch_size = 5\n",
    "\n",
    "train_dataloader = DataLoader(dataset, batch_size=batch_size, sampler=train_sampler, drop_last=True)\n",
    "test_dataloader = DataLoader(dataset, batch_size=batch_size, sampler=test_sampler, drop_last=True)"
   ]
  },
  {
   "cell_type": "code",
   "execution_count": 36,
   "id": "8ba54da7",
   "metadata": {
    "papermill": {
     "duration": 5.464588,
     "end_time": "2023-09-18T07:02:28.517985",
     "exception": false,
     "start_time": "2023-09-18T07:02:23.053397",
     "status": "completed"
    },
    "tags": []
   },
   "outputs": [
    {
     "name": "stdout",
     "output_type": "stream",
     "text": [
      "('bruxish.png', 'wimpod.png', 'lickitung.png', 'skuntank.png', 'morelull.png', 'meditite.png', 'crobat.png', 'meltan.png')\n",
      "('purrloin.png', 'togepi.png', 'hawlucha.png', 'typhlosion.png', 'phanpy.png', 'heatran.png', 'walrein.png', 'emboar.png')\n",
      "('nidorina.png', 'mesprit.png', 'rufflet.png', 'nincada.png', 'scatterbug.png', 'beldum.png', 'nidoqueen.png', 'quagsire.png')\n",
      "('houndour.png', 'drilbur.png', 'wingull.png', 'cranidos.png', 'pikipek.png', 'vigoroth.png', 'kricketune.png', 'sunflora.png')\n",
      "('prinplup.png', 'petilil.png', 'carbink.png', 'karrablast.png', 'phione.png', 'pancham.png', 'magby.png', 'pidove.png')\n",
      "('sableye.png', 'metapod.png', 'heatmor.png', 'spoink.png', 'primarina.png', 'cascoon.png', 'relicanth.png', 'bayleef.png')\n",
      "('dugtrio.png', 'gallade.png', 'forretress.png', 'ampharos.png', 'gengar.png', 'dhelmise.png', 'clauncher.png', 'yanma.png')\n",
      "('skitty.png', 'kyurem.png', 'tapu-fini.png', 'spinarak.png', 'naganadel.png', 'hippowdon.png', 'garchomp.png', 'dewpider.png')\n",
      "('mandibuzz.png', 'hitmonlee.png', 'audino.png', 'sawk.png', 'stoutland.png', 'kadabra.png', 'spheal.png', 'oranguru.png')\n",
      "('suicune.png', 'golem.png', 'rapidash.png', 'landorus-incarnate.png', 'mothim.png', 'minun.png', 'leavanny.png', 'xatu.png')\n",
      "('pignite.png', 'taillow.png', 'timburr.png', 'meganium.png', 'fletchling.png', 'bulbasaur.png', 'nidoran-m.png', 'electivire.png')\n",
      "('glalie.png', 'xurkitree.png', 'venusaur.png', 'doublade.png', 'yamask.png', 'kommo-o.png', 'brionne.png', 'teddiursa.png')\n",
      "('espeon.png', 'hariyama.png', 'ferroseed.png', 'slaking.png', 'bagon.png', 'popplio.png', 'gardevoir.png', 'meowstic-male.png')\n",
      "('woobat.png', 'ponyta.png', 'tangela.png', 'bergmite.png', 'diglett.png', 'volbeat.png', 'floette.png', 'darkrai.png')\n",
      "('slowpoke.png', 'magearna.png', 'grotle.png', 'kartana.png', 'paras.png', 'salazzle.png', 'purugly.png', 'goomy.png')\n",
      "('zebstrika.png', 'ivysaur.png', 'golett.png', 'chimchar.png', 'keldeo-ordinary.png', 'lillipup.png', 'drifloon.png', 'remoraid.png')\n",
      "('donphan.png', 'florges.png', 'piloswine.png', 'plusle.png', 'frillish.png', 'turtwig.png', 'tropius.png', 'kingdra.png')\n",
      "('skiploom.png', 'pumpkaboo-average.png', 'farfetchd.png', 'trumbeak.png', 'aipom.png', 'beedrill.png', 'rockruff.png', 'roserade.png')\n",
      "('unfezant.png', 'croagunk.png', 'passimian.png', 'chansey.png', 'kangaskhan.png', 'umbreon.png', 'swellow.png', 'fletchinder.png')\n",
      "('pansear.png', 'camerupt.png', 'bouffalant.png', 'lombre.png', 'reshiram.png', 'krookodile.png', 'ariados.png', 'magmar.png')\n",
      "('dewott.png', 'weezing.png', 'bronzor.png', 'victreebel.png', 'aromatisse.png', 'oricorio-baile.png', 'mr-mime.png', 'throh.png')\n",
      "('pheromosa.png', 'salamence.png', 'jigglypuff.png', 'haunter.png', 'swanna.png', 'staraptor.png', 'azelf.png', 'silcoon.png')\n",
      "('igglybuff.png', 'delibird.png', 'heliolisk.png', 'golisopod.png', 'klefki.png', 'poliwrath.png', 'garbodor.png', 'aron.png')\n",
      "('cosmoem.png', 'bidoof.png', 'scizor.png', 'goldeen.png', 'latios.png', 'electrike.png', 'snubbull.png', 'blissey.png')\n",
      "('whiscash.png', 'gloom.png', 'pawniard.png', 'manectric.png', 'rowlet.png', 'skrelp.png', 'shaymin-land.png', 'electabuzz.png')\n",
      "('shelgon.png', 'malamar.png', 'beheeyem.png', 'rhyperior.png', 'marowak.png', 'type-null.png', 'araquanid.png', 'sneasel.png')\n",
      "('cryogonal.png', 'mismagius.png', 'ursaring.png', 'carnivine.png', 'swoobat.png', 'hakamo-o.png', 'pelipper.png', 'crabrawler.png')\n",
      "('phantump.png', 'trapinch.png', 'mantyke.png', 'baltoy.png', 'serperior.png', 'gourgeist-average.png', 'skarmory.png', 'tornadus-incarnate.png')\n",
      "('galvantula.png', 'furfrou.png', 'poochyena.png', 'basculin-red-striped.png', 'smoochum.png', 'infernape.png', 'milotic.png', 'cutiefly.png')\n",
      "('dunsparce.png', 'natu.png', 'guzzlord.png', 'blitzle.png', 'illumise.png', 'dusknoir.png', 'victini.png', 'shroomish.png')\n",
      "('minccino.png', 'porygon2.png', 'swirlix.png', 'maractus.png', 'makuhita.png', 'meowth.png', 'porygon.png', 'deino.png')\n",
      "('squirtle.png', 'hoothoot.png', 'avalugg.png', 'houndoom.png', 'dustox.png', 'tapu-lele.png', 'aggron.png', 'honchkrow.png')\n",
      "('golurk.png', 'metang.png', 'steelix.png', 'mawile.png', 'klink.png', 'roggenrola.png', 'alakazam.png', 'pyroar.png')\n",
      "('butterfree.png', 'vulpix.png', 'nuzleaf.png', 'diancie.png', 'litten.png', 'dodrio.png', 'dragonair.png', 'thundurus-incarnate.png')\n",
      "('gulpin.png', 'mudkip.png', 'scyther.png', 'jangmo-o.png', 'archen.png', 'munchlax.png', 'noivern.png', 'skiddo.png')\n",
      "('exeggutor.png', 'pupitar.png', 'chatot.png', 'grumpig.png', 'numel.png', 'leafeon.png', 'swinub.png', 'ribombee.png')\n",
      "('braviary.png', 'pachirisu.png', 'breloom.png', 'blaziken.png', 'nosepass.png', 'cherubi.png', 'sawsbuck.png', 'magikarp.png')\n",
      "('luxray.png', 'clefairy.png', 'ledian.png', 'bibarel.png', 'tangrowth.png', 'grovyle.png', 'voltorb.png', 'abra.png')\n",
      "('bonsly.png', 'flaaffy.png', 'exeggcute.png', 'froslass.png', 'seviper.png', 'larvitar.png', 'espurr.png', 'slurpuff.png')\n",
      "('medicham.png', 'herdier.png', 'bastiodon.png', 'blastoise.png', 'palpitoad.png', 'kabuto.png', 'vivillon.png', 'grubbin.png')\n",
      "('togetic.png', 'frogadier.png', 'metagross.png', 'tentacruel.png', 'growlithe.png', 'zweilous.png', 'venipede.png', 'zapdos.png')\n",
      "('chimecho.png', 'flabebe.png', 'toxapex.png', 'hippopotas.png', 'oddish.png', 'sunkern.png', 'entei.png', 'mantine.png')\n",
      "('boldore.png', 'gothitelle.png', 'solgaleo.png', 'duskull.png', 'wooper.png', 'bunnelby.png', 'ferrothorn.png', 'solrock.png')\n",
      "('diggersby.png', 'trubbish.png', 'necrozma.png', 'tsareena.png', 'spearow.png', 'elgyem.png', 'anorith.png', 'shieldon.png')\n",
      "('burmy.png', 'helioptile.png', 'servine.png', 'zigzagoon.png', 'carvanha.png', 'wailmer.png', 'hypno.png', 'venomoth.png')\n",
      "('bisharp.png', 'zekrom.png', 'cradily.png', 'mime-jr.png', 'articuno.png', 'weedle.png', 'regigigas.png', 'togekiss.png')\n",
      "('furret.png', 'arceus.png', 'wormadam-plant.png', 'primeape.png', 'delcatty.png', 'croconaw.png', 'musharna.png', 'slakoth.png')\n",
      "('barboach.png', 'cubone.png', 'torterra.png', 'elekid.png', 'luvdisc.png', 'eelektross.png', 'pansage.png', 'charjabug.png')\n",
      "('unown.png', 'marshtomp.png', 'snover.png', 'abomasnow.png', 'noibat.png', 'drapion.png', 'cresselia.png', 'fearow.png')\n",
      "('nihilego.png', 'totodile.png', 'ninetales.png', 'uxie.png', 'simipour.png', 'drampa.png', 'lickilicky.png', 'minior-meteor.png')\n",
      "('alomomola.png', 'turtonator.png', 'virizion.png', 'zangoose.png', 'chesnaught.png', 'heracross.png', 'binacle.png', 'swadloon.png')\n",
      "('togedemaru.png', 'mimikyu.png', 'charmander.png', 'seadra.png', 'poliwhirl.png', 'lunala.png', 'dusclops.png', 'tapu-bulu.png')\n",
      "('oshawott.png', 'drifblim.png', 'treecko.png', 'aerodactyl.png', 'liepard.png', 'jellicent.png', 'krokorok.png', 'seismitoad.png')\n",
      "('omastar.png', 'celebi.png', 'combee.png', 'rattata.png', 'quilava.png', 'seel.png', 'foongus.png', 'spewpa.png')\n",
      "('persian.png', 'finneon.png', 'terrakion.png', 'palossand.png', 'corphish.png', 'machop.png', 'beartic.png', 'castform.png')\n",
      "('monferno.png', 'beautifly.png', 'druddigon.png', 'drowzee.png', 'sandshrew.png', 'graveler.png', 'huntail.png', 'eelektrik.png')\n",
      "('registeel.png', 'wigglytuff.png', 'simisear.png', 'mareanie.png', 'amaura.png', 'chespin.png', 'linoone.png', 'electrode.png')\n",
      "('stantler.png', 'torchic.png', 'weepinbell.png', 'axew.png', 'reuniclus.png', 'wartortle.png', 'lileep.png', 'litleo.png')\n",
      "('jolteon.png', 'quilladin.png', 'spiritomb.png', 'sharpedo.png', 'grimer.png', 'torkoal.png', 'swampert.png', 'vileplume.png')\n",
      "('machoke.png', 'gligar.png', 'azurill.png', 'tyrantrum.png', 'regirock.png', 'hitmontop.png', 'cacnea.png', 'melmetal.png')\n",
      "('lampent.png', 'luxio.png', 'sandslash.png', 'lucario.png', 'latias.png', 'onix.png', 'golbat.png', 'gothita.png')\n",
      "('talonflame.png', 'roselia.png', 'corsola.png', 'exploud.png', 'rayquaza.png', 'shelmet.png', 'giratina-altered.png', 'crawdaunt.png')\n",
      "('golduck.png', 'sealeo.png', 'barbaracle.png', 'slowbro.png', 'chinchou.png', 'jynx.png', 'duosion.png', 'sigilyph.png')\n",
      "('shinx.png', 'girafarig.png', 'surskit.png', 'cloyster.png', 'krabby.png', 'buzzwole.png', 'lugia.png', 'omanyte.png')\n",
      "('archeops.png', 'gliscor.png', 'koffing.png', 'joltik.png', 'lanturn.png', 'poliwag.png', 'glaceon.png', 'shellos.png')\n",
      "('poipole.png', 'probopass.png', 'cherrim.png', 'carracosta.png', 'dartrix.png', 'charmeleon.png', 'absol.png', 'hoopa-confined.png')\n",
      "('dragalge.png', 'shiftry.png', 'vanillish.png', 'rotom.png', 'raticate.png', 'chingling.png', 'arcanine.png', 'vibrava.png')\n",
      "('yungoos.png', 'bronzong.png', 'altaria.png', 'armaldo.png', 'scrafty.png', 'dwebble.png', 'jirachi.png', 'volcanion.png')\n",
      "('fennekin.png', 'stufful.png', 'panpour.png', 'toucannon.png', 'decidueye.png', 'porygon-z.png', 'genesect.png', 'fomantis.png')\n",
      "('emolga.png', 'amoonguss.png', 'aegislash-blade.png', 'jumpluff.png', 'palkia.png', 'lunatone.png', 'mamoswine.png', 'floatzel.png')\n",
      "('flygon.png', 'deoxys-normal.png', 'lairon.png', 'samurott.png', 'komala.png', 'klinklang.png', 'shuppet.png', 'cubchoo.png')\n",
      "('dratini.png', 'gastly.png', 'scraggy.png', 'pidgey.png', 'murkrow.png', 'zorua.png', 'tentacool.png', 'blacephalon.png')\n",
      "('sudowoodo.png', 'magmortar.png', 'pidgeotto.png', 'vikavolt.png', 'spinda.png', 'wailord.png', 'weavile.png', 'groudon.png')\n",
      "('spritzee.png', 'muk.png', 'seaking.png', 'trevenant.png', 'tepig.png', 'lycanroc-midday.png', 'gigalith.png', 'smeargle.png')\n",
      "('pyukumuku.png', 'greninja.png', 'pikachu.png', 'noctowl.png', 'conkeldurr.png', 'marshadow.png', 'mudsdale.png', 'mewtwo.png')\n",
      "('swalot.png', 'volcarona.png', 'lapras.png', 'incineroar.png', 'sentret.png', 'dragonite.png', 'accelgor.png', 'escavalier.png')\n",
      "('lilligant.png', 'snorunt.png', 'cleffa.png', 'patrat.png', 'kyogre.png', 'bewear.png', 'nidoking.png', 'kabutops.png')\n",
      "('vanilluxe.png', 'braixen.png', 'starmie.png', 'zoroark.png', 'feebas.png', 'celesteela.png', 'bellsprout.png', 'sewaddle.png')\n",
      "('wurmple.png', 'budew.png', 'sandygast.png', 'misdreavus.png', 'tirtouga.png', 'darumaka.png', 'cinccino.png', 'venonat.png')\n",
      "('shuckle.png', 'bellossom.png', 'pineco.png', 'raichu.png', 'larvesta.png', 'eevee.png', 'gyarados.png', 'moltres.png')\n",
      "('nidorino.png', 'gurdurr.png', 'ho-oh.png', 'mareep.png', 'vullaby.png', 'horsea.png', 'rhyhorn.png', 'munna.png')\n",
      "('tapu-koko.png', 'pidgeot.png', 'rampardos.png', 'tympole.png', 'goodra.png', 'gastrodon.png', 'meloetta-aria.png', 'doduo.png')\n",
      "('gible.png', 'yveltal.png', 'loudred.png', 'watchog.png', 'aurorus.png', 'delphox.png', 'yanmega.png', 'seedot.png')\n",
      "('qwilfish.png', 'lopunny.png', 'slugma.png', 'mankey.png', 'happiny.png', 'kakuna.png', 'arbok.png', 'snivy.png')\n",
      "('tauros.png', 'ditto.png', 'dedenne.png', 'staryu.png', 'ralts.png', 'chandelure.png', 'silvally.png', 'chikorita.png')\n",
      "('kecleon.png', 'hydreigon.png', 'zubat.png', 'excadrill.png', 'mew.png', 'parasect.png', 'torracat.png', 'sceptile.png')\n",
      "('tyrunt.png', 'nidoran-f.png', 'honedge.png', 'litwick.png', 'hitmonchan.png', 'raikou.png', 'vaporeon.png', 'kricketot.png')\n",
      "('whirlipede.png', 'skorupi.png', 'charizard.png', 'steenee.png', 'octillery.png', 'cacturne.png', 'riolu.png', 'ludicolo.png')\n",
      "('haxorus.png', 'sliggoo.png', 'dewgong.png', 'shellder.png', 'manaphy.png', 'whimsicott.png', 'machamp.png', 'froakie.png')\n",
      "('cottonee.png', 'tynamo.png', 'regice.png', 'pichu.png', 'clefable.png', 'gogoat.png', 'gothorita.png', 'glameow.png')\n",
      "('klang.png', 'sylveon.png', 'caterpie.png', 'pangoro.png', 'miltank.png', 'bounsweet.png', 'salandit.png', 'wynaut.png')\n",
      "('snorlax.png', 'crustle.png', 'shedinja.png', 'staravia.png', 'wobbuffet.png', 'zeraora.png', 'geodude.png', 'whismur.png')\n",
      "('magnemite.png', 'durant.png', 'magnezone.png', 'stunky.png', 'ninjask.png', 'stakataka.png', 'inkay.png', 'tyrogue.png')\n",
      "('stunfisk.png', 'kirlia.png', 'darmanitan-standard.png', 'cyndaquil.png', 'azumarill.png', 'piplup.png', 'ledyba.png', 'mightyena.png')\n",
      "('gabite.png', 'masquerain.png', 'deerling.png', 'sandile.png', 'rhydon.png', 'lumineon.png', 'scolipede.png', 'cobalion.png')\n",
      "('combusken.png', 'psyduck.png', 'flareon.png', 'wishiwashi-solo.png', 'mudbray.png', 'starly.png', 'hoppip.png', 'buizel.png')\n",
      "('ambipom.png', 'granbull.png', 'crabominable.png', 'ducklett.png', 'lotad.png', 'toxicroak.png', 'swablu.png', 'tranquill.png')\n",
      "('dialga.png', 'mienshao.png', 'ekans.png', 'feraligatr.png', 'empoleon.png', 'shiinotic.png', 'cosmog.png', 'solosis.png')\n",
      "('gorebyss.png', 'pinsir.png', 'cofagrigus.png', 'politoed.png', 'magneton.png', 'banette.png', 'mienfoo.png', 'tyranitar.png')\n",
      "('xerneas.png', 'simisage.png', 'comfey.png', 'claydol.png', 'marill.png', 'lurantis.png', 'vanillite.png', 'magcargo.png')\n",
      "('clawitzer.png', 'gumshoos.png', 'buneary.png', 'clamperl.png', 'kingler.png', 'zygarde-50.png', 'slowking.png', 'fraxure.png')\n",
      "('vespiquen.png',)\n"
     ]
    }
   ],
   "source": [
    "import os\n",
    "from PIL import Image\n",
    "import torch\n",
    "from torch.utils.data import Dataset, DataLoader\n",
    "import torchvision.transforms as transforms\n",
    "from torchvision.transforms import RandomHorizontalFlip, RandomRotation, ColorJitter, GaussianBlur\n",
    "\n",
    "# Define transformations, including ToTensor\n",
    "transform = transforms.Compose([\n",
    "    RandomHorizontalFlip(p=0.5),\n",
    "    RandomRotation(degrees=15),\n",
    "    ColorJitter(brightness=0.1, contrast=0.1, saturation=0.1, hue=0.1),\n",
    "    GaussianBlur(kernel_size=3),\n",
    "    transforms.ToTensor()  # Add ToTensor to convert PIL images to tensors\n",
    "])\n",
    "\n",
    "# Custom Dataset class to load images from the folder\n",
    "class CustomImageDataset(Dataset):\n",
    "    def __init__(self, image_folder, transform=None):\n",
    "        self.image_folder = image_folder\n",
    "        self.transform = transform\n",
    "        self.image_filenames = [f for f in os.listdir(image_folder) if f.endswith('.jpg') or f.endswith('.png')]  # Adjust for your image types\n",
    "\n",
    "    def __len__(self):\n",
    "        return len(self.image_filenames)\n",
    "\n",
    "    def __getitem__(self, idx):\n",
    "        img_path = os.path.join(self.image_folder, self.image_filenames[idx])\n",
    "        image = Image.open(img_path)\n",
    "        if self.transform:\n",
    "            image = self.transform(image)\n",
    "        return image, self.image_filenames[idx]\n",
    "\n",
    "# Folder containing images\n",
    "image_folder = \"E:\\sugi\\sem 7\\Deep Learning\\Pokemon\\images\" # Replace with actual path\n",
    "\n",
    "# Create dataset and dataloader\n",
    "dataset = CustomImageDataset(image_folder, transform=transform)\n",
    "train_dataloader = DataLoader(dataset, batch_size=8, shuffle=True)\n",
    "\n",
    "# Iterate through the dataloader\n",
    "for i, (img, t) in enumerate(train_dataloader):\n",
    "    print(t)  # `t` will now be the filenames (or labels if you add them), and `img` will be tensors\n"
   ]
  },
  {
   "cell_type": "code",
   "execution_count": 37,
   "id": "5ffe3364",
   "metadata": {
    "papermill": {
     "duration": 0.027256,
     "end_time": "2023-09-18T07:02:28.563263",
     "exception": false,
     "start_time": "2023-09-18T07:02:28.536007",
     "status": "completed"
    },
    "tags": []
   },
   "outputs": [],
   "source": [
    "dataloader = DataLoader(combined_dataset, batch_size=5, shuffle=True, drop_last=True) "
   ]
  },
  {
   "cell_type": "code",
   "execution_count": 38,
   "id": "75086212",
   "metadata": {
    "papermill": {
     "duration": 0.030668,
     "end_time": "2023-09-18T07:02:28.611453",
     "exception": false,
     "start_time": "2023-09-18T07:02:28.580785",
     "status": "completed"
    },
    "tags": []
   },
   "outputs": [
    {
     "data": {
      "text/plain": [
       "32"
      ]
     },
     "execution_count": 38,
     "metadata": {},
     "output_type": "execute_result"
    }
   ],
   "source": [
    "len(test_dataloader)"
   ]
  },
  {
   "cell_type": "markdown",
   "id": "7c4d8c50",
   "metadata": {
    "papermill": {
     "duration": 0.017476,
     "end_time": "2023-09-18T07:02:28.682633",
     "exception": false,
     "start_time": "2023-09-18T07:02:28.665157",
     "status": "completed"
    },
    "tags": []
   },
   "source": [
    "## Defining the neural network"
   ]
  },
  {
   "cell_type": "code",
   "execution_count": 39,
   "id": "e8b7ab2a",
   "metadata": {
    "papermill": {
     "duration": 0.034737,
     "end_time": "2023-09-18T07:02:28.735757",
     "exception": false,
     "start_time": "2023-09-18T07:02:28.701020",
     "status": "completed"
    },
    "tags": []
   },
   "outputs": [],
   "source": [
    "class NeuralNetwork(torch.nn.Module):\n",
    "    def __init__(self):\n",
    "        super(NeuralNetwork, self).__init__()\n",
    "        # Convolutional layers\n",
    "        self.conv1 = torch.nn.Conv2d(3, 32, kernel_size=3, padding=1)\n",
    "        self.conv2 = torch.nn.Conv2d(32, 64, kernel_size=3, padding=1)\n",
    "        self.conv3 = torch.nn.Conv2d(64, 128, kernel_size=3, padding=1)\n",
    "        \n",
    "        # Max-pooling layers\n",
    "        self.pool = torch.nn.MaxPool2d(kernel_size=2, stride=2)\n",
    "        \n",
    "        # Fully connected layers\n",
    "        self.fc1 = torch.nn.Linear(128 * 15 * 15, 256)\n",
    "        self.fc2 = torch.nn.Linear(256, 18)  # 18 output classes\n",
    "        \n",
    "    def forward(self, x):\n",
    "        # Convolutional layer 1\n",
    "        x = F.relu(self.conv1(x))\n",
    "        x = self.pool(x)\n",
    "        \n",
    "        # Convolutional layer 2\n",
    "        x = F.relu(self.conv2(x))\n",
    "        x = self.pool(x)\n",
    "        \n",
    "        # Convolutional layer 3\n",
    "        x = F.relu(self.conv3(x))\n",
    "        x = self.pool(x)\n",
    "        \n",
    "        # Flatten the tensor for fully connected layers\n",
    "        x = x.view(-1, 128 * 15 * 15)\n",
    "        \n",
    "        # Fully connected layers\n",
    "        x = F.relu(self.fc1(x))\n",
    "        x = self.fc2(x)\n",
    "        \n",
    "        return x"
   ]
  },
  {
   "cell_type": "code",
   "execution_count": 40,
   "id": "4d098c38",
   "metadata": {
    "papermill": {
     "duration": 0.119738,
     "end_time": "2023-09-18T07:02:28.873530",
     "exception": false,
     "start_time": "2023-09-18T07:02:28.753792",
     "status": "completed"
    },
    "tags": []
   },
   "outputs": [
    {
     "name": "stdout",
     "output_type": "stream",
     "text": [
      "Using device cpu\n",
      "NeuralNetwork(\n",
      "  (conv1): Conv2d(3, 32, kernel_size=(3, 3), stride=(1, 1), padding=(1, 1))\n",
      "  (conv2): Conv2d(32, 64, kernel_size=(3, 3), stride=(1, 1), padding=(1, 1))\n",
      "  (conv3): Conv2d(64, 128, kernel_size=(3, 3), stride=(1, 1), padding=(1, 1))\n",
      "  (pool): MaxPool2d(kernel_size=2, stride=2, padding=0, dilation=1, ceil_mode=False)\n",
      "  (fc1): Linear(in_features=28800, out_features=256, bias=True)\n",
      "  (fc2): Linear(in_features=256, out_features=18, bias=True)\n",
      ")\n"
     ]
    }
   ],
   "source": [
    "device = (\n",
    "    \"cuda\"\n",
    "    if torch.cuda.is_available()\n",
    "    else \"mps\"\n",
    "    if torch.backends.mps.is_available()\n",
    "    else \"cpu\"\n",
    ")\n",
    "print(f\"Using device {device}\")\n",
    "\n",
    "model = NeuralNetwork().to(device)\n",
    "print(model)"
   ]
  },
  {
   "cell_type": "code",
   "execution_count": 41,
   "id": "3d197035",
   "metadata": {
    "papermill": {
     "duration": 0.028977,
     "end_time": "2023-09-18T07:02:28.920691",
     "exception": false,
     "start_time": "2023-09-18T07:02:28.891714",
     "status": "completed"
    },
    "tags": []
   },
   "outputs": [],
   "source": [
    "learning_rate = 1e-3\n",
    "batch_size = 32\n",
    "num_epochs = 10"
   ]
  },
  {
   "cell_type": "code",
   "execution_count": 42,
   "id": "e6dec5f8",
   "metadata": {
    "papermill": {
     "duration": 0.027445,
     "end_time": "2023-09-18T07:02:28.966226",
     "exception": false,
     "start_time": "2023-09-18T07:02:28.938781",
     "status": "completed"
    },
    "tags": []
   },
   "outputs": [],
   "source": [
    "criterion = torch.nn.CrossEntropyLoss()\n",
    "optimizer = torch.optim.SGD(model.parameters(), lr=learning_rate) # , momentum=0.9"
   ]
  },
  {
   "cell_type": "code",
   "execution_count": 43,
   "id": "89c02c29",
   "metadata": {
    "papermill": {
     "duration": 1.459529,
     "end_time": "2023-09-18T07:02:30.444018",
     "exception": false,
     "start_time": "2023-09-18T07:02:28.984489",
     "status": "completed"
    },
    "tags": []
   },
   "outputs": [
    {
     "name": "stdout",
     "output_type": "stream",
     "text": [
      "('azelf.png', 'arcanine.png', 'goldeen.png', 'cherrim.png', 'hitmonchan.png', 'combusken.png', 'scizor.png', 'vaporeon.png')\n",
      "('silvally.png', 'dodrio.png', 'victini.png', 'garchomp.png', 'huntail.png', 'geodude.png', 'seadra.png', 'bagon.png')\n",
      "('exploud.png', 'morelull.png', 'hoothoot.png', 'heliolisk.png', 'haxorus.png', 'rattata.png', 'nidorina.png', 'gothita.png')\n",
      "('sealeo.png', 'kyurem.png', 'pheromosa.png', 'ditto.png', 'pyroar.png', 'pangoro.png', 'jumpluff.png', 'pineco.png')\n",
      "('porygon.png', 'meganium.png', 'carnivine.png', 'komala.png', 'aromatisse.png', 'liepard.png', 'teddiursa.png', 'poliwhirl.png')\n",
      "('poliwag.png', 'swellow.png', 'swadloon.png', 'ambipom.png', 'murkrow.png', 'eelektross.png', 'wobbuffet.png', 'pumpkaboo-average.png')\n",
      "('stufful.png', 'ferroseed.png', 'glameow.png', 'excadrill.png', 'lopunny.png', 'charjabug.png', 'slaking.png', 'jolteon.png')\n",
      "('munna.png', 'shieldon.png', 'shroomish.png', 'dewgong.png', 'unown.png', 'wimpod.png', 'ariados.png', 'suicune.png')\n",
      "('gulpin.png', 'smeargle.png', 'aggron.png', 'vanillite.png', 'beedrill.png', 'hitmontop.png', 'purrloin.png', 'heatran.png')\n",
      "('sawsbuck.png', 'garbodor.png', 'plusle.png', 'onix.png', 'mandibuzz.png', 'yanma.png', 'camerupt.png', 'spearow.png')\n",
      "('sandile.png', 'entei.png', 'persian.png', 'stunky.png', 'tornadus-incarnate.png', 'maractus.png', 'pelipper.png', 'primarina.png')\n",
      "('starly.png', 'litleo.png', 'feraligatr.png', 'latias.png', 'rhyperior.png', 'snubbull.png', 'mienfoo.png', 'electrode.png')\n",
      "('tangrowth.png', 'granbull.png', 'regice.png', 'blacephalon.png', 'magearna.png', 'staryu.png', 'roserade.png', 'glaceon.png')\n",
      "('gligar.png', 'croagunk.png', 'cacturne.png', 'klinklang.png', 'bastiodon.png', 'leavanny.png', 'electabuzz.png', 'farfetchd.png')\n",
      "('lotad.png', 'alomomola.png', 'shellder.png', 'fletchinder.png', 'kommo-o.png', 'tapu-bulu.png', 'spoink.png', 'mamoswine.png')\n",
      "('charmeleon.png', 'meloetta-aria.png', 'amoonguss.png', 'forretress.png', 'swablu.png', 'shiinotic.png', 'porygon2.png', 'grotle.png')\n",
      "('parasect.png', 'kakuna.png', 'sneasel.png', 'togepi.png', 'claydol.png', 'cubone.png', 'solrock.png', 'noivern.png')\n",
      "('cinccino.png', 'toxicroak.png', 'lunatone.png', 'castform.png', 'kricketot.png', 'lilligant.png', 'rowlet.png', 'fraxure.png')\n",
      "('cresselia.png', 'slurpuff.png', 'clefairy.png', 'reuniclus.png', 'lucario.png', 'infernape.png', 'woobat.png', 'melmetal.png')\n",
      "('pinsir.png', 'magmortar.png', 'durant.png', 'goomy.png', 'gurdurr.png', 'prinplup.png', 'snover.png', 'solosis.png')\n",
      "('omanyte.png', 'druddigon.png', 'skiploom.png', 'keldeo-ordinary.png', 'weepinbell.png', 'tentacruel.png', 'bidoof.png', 'tympole.png')\n",
      "('abra.png', 'metapod.png', 'seismitoad.png', 'volbeat.png', 'relicanth.png', 'armaldo.png', 'golisopod.png', 'mienshao.png')\n",
      "('chimchar.png', 'gliscor.png', 'horsea.png', 'tangela.png', 'nihilego.png', 'talonflame.png', 'sylveon.png', 'volcanion.png')\n",
      "('lanturn.png', 'inkay.png', 'groudon.png', 'gengar.png', 'honedge.png', 'reshiram.png', 'marill.png', 'kingdra.png')\n",
      "('elgyem.png', 'trumbeak.png', 'gallade.png', 'tapu-koko.png', 'chimecho.png', 'magnezone.png', 'nidoqueen.png', 'lunala.png')\n",
      "('rayquaza.png', 'clauncher.png', 'dusclops.png', 'butterfree.png', 'hitmonlee.png', 'walrein.png', 'tyrunt.png', 'yveltal.png')\n",
      "('nuzleaf.png', 'oranguru.png', 'duosion.png', 'manectric.png', 'grubbin.png', 'raikou.png', 'manaphy.png', 'vibrava.png')\n",
      "('heatmor.png', 'altaria.png', 'roggenrola.png', 'marshadow.png', 'probopass.png', 'spheal.png', 'lileep.png', 'gothitelle.png')\n",
      "('xatu.png', 'lapras.png', 'clefable.png', 'bisharp.png', 'zweilous.png', 'tyrantrum.png', 'houndoom.png', 'muk.png')\n",
      "('chespin.png', 'yamask.png', 'banette.png', 'poliwrath.png', 'panpour.png', 'rhydon.png', 'whimsicott.png', 'dusknoir.png')\n",
      "('chandelure.png', 'kingler.png', 'octillery.png', 'kecleon.png', 'cosmog.png', 'hakamo-o.png', 'heracross.png', 'brionne.png')\n",
      "('wormadam-plant.png', 'archeops.png', 'diancie.png', 'shuppet.png', 'kartana.png', 'joltik.png', 'taillow.png', 'bronzong.png')\n",
      "('piplup.png', 'kirlia.png', 'hydreigon.png', 'rufflet.png', 'duskull.png', 'drapion.png', 'salamence.png', 'nidoran-f.png')\n",
      "('krookodile.png', 'igglybuff.png', 'magcargo.png', 'sceptile.png', 'spinda.png', 'nincada.png', 'weavile.png', 'swampert.png')\n",
      "('regirock.png', 'tirtouga.png', 'caterpie.png', 'gothorita.png', 'politoed.png', 'scolipede.png', 'donphan.png', 'ledian.png')\n",
      "('milotic.png', 'cobalion.png', 'palpitoad.png', 'drowzee.png', 'torracat.png', 'gloom.png', 'makuhita.png', 'haunter.png')\n",
      "('totodile.png', 'skitty.png', 'dustox.png', 'cubchoo.png', 'tepig.png', 'arbok.png', 'genesect.png', 'starmie.png')\n",
      "('zangoose.png', 'bellsprout.png', 'scyther.png', 'metang.png', 'smoochum.png', 'aegislash-blade.png', 'abomasnow.png', 'necrozma.png')\n",
      "('squirtle.png', 'naganadel.png', 'charmander.png', 'zeraora.png', 'goodra.png', 'nidoking.png', 'shelgon.png', 'tauros.png')\n",
      "('lillipup.png', 'skrelp.png', 'elekid.png', 'mudsdale.png', 'jirachi.png', 'fennekin.png', 'togedemaru.png', 'amaura.png')\n",
      "('stoutland.png', 'zygarde-50.png', 'lombre.png', 'sandslash.png', 'darkrai.png', 'pancham.png', 'loudred.png', 'mankey.png')\n",
      "('torchic.png', 'shellos.png', 'mew.png', 'greninja.png', 'golem.png', 'braviary.png', 'grimer.png', 'jynx.png')\n",
      "('tsareena.png', 'boldore.png', 'gardevoir.png', 'magikarp.png', 'kabutops.png', 'pansear.png', 'machop.png', 'kyogre.png')\n",
      "('krabby.png', 'venomoth.png', 'floatzel.png', 'gumshoos.png', 'rockruff.png', 'sunkern.png', 'cacnea.png', 'feebas.png')\n",
      "('aron.png', 'passimian.png', 'crustle.png', 'slowpoke.png', 'landorus-incarnate.png', 'delibird.png', 'seedot.png', 'fletchling.png')\n",
      "('numel.png', 'pidove.png', 'electivire.png', 'tyrogue.png', 'slugma.png', 'ponyta.png', 'serperior.png', 'aipom.png')\n",
      "('sableye.png', 'emolga.png', 'tyranitar.png', 'gastrodon.png', 'sudowoodo.png', 'oricorio-baile.png', 'snivy.png', 'paras.png')\n",
      "('sandygast.png', 'mothim.png', 'bounsweet.png', 'steelix.png', 'eelektrik.png', 'spinarak.png', 'shedinja.png', 'binacle.png')\n",
      "('trubbish.png', 'crawdaunt.png', 'cosmoem.png', 'mismagius.png', 'klink.png', 'florges.png', 'carracosta.png', 'minior-meteor.png')\n",
      "('treecko.png', 'wingull.png', 'dewpider.png', 'mareanie.png', 'spiritomb.png', 'cherubi.png', 'beautifly.png', 'sentret.png')\n",
      "('furret.png', 'pachirisu.png', 'swanna.png', 'pyukumuku.png', 'magnemite.png', 'golurk.png', 'cyndaquil.png', 'skuntank.png')\n",
      "('timburr.png', 'sandshrew.png', 'vanillish.png', 'simipour.png', 'fearow.png', 'weedle.png', 'xerneas.png', 'wishiwashi-solo.png')\n",
      "('fomantis.png', 'buizel.png', 'ursaring.png', 'dewott.png', 'trapinch.png', 'patrat.png', 'gible.png', 'deoxys-normal.png')\n",
      "('kricketune.png', 'herdier.png', 'vigoroth.png', 'pidgeotto.png', 'tentacool.png', 'anorith.png', 'scatterbug.png', 'dragonite.png')\n",
      "('dialga.png', 'psyduck.png', 'silcoon.png', 'samurott.png', 'cloyster.png', 'sigilyph.png', 'chikorita.png', 'mimikyu.png')\n",
      "('celebi.png', 'hawlucha.png', 'lairon.png', 'spritzee.png', 'minccino.png', 'eevee.png', 'chansey.png', 'torterra.png')\n",
      "('empoleon.png', 'pikipek.png', 'seel.png', 'minun.png', 'shaymin-land.png', 'ludicolo.png', 'meowth.png', 'stakataka.png')\n",
      "('absol.png', 'guzzlord.png', 'primeape.png', 'gogoat.png', 'phanpy.png', 'wailord.png', 'gorebyss.png', 'azurill.png')\n",
      "('servine.png', 'happiny.png', 'ducklett.png', 'honchkrow.png', 'meltan.png', 'hippopotas.png', 'dwebble.png', 'emboar.png')\n",
      "('qwilfish.png', 'vanilluxe.png', 'rampardos.png', 'clawitzer.png', 'mantyke.png', 'miltank.png', 'breloom.png', 'slowbro.png')\n",
      "('dedenne.png', 'shiftry.png', 'uxie.png', 'mime-jr.png', 'seaking.png', 'toxapex.png', 'grumpig.png', 'luvdisc.png')\n",
      "('wailmer.png', 'koffing.png', 'klang.png', 'unfezant.png', 'combee.png', 'dugtrio.png', 'togetic.png', 'ho-oh.png')\n",
      "('turtwig.png', 'doduo.png', 'metagross.png', 'surskit.png', 'vikavolt.png', 'incineroar.png', 'bruxish.png', 'scrafty.png')\n",
      "('articuno.png', 'salandit.png', 'bunnelby.png', 'kabuto.png', 'froakie.png', 'snorlax.png', 'venonat.png', 'purugly.png')\n",
      "('growlithe.png', 'hoppip.png', 'nidoran-m.png', 'comfey.png', 'stunfisk.png', 'zapdos.png', 'simisage.png', 'wigglytuff.png')\n",
      "('cradily.png', 'foongus.png', 'zubat.png', 'alakazam.png', 'virizion.png', 'conkeldurr.png', 'drilbur.png', 'musharna.png')\n",
      "('exeggcute.png', 'buzzwole.png', 'medicham.png', 'palkia.png', 'froslass.png', 'rhyhorn.png', 'slakoth.png', 'seviper.png')\n",
      "('meowstic-male.png', 'poipole.png', 'aurorus.png', 'pansage.png', 'vespiquen.png', 'bayleef.png', 'snorunt.png', 'dartrix.png')\n",
      "('skiddo.png', 'zigzagoon.png', 'vivillon.png', 'lickitung.png', 'hypno.png', 'spewpa.png', 'barbaracle.png', 'raticate.png')\n",
      "('bewear.png', 'wartortle.png', 'pidgey.png', 'beartic.png', 'glalie.png', 'salazzle.png', 'oddish.png', 'decidueye.png')\n",
      "('krokorok.png', 'cleffa.png', 'yungoos.png', 'shuckle.png', 'throh.png', 'charizard.png', 'registeel.png', 'turtonator.png')\n",
      "('quagsire.png', 'drampa.png', 'toucannon.png', 'venusaur.png', 'solgaleo.png', 'noibat.png', 'celesteela.png', 'rotom.png')\n",
      "('flaaffy.png', 'whirlipede.png', 'tapu-fini.png', 'pignite.png', 'cryogonal.png', 'swoobat.png', 'regigigas.png', 'lickilicky.png')\n",
      "('frillish.png', 'typhlosion.png', 'braixen.png', 'kadabra.png', 'lycanroc-midday.png', 'flygon.png', 'diglett.png', 'luxio.png')\n",
      "('klefki.png', 'oshawott.png', 'mightyena.png', 'cofagrigus.png', 'grovyle.png', 'litwick.png', 'remoraid.png', 'slowking.png')\n",
      "('ribombee.png', 'axew.png', 'simisear.png', 'pidgeot.png', 'karrablast.png', 'tropius.png', 'dragonair.png', 'vullaby.png')\n",
      "('bouffalant.png', 'ferrothorn.png', 'jangmo-o.png', 'magneton.png', 'golbat.png', 'blissey.png', 'deino.png', 'ledyba.png')\n",
      "('nidorino.png', 'drifloon.png', 'luxray.png', 'exeggutor.png', 'lurantis.png', 'umbreon.png', 'mudkip.png', 'ivysaur.png')\n",
      "('sliggoo.png', 'mesprit.png', 'bronzor.png', 'dunsparce.png', 'trevenant.png', 'phantump.png', 'tynamo.png', 'sawk.png')\n",
      "('ekans.png', 'linoone.png', 'beldum.png', 'type-null.png', 'lampent.png', 'popplio.png', 'palossand.png', 'jellicent.png')\n",
      "('bergmite.png', 'terrakion.png', 'thundurus-incarnate.png', 'blaziken.png', 'gyarados.png', 'beheeyem.png', 'crabominable.png', 'pikachu.png')\n",
      "('noctowl.png', 'quilladin.png', 'galvantula.png', 'gourgeist-average.png', 'whismur.png', 'yanmega.png', 'marowak.png', 'archen.png')\n",
      "('dhelmise.png', 'meditite.png', 'wynaut.png', 'kangaskhan.png', 'frogadier.png', 'baltoy.png', 'petilil.png', 'deerling.png')\n",
      "('avalugg.png', 'accelgor.png', 'sewaddle.png', 'torkoal.png', 'hariyama.png', 'blitzle.png', 'wurmple.png', 'floette.png')\n",
      "('steenee.png', 'chingling.png', 'ralts.png', 'porygon-z.png', 'barboach.png', 'bellossom.png', 'tapu-lele.png', 'natu.png')\n",
      "('wooper.png', 'blastoise.png', 'mareep.png', 'skorupi.png', 'dragalge.png', 'lugia.png', 'arceus.png', 'bulbasaur.png')\n",
      "('araquanid.png', 'hoopa-confined.png', 'latios.png', 'mawile.png', 'venipede.png', 'crobat.png', 'skarmory.png', 'illumise.png')\n",
      "('munchlax.png', 'moltres.png', 'larvitar.png', 'carbink.png', 'jigglypuff.png', 'cranidos.png', 'chatot.png', 'helioptile.png')\n",
      "('omastar.png', 'roselia.png', 'swinub.png', 'zoroark.png', 'gigalith.png', 'houndour.png', 'phione.png', 'riolu.png')\n",
      "('magby.png', 'golett.png', 'tranquill.png', 'vulpix.png', 'bonsly.png', 'machoke.png', 'staravia.png', 'raichu.png')\n",
      "('delcatty.png', 'poochyena.png', 'chinchou.png', 'gastly.png', 'shinx.png', 'quilava.png', 'furfrou.png', 'hippowdon.png')\n",
      "('golduck.png', 'buneary.png', 'rapidash.png', 'monferno.png', 'flareon.png', 'aerodactyl.png', 'flabebe.png', 'staraptor.png')\n",
      "('ampharos.png', 'zekrom.png', 'whiscash.png', 'electrike.png', 'nosepass.png', 'gabite.png', 'sharpedo.png', 'scraggy.png')\n",
      "('volcarona.png', 'pupitar.png', 'mudbray.png', 'clamperl.png', 'marshtomp.png', 'mr-mime.png', 'drifblim.png', 'cascoon.png')\n",
      "('swirlix.png', 'togekiss.png', 'ninetales.png', 'malamar.png', 'watchog.png', 'diggersby.png', 'escavalier.png', 'crabrawler.png')\n",
      "('mewtwo.png', 'xurkitree.png', 'pichu.png', 'delphox.png', 'leafeon.png', 'swalot.png', 'basculin-red-striped.png', 'mantine.png')\n",
      "('victreebel.png', 'burmy.png', 'audino.png', 'misdreavus.png', 'shelmet.png', 'espurr.png', 'bibarel.png', 'ninjask.png')\n",
      "('cutiefly.png', 'giratina-altered.png', 'finneon.png', 'machamp.png', 'sunflora.png', 'zorua.png', 'corphish.png', 'doublade.png')\n",
      "('carvanha.png', 'chesnaught.png', 'budew.png', 'magmar.png', 'stantler.png', 'corsola.png', 'larvesta.png', 'graveler.png')\n",
      "('masquerain.png', 'vileplume.png', 'zebstrika.png', 'lumineon.png', 'espeon.png', 'piloswine.png', 'dratini.png', 'croconaw.png')\n",
      "('voltorb.png', 'pawniard.png', 'darmanitan-standard.png', 'litten.png', 'girafarig.png', 'weezing.png', 'azumarill.png', 'darumaka.png')\n",
      "('cottonee.png',)\n"
     ]
    }
   ],
   "source": [
    "for images, labels in train_dataloader:\n",
    "    print(labels)"
   ]
  },
  {
   "cell_type": "code",
   "execution_count": 44,
   "id": "ffb7c3c8",
   "metadata": {
    "papermill": {
     "duration": 0.031516,
     "end_time": "2023-09-18T07:02:30.495086",
     "exception": false,
     "start_time": "2023-09-18T07:02:30.463570",
     "status": "completed"
    },
    "tags": []
   },
   "outputs": [
    {
     "name": "stdout",
     "output_type": "stream",
     "text": [
      "model device: cpu\n",
      "input device: cpu\n"
     ]
    }
   ],
   "source": [
    "model_device = next(model.parameters()).device\n",
    "input_device = images.device\n",
    "print(f\"model device: {model_device}\")\n",
    "print(f\"input device: {input_device}\")"
   ]
  },
  {
   "cell_type": "code",
   "execution_count": 46,
   "id": "61e4d9b0",
   "metadata": {
    "papermill": {
     "duration": 121.355265,
     "end_time": "2023-09-18T07:04:31.869621",
     "exception": false,
     "start_time": "2023-09-18T07:02:30.514356",
     "status": "completed"
    },
    "tags": []
   },
   "outputs": [],
   "source": [
    "import os\n",
    "from PIL import Image\n",
    "import torch\n",
    "from torch.utils.data import Dataset\n",
    "import torchvision.transforms as transforms\n",
    "\n",
    "# Define transformations, including ToTensor\n",
    "transform = transforms.Compose([\n",
    "    transforms.RandomHorizontalFlip(p=0.5),\n",
    "    transforms.RandomRotation(degrees=15),\n",
    "    transforms.ColorJitter(brightness=0.1, contrast=0.1, saturation=0.1, hue=0.1),\n",
    "    transforms.GaussianBlur(kernel_size=3),\n",
    "    transforms.Resize((120, 120)),  # Ensure images are resized to the correct input size\n",
    "    transforms.ToTensor()  # Add ToTensor to convert PIL images to tensors\n",
    "])\n",
    "\n",
    "# Custom Dataset class to load images from the folder\n",
    "class CustomImageDataset(Dataset):\n",
    "    def __init__(self, image_folder, transform=None):\n",
    "        self.image_folder = image_folder\n",
    "        self.transform = transform\n",
    "        self.image_filenames = [f for f in os.listdir(image_folder) if f.endswith('.jpg') or f.endswith('.png')]  # Adjust for your image types\n",
    "\n",
    "    def __len__(self):\n",
    "        return len(self.image_filenames)\n",
    "\n",
    "    def __getitem__(self, idx):\n",
    "        img_path = os.path.join(self.image_folder, self.image_filenames[idx])\n",
    "        image = Image.open(img_path).convert('RGB')  # Convert image to RGB to ensure 3 channels\n",
    "        if self.transform:\n",
    "            image = self.transform(image)\n",
    "        return image, self.image_filenames[idx]\n",
    "\n",
    "# Usage\n",
    "image_folder = \"E:\\sugi\\sem 7\\Deep Learning\\Pokemon\\images\"  # Replace with your image folder path\n",
    "dataset = CustomImageDataset(image_folder, transform=transform)\n",
    "train_dataloader = torch.utils.data.DataLoader(dataset, batch_size=8, shuffle=True)\n"
   ]
  },
  {
   "cell_type": "code",
   "execution_count": 57,
   "id": "1c3359ee-5823-44f5-95d6-584637327aa8",
   "metadata": {},
   "outputs": [
    {
     "name": "stderr",
     "output_type": "stream",
     "text": [
      "C:\\Users\\sugirdha\\anaconda3\\lib\\site-packages\\torchvision\\models\\_utils.py:208: UserWarning: The parameter 'pretrained' is deprecated since 0.13 and may be removed in the future, please use 'weights' instead.\n",
      "  warnings.warn(\n",
      "C:\\Users\\sugirdha\\anaconda3\\lib\\site-packages\\torchvision\\models\\_utils.py:223: UserWarning: Arguments other than a weight enum or `None` for 'weights' are deprecated since 0.13 and may be removed in the future. The current behavior is equivalent to passing `weights=ResNet18_Weights.IMAGENET1K_V1`. You can also use `weights=ResNet18_Weights.DEFAULT` to get the most up-to-date weights.\n",
      "  warnings.warn(msg)\n",
      "100%|████████████████████████████████████████████████████████████████████████████████| 102/102 [00:45<00:00,  2.25it/s]\n"
     ]
    },
    {
     "name": "stdout",
     "output_type": "stream",
     "text": [
      "Epoch [1/5], Loss: 8.6403\n"
     ]
    },
    {
     "name": "stderr",
     "output_type": "stream",
     "text": [
      "100%|████████████████████████████████████████████████████████████████████████████████| 102/102 [00:27<00:00,  3.73it/s]\n"
     ]
    },
    {
     "name": "stdout",
     "output_type": "stream",
     "text": [
      "Epoch [2/5], Loss: 7.6436\n"
     ]
    },
    {
     "name": "stderr",
     "output_type": "stream",
     "text": [
      "100%|████████████████████████████████████████████████████████████████████████████████| 102/102 [00:29<00:00,  3.42it/s]\n"
     ]
    },
    {
     "name": "stdout",
     "output_type": "stream",
     "text": [
      "Epoch [3/5], Loss: 7.2275\n"
     ]
    },
    {
     "name": "stderr",
     "output_type": "stream",
     "text": [
      "100%|████████████████████████████████████████████████████████████████████████████████| 102/102 [00:29<00:00,  3.41it/s]\n"
     ]
    },
    {
     "name": "stdout",
     "output_type": "stream",
     "text": [
      "Epoch [4/5], Loss: 6.9223\n"
     ]
    },
    {
     "name": "stderr",
     "output_type": "stream",
     "text": [
      "100%|████████████████████████████████████████████████████████████████████████████████| 102/102 [00:29<00:00,  3.43it/s]"
     ]
    },
    {
     "name": "stdout",
     "output_type": "stream",
     "text": [
      "Epoch [5/5], Loss: 6.7651\n"
     ]
    },
    {
     "name": "stderr",
     "output_type": "stream",
     "text": [
      "\n"
     ]
    }
   ],
   "source": [
    "import os\n",
    "from PIL import Image\n",
    "import torch\n",
    "from torch.utils.data import Dataset\n",
    "import torchvision.transforms as transforms\n",
    "import torch.nn as nn\n",
    "import torch.optim as optim\n",
    "from torchvision import models\n",
    "from tqdm import tqdm\n",
    "from sklearn.preprocessing import LabelEncoder\n",
    "\n",
    "# Define transformations\n",
    "transform = transforms.Compose([\n",
    "    transforms.RandomHorizontalFlip(p=0.5),\n",
    "    transforms.RandomRotation(degrees=15),\n",
    "    transforms.ColorJitter(brightness=0.1, contrast=0.1, saturation=0.1, hue=0.1),\n",
    "    transforms.GaussianBlur(kernel_size=3),\n",
    "    transforms.Resize((120, 120)),\n",
    "    transforms.ToTensor()\n",
    "])\n",
    "\n",
    "# Custom Dataset class\n",
    "class CustomImageDataset(Dataset):\n",
    "    def __init__(self, image_folder, transform=None):\n",
    "        self.image_folder = image_folder\n",
    "        self.transform = transform\n",
    "        self.image_filenames = [f for f in os.listdir(image_folder) if f.endswith('.jpg') or f.endswith('.png')]\n",
    "        \n",
    "        # Extract class names from folder names (Assuming images are organized in subfolders)\n",
    "        self.class_names = os.listdir(image_folder)\n",
    "        self.label_encoder = LabelEncoder()\n",
    "        self.label_encoder.fit(self.class_names)\n",
    "\n",
    "        # Create a mapping of image filenames to labels\n",
    "        self.image_labels = [self.label_encoder.transform([os.path.split(f)[-1].split('_')[0]])[0] for f in self.image_filenames]\n",
    "\n",
    "    def __len__(self):\n",
    "        return len(self.image_filenames)\n",
    "\n",
    "    def __getitem__(self, idx):\n",
    "        img_path = os.path.join(self.image_folder, self.image_filenames[idx])\n",
    "        image = Image.open(img_path).convert('RGB')\n",
    "        label = self.image_labels[idx]\n",
    "\n",
    "        if self.transform:\n",
    "            image = self.transform(image)\n",
    "\n",
    "        # Convert label to LongTensor\n",
    "        label = torch.tensor(label, dtype=torch.long)  # Ensure label is LongTensor\n",
    "\n",
    "        return image, label\n",
    "\n",
    "# Usage\n",
    "image_folder = \"E:\\sugi\\sem 7\\Deep Learning\\Pokemon\\images\"  # Replace with your image folder path\n",
    "dataset = CustomImageDataset(image_folder, transform=transform)\n",
    "\n",
    "# Define num_classes\n",
    "num_classes = len(dataset.label_encoder.classes_)  # This gets the number of unique classes\n",
    "\n",
    "train_dataloader = torch.utils.data.DataLoader(dataset, batch_size=8, shuffle=True)\n",
    "\n",
    "# Check if CUDA is available and set device\n",
    "device = torch.device(\"cuda\" if torch.cuda.is_available() else \"cpu\")\n",
    "\n",
    "# Define your model (using ResNet18 as an example)\n",
    "model = models.resnet18(pretrained=True)\n",
    "model.fc = nn.Linear(model.fc.in_features, num_classes)  # Use the actual number of classes\n",
    "model = model.to(device)\n",
    "\n",
    "# Define loss function and optimizer\n",
    "criterion = nn.CrossEntropyLoss()\n",
    "optimizer = optim.Adam(model.parameters(), lr=0.001)\n",
    "\n",
    "# Training function\n",
    "def train_model(model, dataloader, criterion, optimizer, num_epochs=5):\n",
    "    model.train()\n",
    "    for epoch in range(num_epochs):\n",
    "        running_loss = 0.0\n",
    "        for images, labels in tqdm(dataloader):\n",
    "            images = images.to(device)\n",
    "            labels = labels.to(device)\n",
    "\n",
    "            optimizer.zero_grad()\n",
    "            outputs = model(images)\n",
    "            loss = criterion(outputs, labels)\n",
    "            running_loss += loss.item()\n",
    "\n",
    "            loss.backward()\n",
    "            optimizer.step()\n",
    "\n",
    "        epoch_loss = running_loss / len(dataloader)\n",
    "        print(f'Epoch [{epoch + 1}/{num_epochs}], Loss: {epoch_loss:.4f}')\n",
    "\n",
    "# Start training\n",
    "train_model(model, train_dataloader, criterion, optimizer, num_epochs=5)\n"
   ]
  },
  {
   "cell_type": "code",
   "execution_count": 58,
   "id": "0b6dac86-7a3a-4725-bcad-114eeb272bb1",
   "metadata": {},
   "outputs": [
    {
     "name": "stdout",
     "output_type": "stream",
     "text": [
      "torch.Size([1, 3, 120, 120]) tensor(808)\n"
     ]
    },
    {
     "data": {
      "image/png": "[encoded data removed]",
      "text/plain": [
       "<Figure size 640x480 with 1 Axes>"
      ]
     },
     "metadata": {},
     "output_type": "display_data"
    }
   ],
   "source": [
    "import matplotlib.pyplot as plt\n",
    "import numpy as np\n",
    "\n",
    "# Get the last image and its label from the dataset\n",
    "image, label = dataset[-1]\n",
    "image = image.unsqueeze(0).to(device)  # Add a batch dimension and move to device\n",
    "\n",
    "print(image.shape, label)\n",
    "\n",
    "# Make predictions with the model\n",
    "model.eval()  # Set the model to evaluation mode\n",
    "with torch.no_grad():  # Disable gradient computation for inference\n",
    "    pred = model(image)\n",
    "\n",
    "# Convert the Torch tensor to a NumPy array\n",
    "numpy_array = pred.cpu().detach().numpy()\n",
    "\n",
    "# Flatten the array (since it has a shape of (1, num_classes), we can flatten it)\n",
    "flattened_array = numpy_array.flatten()\n",
    "\n",
    "# Create a bar plot of the flattened array\n",
    "plt.bar(range(len(flattened_array)), flattened_array)\n",
    "plt.xlabel('Class')\n",
    "plt.ylabel('Confidence')\n",
    "plt.xticks(range(len(flattened_array)))  # Update to reflect the number of classes\n",
    "plt.title(f'Classification Probability (Real: {label})')\n",
    "plt.show()\n"
   ]
  },
  {
   "cell_type": "markdown",
   "id": "b3a73aa2-3cd4-494b-bb0e-d69fbf652aed",
   "metadata": {},
   "source": [
    "# PREDICTION USING PYTORCH "
   ]
  },
  {
   "cell_type": "code",
   "execution_count": 63,
   "id": "39cb5bd9-55af-41d7-9c10-88bf3442ff5c",
   "metadata": {},
   "outputs": [],
   "source": [
    "import torch\n",
    "import matplotlib.pyplot as plt\n",
    "from torchvision.io import read_image\n",
    "import pandas as pd\n",
    "import glob\n",
    "from sklearn.preprocessing import LabelEncoder\n",
    "import torch.nn as nn\n"
   ]
  },
  {
   "cell_type": "code",
   "execution_count": 64,
   "id": "ccba339a-d33c-45ed-8936-33a81eafdbd5",
   "metadata": {
    "scrolled": true
   },
   "outputs": [
    {
     "name": "stdout",
     "output_type": "stream",
     "text": [
      "['E:\\\\sugi\\\\sem 7\\\\Deep Learning\\\\Pokemon\\\\images\\\\abomasnow.png', 'E:\\\\sugi\\\\sem 7\\\\Deep Learning\\\\Pokemon\\\\images\\\\abra.png', 'E:\\\\sugi\\\\sem 7\\\\Deep Learning\\\\Pokemon\\\\images\\\\absol.png', 'E:\\\\sugi\\\\sem 7\\\\Deep Learning\\\\Pokemon\\\\images\\\\accelgor.png', 'E:\\\\sugi\\\\sem 7\\\\Deep Learning\\\\Pokemon\\\\images\\\\aegislash-blade.png', 'E:\\\\sugi\\\\sem 7\\\\Deep Learning\\\\Pokemon\\\\images\\\\aerodactyl.png', 'E:\\\\sugi\\\\sem 7\\\\Deep Learning\\\\Pokemon\\\\images\\\\aggron.png', 'E:\\\\sugi\\\\sem 7\\\\Deep Learning\\\\Pokemon\\\\images\\\\aipom.png', 'E:\\\\sugi\\\\sem 7\\\\Deep Learning\\\\Pokemon\\\\images\\\\alakazam.png', 'E:\\\\sugi\\\\sem 7\\\\Deep Learning\\\\Pokemon\\\\images\\\\alomomola.png', 'E:\\\\sugi\\\\sem 7\\\\Deep Learning\\\\Pokemon\\\\images\\\\altaria.png', 'E:\\\\sugi\\\\sem 7\\\\Deep Learning\\\\Pokemon\\\\images\\\\amaura.png', 'E:\\\\sugi\\\\sem 7\\\\Deep Learning\\\\Pokemon\\\\images\\\\ambipom.png', 'E:\\\\sugi\\\\sem 7\\\\Deep Learning\\\\Pokemon\\\\images\\\\amoonguss.png', 'E:\\\\sugi\\\\sem 7\\\\Deep Learning\\\\Pokemon\\\\images\\\\ampharos.png', 'E:\\\\sugi\\\\sem 7\\\\Deep Learning\\\\Pokemon\\\\images\\\\anorith.png', 'E:\\\\sugi\\\\sem 7\\\\Deep Learning\\\\Pokemon\\\\images\\\\araquanid.png', 'E:\\\\sugi\\\\sem 7\\\\Deep Learning\\\\Pokemon\\\\images\\\\arbok.png', 'E:\\\\sugi\\\\sem 7\\\\Deep Learning\\\\Pokemon\\\\images\\\\arcanine.png', 'E:\\\\sugi\\\\sem 7\\\\Deep Learning\\\\Pokemon\\\\images\\\\arceus.png', 'E:\\\\sugi\\\\sem 7\\\\Deep Learning\\\\Pokemon\\\\images\\\\archen.png', 'E:\\\\sugi\\\\sem 7\\\\Deep Learning\\\\Pokemon\\\\images\\\\archeops.png', 'E:\\\\sugi\\\\sem 7\\\\Deep Learning\\\\Pokemon\\\\images\\\\ariados.png', 'E:\\\\sugi\\\\sem 7\\\\Deep Learning\\\\Pokemon\\\\images\\\\armaldo.png', 'E:\\\\sugi\\\\sem 7\\\\Deep Learning\\\\Pokemon\\\\images\\\\aromatisse.png', 'E:\\\\sugi\\\\sem 7\\\\Deep Learning\\\\Pokemon\\\\images\\\\aron.png', 'E:\\\\sugi\\\\sem 7\\\\Deep Learning\\\\Pokemon\\\\images\\\\articuno.png', 'E:\\\\sugi\\\\sem 7\\\\Deep Learning\\\\Pokemon\\\\images\\\\audino.png', 'E:\\\\sugi\\\\sem 7\\\\Deep Learning\\\\Pokemon\\\\images\\\\aurorus.png', 'E:\\\\sugi\\\\sem 7\\\\Deep Learning\\\\Pokemon\\\\images\\\\avalugg.png', 'E:\\\\sugi\\\\sem 7\\\\Deep Learning\\\\Pokemon\\\\images\\\\axew.png', 'E:\\\\sugi\\\\sem 7\\\\Deep Learning\\\\Pokemon\\\\images\\\\azelf.png', 'E:\\\\sugi\\\\sem 7\\\\Deep Learning\\\\Pokemon\\\\images\\\\azumarill.png', 'E:\\\\sugi\\\\sem 7\\\\Deep Learning\\\\Pokemon\\\\images\\\\azurill.png', 'E:\\\\sugi\\\\sem 7\\\\Deep Learning\\\\Pokemon\\\\images\\\\bagon.png', 'E:\\\\sugi\\\\sem 7\\\\Deep Learning\\\\Pokemon\\\\images\\\\baltoy.png', 'E:\\\\sugi\\\\sem 7\\\\Deep Learning\\\\Pokemon\\\\images\\\\banette.png', 'E:\\\\sugi\\\\sem 7\\\\Deep Learning\\\\Pokemon\\\\images\\\\barbaracle.png', 'E:\\\\sugi\\\\sem 7\\\\Deep Learning\\\\Pokemon\\\\images\\\\barboach.png', 'E:\\\\sugi\\\\sem 7\\\\Deep Learning\\\\Pokemon\\\\images\\\\basculin-red-striped.png', 'E:\\\\sugi\\\\sem 7\\\\Deep Learning\\\\Pokemon\\\\images\\\\bastiodon.png', 'E:\\\\sugi\\\\sem 7\\\\Deep Learning\\\\Pokemon\\\\images\\\\bayleef.png', 'E:\\\\sugi\\\\sem 7\\\\Deep Learning\\\\Pokemon\\\\images\\\\beartic.png', 'E:\\\\sugi\\\\sem 7\\\\Deep Learning\\\\Pokemon\\\\images\\\\beautifly.png', 'E:\\\\sugi\\\\sem 7\\\\Deep Learning\\\\Pokemon\\\\images\\\\beedrill.png', 'E:\\\\sugi\\\\sem 7\\\\Deep Learning\\\\Pokemon\\\\images\\\\beheeyem.png', 'E:\\\\sugi\\\\sem 7\\\\Deep Learning\\\\Pokemon\\\\images\\\\beldum.png', 'E:\\\\sugi\\\\sem 7\\\\Deep Learning\\\\Pokemon\\\\images\\\\bellossom.png', 'E:\\\\sugi\\\\sem 7\\\\Deep Learning\\\\Pokemon\\\\images\\\\bellsprout.png', 'E:\\\\sugi\\\\sem 7\\\\Deep Learning\\\\Pokemon\\\\images\\\\bergmite.png', 'E:\\\\sugi\\\\sem 7\\\\Deep Learning\\\\Pokemon\\\\images\\\\bewear.png', 'E:\\\\sugi\\\\sem 7\\\\Deep Learning\\\\Pokemon\\\\images\\\\bibarel.png', 'E:\\\\sugi\\\\sem 7\\\\Deep Learning\\\\Pokemon\\\\images\\\\bidoof.png', 'E:\\\\sugi\\\\sem 7\\\\Deep Learning\\\\Pokemon\\\\images\\\\binacle.png', 'E:\\\\sugi\\\\sem 7\\\\Deep Learning\\\\Pokemon\\\\images\\\\bisharp.png', 'E:\\\\sugi\\\\sem 7\\\\Deep Learning\\\\Pokemon\\\\images\\\\blacephalon.png', 'E:\\\\sugi\\\\sem 7\\\\Deep Learning\\\\Pokemon\\\\images\\\\blastoise.png', 'E:\\\\sugi\\\\sem 7\\\\Deep Learning\\\\Pokemon\\\\images\\\\blaziken.png', 'E:\\\\sugi\\\\sem 7\\\\Deep Learning\\\\Pokemon\\\\images\\\\blissey.png', 'E:\\\\sugi\\\\sem 7\\\\Deep Learning\\\\Pokemon\\\\images\\\\blitzle.png', 'E:\\\\sugi\\\\sem 7\\\\Deep Learning\\\\Pokemon\\\\images\\\\boldore.png', 'E:\\\\sugi\\\\sem 7\\\\Deep Learning\\\\Pokemon\\\\images\\\\bonsly.png', 'E:\\\\sugi\\\\sem 7\\\\Deep Learning\\\\Pokemon\\\\images\\\\bouffalant.png', 'E:\\\\sugi\\\\sem 7\\\\Deep Learning\\\\Pokemon\\\\images\\\\bounsweet.png', 'E:\\\\sugi\\\\sem 7\\\\Deep Learning\\\\Pokemon\\\\images\\\\braixen.png', 'E:\\\\sugi\\\\sem 7\\\\Deep Learning\\\\Pokemon\\\\images\\\\braviary.png', 'E:\\\\sugi\\\\sem 7\\\\Deep Learning\\\\Pokemon\\\\images\\\\breloom.png', 'E:\\\\sugi\\\\sem 7\\\\Deep Learning\\\\Pokemon\\\\images\\\\brionne.png', 'E:\\\\sugi\\\\sem 7\\\\Deep Learning\\\\Pokemon\\\\images\\\\bronzong.png', 'E:\\\\sugi\\\\sem 7\\\\Deep Learning\\\\Pokemon\\\\images\\\\bronzor.png', 'E:\\\\sugi\\\\sem 7\\\\Deep Learning\\\\Pokemon\\\\images\\\\bruxish.png', 'E:\\\\sugi\\\\sem 7\\\\Deep Learning\\\\Pokemon\\\\images\\\\budew.png', 'E:\\\\sugi\\\\sem 7\\\\Deep Learning\\\\Pokemon\\\\images\\\\buizel.png', 'E:\\\\sugi\\\\sem 7\\\\Deep Learning\\\\Pokemon\\\\images\\\\bulbasaur.png', 'E:\\\\sugi\\\\sem 7\\\\Deep Learning\\\\Pokemon\\\\images\\\\buneary.png', 'E:\\\\sugi\\\\sem 7\\\\Deep Learning\\\\Pokemon\\\\images\\\\bunnelby.png', 'E:\\\\sugi\\\\sem 7\\\\Deep Learning\\\\Pokemon\\\\images\\\\burmy.png', 'E:\\\\sugi\\\\sem 7\\\\Deep Learning\\\\Pokemon\\\\images\\\\butterfree.png', 'E:\\\\sugi\\\\sem 7\\\\Deep Learning\\\\Pokemon\\\\images\\\\buzzwole.png', 'E:\\\\sugi\\\\sem 7\\\\Deep Learning\\\\Pokemon\\\\images\\\\cacnea.png', 'E:\\\\sugi\\\\sem 7\\\\Deep Learning\\\\Pokemon\\\\images\\\\cacturne.png', 'E:\\\\sugi\\\\sem 7\\\\Deep Learning\\\\Pokemon\\\\images\\\\camerupt.png', 'E:\\\\sugi\\\\sem 7\\\\Deep Learning\\\\Pokemon\\\\images\\\\carbink.png', 'E:\\\\sugi\\\\sem 7\\\\Deep Learning\\\\Pokemon\\\\images\\\\carnivine.png', 'E:\\\\sugi\\\\sem 7\\\\Deep Learning\\\\Pokemon\\\\images\\\\carracosta.png', 'E:\\\\sugi\\\\sem 7\\\\Deep Learning\\\\Pokemon\\\\images\\\\carvanha.png', 'E:\\\\sugi\\\\sem 7\\\\Deep Learning\\\\Pokemon\\\\images\\\\cascoon.png', 'E:\\\\sugi\\\\sem 7\\\\Deep Learning\\\\Pokemon\\\\images\\\\castform.png', 'E:\\\\sugi\\\\sem 7\\\\Deep Learning\\\\Pokemon\\\\images\\\\caterpie.png', 'E:\\\\sugi\\\\sem 7\\\\Deep Learning\\\\Pokemon\\\\images\\\\celebi.png', 'E:\\\\sugi\\\\sem 7\\\\Deep Learning\\\\Pokemon\\\\images\\\\celesteela.png', 'E:\\\\sugi\\\\sem 7\\\\Deep Learning\\\\Pokemon\\\\images\\\\chandelure.png', 'E:\\\\sugi\\\\sem 7\\\\Deep Learning\\\\Pokemon\\\\images\\\\chansey.png', 'E:\\\\sugi\\\\sem 7\\\\Deep Learning\\\\Pokemon\\\\images\\\\charizard.png', 'E:\\\\sugi\\\\sem 7\\\\Deep Learning\\\\Pokemon\\\\images\\\\charjabug.png', 'E:\\\\sugi\\\\sem 7\\\\Deep Learning\\\\Pokemon\\\\images\\\\charmander.png', 'E:\\\\sugi\\\\sem 7\\\\Deep Learning\\\\Pokemon\\\\images\\\\charmeleon.png', 'E:\\\\sugi\\\\sem 7\\\\Deep Learning\\\\Pokemon\\\\images\\\\chatot.png', 'E:\\\\sugi\\\\sem 7\\\\Deep Learning\\\\Pokemon\\\\images\\\\cherrim.png', 'E:\\\\sugi\\\\sem 7\\\\Deep Learning\\\\Pokemon\\\\images\\\\cherubi.png', 'E:\\\\sugi\\\\sem 7\\\\Deep Learning\\\\Pokemon\\\\images\\\\chesnaught.png', 'E:\\\\sugi\\\\sem 7\\\\Deep Learning\\\\Pokemon\\\\images\\\\chespin.png', 'E:\\\\sugi\\\\sem 7\\\\Deep Learning\\\\Pokemon\\\\images\\\\chikorita.png', 'E:\\\\sugi\\\\sem 7\\\\Deep Learning\\\\Pokemon\\\\images\\\\chimchar.png', 'E:\\\\sugi\\\\sem 7\\\\Deep Learning\\\\Pokemon\\\\images\\\\chimecho.png', 'E:\\\\sugi\\\\sem 7\\\\Deep Learning\\\\Pokemon\\\\images\\\\chinchou.png', 'E:\\\\sugi\\\\sem 7\\\\Deep Learning\\\\Pokemon\\\\images\\\\chingling.png', 'E:\\\\sugi\\\\sem 7\\\\Deep Learning\\\\Pokemon\\\\images\\\\cinccino.png', 'E:\\\\sugi\\\\sem 7\\\\Deep Learning\\\\Pokemon\\\\images\\\\clamperl.png', 'E:\\\\sugi\\\\sem 7\\\\Deep Learning\\\\Pokemon\\\\images\\\\clauncher.png', 'E:\\\\sugi\\\\sem 7\\\\Deep Learning\\\\Pokemon\\\\images\\\\clawitzer.png', 'E:\\\\sugi\\\\sem 7\\\\Deep Learning\\\\Pokemon\\\\images\\\\claydol.png', 'E:\\\\sugi\\\\sem 7\\\\Deep Learning\\\\Pokemon\\\\images\\\\clefable.png', 'E:\\\\sugi\\\\sem 7\\\\Deep Learning\\\\Pokemon\\\\images\\\\clefairy.png', 'E:\\\\sugi\\\\sem 7\\\\Deep Learning\\\\Pokemon\\\\images\\\\cleffa.png', 'E:\\\\sugi\\\\sem 7\\\\Deep Learning\\\\Pokemon\\\\images\\\\cloyster.png', 'E:\\\\sugi\\\\sem 7\\\\Deep Learning\\\\Pokemon\\\\images\\\\cobalion.png', 'E:\\\\sugi\\\\sem 7\\\\Deep Learning\\\\Pokemon\\\\images\\\\cofagrigus.png', 'E:\\\\sugi\\\\sem 7\\\\Deep Learning\\\\Pokemon\\\\images\\\\combee.png', 'E:\\\\sugi\\\\sem 7\\\\Deep Learning\\\\Pokemon\\\\images\\\\combusken.png', 'E:\\\\sugi\\\\sem 7\\\\Deep Learning\\\\Pokemon\\\\images\\\\comfey.png', 'E:\\\\sugi\\\\sem 7\\\\Deep Learning\\\\Pokemon\\\\images\\\\conkeldurr.png', 'E:\\\\sugi\\\\sem 7\\\\Deep Learning\\\\Pokemon\\\\images\\\\corphish.png', 'E:\\\\sugi\\\\sem 7\\\\Deep Learning\\\\Pokemon\\\\images\\\\corsola.png', 'E:\\\\sugi\\\\sem 7\\\\Deep Learning\\\\Pokemon\\\\images\\\\cosmoem.png', 'E:\\\\sugi\\\\sem 7\\\\Deep Learning\\\\Pokemon\\\\images\\\\cosmog.png', 'E:\\\\sugi\\\\sem 7\\\\Deep Learning\\\\Pokemon\\\\images\\\\cottonee.png', 'E:\\\\sugi\\\\sem 7\\\\Deep Learning\\\\Pokemon\\\\images\\\\crabominable.png', 'E:\\\\sugi\\\\sem 7\\\\Deep Learning\\\\Pokemon\\\\images\\\\crabrawler.png', 'E:\\\\sugi\\\\sem 7\\\\Deep Learning\\\\Pokemon\\\\images\\\\cradily.png', 'E:\\\\sugi\\\\sem 7\\\\Deep Learning\\\\Pokemon\\\\images\\\\cranidos.png', 'E:\\\\sugi\\\\sem 7\\\\Deep Learning\\\\Pokemon\\\\images\\\\crawdaunt.png', 'E:\\\\sugi\\\\sem 7\\\\Deep Learning\\\\Pokemon\\\\images\\\\cresselia.png', 'E:\\\\sugi\\\\sem 7\\\\Deep Learning\\\\Pokemon\\\\images\\\\croagunk.png', 'E:\\\\sugi\\\\sem 7\\\\Deep Learning\\\\Pokemon\\\\images\\\\crobat.png', 'E:\\\\sugi\\\\sem 7\\\\Deep Learning\\\\Pokemon\\\\images\\\\croconaw.png', 'E:\\\\sugi\\\\sem 7\\\\Deep Learning\\\\Pokemon\\\\images\\\\crustle.png', 'E:\\\\sugi\\\\sem 7\\\\Deep Learning\\\\Pokemon\\\\images\\\\cryogonal.png', 'E:\\\\sugi\\\\sem 7\\\\Deep Learning\\\\Pokemon\\\\images\\\\cubchoo.png', 'E:\\\\sugi\\\\sem 7\\\\Deep Learning\\\\Pokemon\\\\images\\\\cubone.png', 'E:\\\\sugi\\\\sem 7\\\\Deep Learning\\\\Pokemon\\\\images\\\\cutiefly.png', 'E:\\\\sugi\\\\sem 7\\\\Deep Learning\\\\Pokemon\\\\images\\\\cyndaquil.png', 'E:\\\\sugi\\\\sem 7\\\\Deep Learning\\\\Pokemon\\\\images\\\\darkrai.png', 'E:\\\\sugi\\\\sem 7\\\\Deep Learning\\\\Pokemon\\\\images\\\\darmanitan-standard.png', 'E:\\\\sugi\\\\sem 7\\\\Deep Learning\\\\Pokemon\\\\images\\\\dartrix.png', 'E:\\\\sugi\\\\sem 7\\\\Deep Learning\\\\Pokemon\\\\images\\\\darumaka.png', 'E:\\\\sugi\\\\sem 7\\\\Deep Learning\\\\Pokemon\\\\images\\\\decidueye.png', 'E:\\\\sugi\\\\sem 7\\\\Deep Learning\\\\Pokemon\\\\images\\\\dedenne.png', 'E:\\\\sugi\\\\sem 7\\\\Deep Learning\\\\Pokemon\\\\images\\\\deerling.png', 'E:\\\\sugi\\\\sem 7\\\\Deep Learning\\\\Pokemon\\\\images\\\\deino.png', 'E:\\\\sugi\\\\sem 7\\\\Deep Learning\\\\Pokemon\\\\images\\\\delcatty.png', 'E:\\\\sugi\\\\sem 7\\\\Deep Learning\\\\Pokemon\\\\images\\\\delibird.png', 'E:\\\\sugi\\\\sem 7\\\\Deep Learning\\\\Pokemon\\\\images\\\\delphox.png', 'E:\\\\sugi\\\\sem 7\\\\Deep Learning\\\\Pokemon\\\\images\\\\deoxys-normal.png', 'E:\\\\sugi\\\\sem 7\\\\Deep Learning\\\\Pokemon\\\\images\\\\dewgong.png', 'E:\\\\sugi\\\\sem 7\\\\Deep Learning\\\\Pokemon\\\\images\\\\dewott.png', 'E:\\\\sugi\\\\sem 7\\\\Deep Learning\\\\Pokemon\\\\images\\\\dewpider.png', 'E:\\\\sugi\\\\sem 7\\\\Deep Learning\\\\Pokemon\\\\images\\\\dhelmise.png', 'E:\\\\sugi\\\\sem 7\\\\Deep Learning\\\\Pokemon\\\\images\\\\dialga.png', 'E:\\\\sugi\\\\sem 7\\\\Deep Learning\\\\Pokemon\\\\images\\\\diancie.png', 'E:\\\\sugi\\\\sem 7\\\\Deep Learning\\\\Pokemon\\\\images\\\\diggersby.png', 'E:\\\\sugi\\\\sem 7\\\\Deep Learning\\\\Pokemon\\\\images\\\\diglett.png', 'E:\\\\sugi\\\\sem 7\\\\Deep Learning\\\\Pokemon\\\\images\\\\ditto.png', 'E:\\\\sugi\\\\sem 7\\\\Deep Learning\\\\Pokemon\\\\images\\\\dodrio.png', 'E:\\\\sugi\\\\sem 7\\\\Deep Learning\\\\Pokemon\\\\images\\\\doduo.png', 'E:\\\\sugi\\\\sem 7\\\\Deep Learning\\\\Pokemon\\\\images\\\\donphan.png', 'E:\\\\sugi\\\\sem 7\\\\Deep Learning\\\\Pokemon\\\\images\\\\doublade.png', 'E:\\\\sugi\\\\sem 7\\\\Deep Learning\\\\Pokemon\\\\images\\\\dragalge.png', 'E:\\\\sugi\\\\sem 7\\\\Deep Learning\\\\Pokemon\\\\images\\\\dragonair.png', 'E:\\\\sugi\\\\sem 7\\\\Deep Learning\\\\Pokemon\\\\images\\\\dragonite.png', 'E:\\\\sugi\\\\sem 7\\\\Deep Learning\\\\Pokemon\\\\images\\\\drampa.png', 'E:\\\\sugi\\\\sem 7\\\\Deep Learning\\\\Pokemon\\\\images\\\\drapion.png', 'E:\\\\sugi\\\\sem 7\\\\Deep Learning\\\\Pokemon\\\\images\\\\dratini.png', 'E:\\\\sugi\\\\sem 7\\\\Deep Learning\\\\Pokemon\\\\images\\\\drifblim.png', 'E:\\\\sugi\\\\sem 7\\\\Deep Learning\\\\Pokemon\\\\images\\\\drifloon.png', 'E:\\\\sugi\\\\sem 7\\\\Deep Learning\\\\Pokemon\\\\images\\\\drilbur.png', 'E:\\\\sugi\\\\sem 7\\\\Deep Learning\\\\Pokemon\\\\images\\\\drowzee.png', 'E:\\\\sugi\\\\sem 7\\\\Deep Learning\\\\Pokemon\\\\images\\\\druddigon.png', 'E:\\\\sugi\\\\sem 7\\\\Deep Learning\\\\Pokemon\\\\images\\\\ducklett.png', 'E:\\\\sugi\\\\sem 7\\\\Deep Learning\\\\Pokemon\\\\images\\\\dugtrio.png', 'E:\\\\sugi\\\\sem 7\\\\Deep Learning\\\\Pokemon\\\\images\\\\dunsparce.png', 'E:\\\\sugi\\\\sem 7\\\\Deep Learning\\\\Pokemon\\\\images\\\\duosion.png', 'E:\\\\sugi\\\\sem 7\\\\Deep Learning\\\\Pokemon\\\\images\\\\durant.png', 'E:\\\\sugi\\\\sem 7\\\\Deep Learning\\\\Pokemon\\\\images\\\\dusclops.png', 'E:\\\\sugi\\\\sem 7\\\\Deep Learning\\\\Pokemon\\\\images\\\\dusknoir.png', 'E:\\\\sugi\\\\sem 7\\\\Deep Learning\\\\Pokemon\\\\images\\\\duskull.png', 'E:\\\\sugi\\\\sem 7\\\\Deep Learning\\\\Pokemon\\\\images\\\\dustox.png', 'E:\\\\sugi\\\\sem 7\\\\Deep Learning\\\\Pokemon\\\\images\\\\dwebble.png', 'E:\\\\sugi\\\\sem 7\\\\Deep Learning\\\\Pokemon\\\\images\\\\eelektrik.png', 'E:\\\\sugi\\\\sem 7\\\\Deep Learning\\\\Pokemon\\\\images\\\\eelektross.png', 'E:\\\\sugi\\\\sem 7\\\\Deep Learning\\\\Pokemon\\\\images\\\\eevee.png', 'E:\\\\sugi\\\\sem 7\\\\Deep Learning\\\\Pokemon\\\\images\\\\ekans.png', 'E:\\\\sugi\\\\sem 7\\\\Deep Learning\\\\Pokemon\\\\images\\\\electabuzz.png', 'E:\\\\sugi\\\\sem 7\\\\Deep Learning\\\\Pokemon\\\\images\\\\electivire.png', 'E:\\\\sugi\\\\sem 7\\\\Deep Learning\\\\Pokemon\\\\images\\\\electrike.png', 'E:\\\\sugi\\\\sem 7\\\\Deep Learning\\\\Pokemon\\\\images\\\\electrode.png', 'E:\\\\sugi\\\\sem 7\\\\Deep Learning\\\\Pokemon\\\\images\\\\elekid.png', 'E:\\\\sugi\\\\sem 7\\\\Deep Learning\\\\Pokemon\\\\images\\\\elgyem.png', 'E:\\\\sugi\\\\sem 7\\\\Deep Learning\\\\Pokemon\\\\images\\\\emboar.png', 'E:\\\\sugi\\\\sem 7\\\\Deep Learning\\\\Pokemon\\\\images\\\\emolga.png', 'E:\\\\sugi\\\\sem 7\\\\Deep Learning\\\\Pokemon\\\\images\\\\empoleon.png', 'E:\\\\sugi\\\\sem 7\\\\Deep Learning\\\\Pokemon\\\\images\\\\entei.png', 'E:\\\\sugi\\\\sem 7\\\\Deep Learning\\\\Pokemon\\\\images\\\\escavalier.png', 'E:\\\\sugi\\\\sem 7\\\\Deep Learning\\\\Pokemon\\\\images\\\\espeon.png', 'E:\\\\sugi\\\\sem 7\\\\Deep Learning\\\\Pokemon\\\\images\\\\espurr.png', 'E:\\\\sugi\\\\sem 7\\\\Deep Learning\\\\Pokemon\\\\images\\\\excadrill.png', 'E:\\\\sugi\\\\sem 7\\\\Deep Learning\\\\Pokemon\\\\images\\\\exeggcute.png', 'E:\\\\sugi\\\\sem 7\\\\Deep Learning\\\\Pokemon\\\\images\\\\exeggutor.png', 'E:\\\\sugi\\\\sem 7\\\\Deep Learning\\\\Pokemon\\\\images\\\\exploud.png', 'E:\\\\sugi\\\\sem 7\\\\Deep Learning\\\\Pokemon\\\\images\\\\farfetchd.png', 'E:\\\\sugi\\\\sem 7\\\\Deep Learning\\\\Pokemon\\\\images\\\\fearow.png', 'E:\\\\sugi\\\\sem 7\\\\Deep Learning\\\\Pokemon\\\\images\\\\feebas.png', 'E:\\\\sugi\\\\sem 7\\\\Deep Learning\\\\Pokemon\\\\images\\\\fennekin.png', 'E:\\\\sugi\\\\sem 7\\\\Deep Learning\\\\Pokemon\\\\images\\\\feraligatr.png', 'E:\\\\sugi\\\\sem 7\\\\Deep Learning\\\\Pokemon\\\\images\\\\ferroseed.png', 'E:\\\\sugi\\\\sem 7\\\\Deep Learning\\\\Pokemon\\\\images\\\\ferrothorn.png', 'E:\\\\sugi\\\\sem 7\\\\Deep Learning\\\\Pokemon\\\\images\\\\finneon.png', 'E:\\\\sugi\\\\sem 7\\\\Deep Learning\\\\Pokemon\\\\images\\\\flaaffy.png', 'E:\\\\sugi\\\\sem 7\\\\Deep Learning\\\\Pokemon\\\\images\\\\flabebe.png', 'E:\\\\sugi\\\\sem 7\\\\Deep Learning\\\\Pokemon\\\\images\\\\flareon.png', 'E:\\\\sugi\\\\sem 7\\\\Deep Learning\\\\Pokemon\\\\images\\\\fletchinder.png', 'E:\\\\sugi\\\\sem 7\\\\Deep Learning\\\\Pokemon\\\\images\\\\fletchling.png', 'E:\\\\sugi\\\\sem 7\\\\Deep Learning\\\\Pokemon\\\\images\\\\floatzel.png', 'E:\\\\sugi\\\\sem 7\\\\Deep Learning\\\\Pokemon\\\\images\\\\floette.png', 'E:\\\\sugi\\\\sem 7\\\\Deep Learning\\\\Pokemon\\\\images\\\\florges.png', 'E:\\\\sugi\\\\sem 7\\\\Deep Learning\\\\Pokemon\\\\images\\\\flygon.png', 'E:\\\\sugi\\\\sem 7\\\\Deep Learning\\\\Pokemon\\\\images\\\\fomantis.png', 'E:\\\\sugi\\\\sem 7\\\\Deep Learning\\\\Pokemon\\\\images\\\\foongus.png', 'E:\\\\sugi\\\\sem 7\\\\Deep Learning\\\\Pokemon\\\\images\\\\forretress.png', 'E:\\\\sugi\\\\sem 7\\\\Deep Learning\\\\Pokemon\\\\images\\\\fraxure.png', 'E:\\\\sugi\\\\sem 7\\\\Deep Learning\\\\Pokemon\\\\images\\\\frillish.png', 'E:\\\\sugi\\\\sem 7\\\\Deep Learning\\\\Pokemon\\\\images\\\\froakie.png', 'E:\\\\sugi\\\\sem 7\\\\Deep Learning\\\\Pokemon\\\\images\\\\frogadier.png', 'E:\\\\sugi\\\\sem 7\\\\Deep Learning\\\\Pokemon\\\\images\\\\froslass.png', 'E:\\\\sugi\\\\sem 7\\\\Deep Learning\\\\Pokemon\\\\images\\\\furfrou.png', 'E:\\\\sugi\\\\sem 7\\\\Deep Learning\\\\Pokemon\\\\images\\\\furret.png', 'E:\\\\sugi\\\\sem 7\\\\Deep Learning\\\\Pokemon\\\\images\\\\gabite.png', 'E:\\\\sugi\\\\sem 7\\\\Deep Learning\\\\Pokemon\\\\images\\\\gallade.png', 'E:\\\\sugi\\\\sem 7\\\\Deep Learning\\\\Pokemon\\\\images\\\\galvantula.png', 'E:\\\\sugi\\\\sem 7\\\\Deep Learning\\\\Pokemon\\\\images\\\\garbodor.png', 'E:\\\\sugi\\\\sem 7\\\\Deep Learning\\\\Pokemon\\\\images\\\\garchomp.png', 'E:\\\\sugi\\\\sem 7\\\\Deep Learning\\\\Pokemon\\\\images\\\\gardevoir.png', 'E:\\\\sugi\\\\sem 7\\\\Deep Learning\\\\Pokemon\\\\images\\\\gastly.png', 'E:\\\\sugi\\\\sem 7\\\\Deep Learning\\\\Pokemon\\\\images\\\\gastrodon.png', 'E:\\\\sugi\\\\sem 7\\\\Deep Learning\\\\Pokemon\\\\images\\\\genesect.png', 'E:\\\\sugi\\\\sem 7\\\\Deep Learning\\\\Pokemon\\\\images\\\\gengar.png', 'E:\\\\sugi\\\\sem 7\\\\Deep Learning\\\\Pokemon\\\\images\\\\geodude.png', 'E:\\\\sugi\\\\sem 7\\\\Deep Learning\\\\Pokemon\\\\images\\\\gible.png', 'E:\\\\sugi\\\\sem 7\\\\Deep Learning\\\\Pokemon\\\\images\\\\gigalith.png', 'E:\\\\sugi\\\\sem 7\\\\Deep Learning\\\\Pokemon\\\\images\\\\girafarig.png', 'E:\\\\sugi\\\\sem 7\\\\Deep Learning\\\\Pokemon\\\\images\\\\giratina-altered.png', 'E:\\\\sugi\\\\sem 7\\\\Deep Learning\\\\Pokemon\\\\images\\\\glaceon.png', 'E:\\\\sugi\\\\sem 7\\\\Deep Learning\\\\Pokemon\\\\images\\\\glalie.png', 'E:\\\\sugi\\\\sem 7\\\\Deep Learning\\\\Pokemon\\\\images\\\\glameow.png', 'E:\\\\sugi\\\\sem 7\\\\Deep Learning\\\\Pokemon\\\\images\\\\gligar.png', 'E:\\\\sugi\\\\sem 7\\\\Deep Learning\\\\Pokemon\\\\images\\\\gliscor.png', 'E:\\\\sugi\\\\sem 7\\\\Deep Learning\\\\Pokemon\\\\images\\\\gloom.png', 'E:\\\\sugi\\\\sem 7\\\\Deep Learning\\\\Pokemon\\\\images\\\\gogoat.png', 'E:\\\\sugi\\\\sem 7\\\\Deep Learning\\\\Pokemon\\\\images\\\\golbat.png', 'E:\\\\sugi\\\\sem 7\\\\Deep Learning\\\\Pokemon\\\\images\\\\goldeen.png', 'E:\\\\sugi\\\\sem 7\\\\Deep Learning\\\\Pokemon\\\\images\\\\golduck.png', 'E:\\\\sugi\\\\sem 7\\\\Deep Learning\\\\Pokemon\\\\images\\\\golem.png', 'E:\\\\sugi\\\\sem 7\\\\Deep Learning\\\\Pokemon\\\\images\\\\golett.png', 'E:\\\\sugi\\\\sem 7\\\\Deep Learning\\\\Pokemon\\\\images\\\\golisopod.png', 'E:\\\\sugi\\\\sem 7\\\\Deep Learning\\\\Pokemon\\\\images\\\\golurk.png', 'E:\\\\sugi\\\\sem 7\\\\Deep Learning\\\\Pokemon\\\\images\\\\goodra.png', 'E:\\\\sugi\\\\sem 7\\\\Deep Learning\\\\Pokemon\\\\images\\\\goomy.png', 'E:\\\\sugi\\\\sem 7\\\\Deep Learning\\\\Pokemon\\\\images\\\\gorebyss.png', 'E:\\\\sugi\\\\sem 7\\\\Deep Learning\\\\Pokemon\\\\images\\\\gothita.png', 'E:\\\\sugi\\\\sem 7\\\\Deep Learning\\\\Pokemon\\\\images\\\\gothitelle.png', 'E:\\\\sugi\\\\sem 7\\\\Deep Learning\\\\Pokemon\\\\images\\\\gothorita.png', 'E:\\\\sugi\\\\sem 7\\\\Deep Learning\\\\Pokemon\\\\images\\\\gourgeist-average.png', 'E:\\\\sugi\\\\sem 7\\\\Deep Learning\\\\Pokemon\\\\images\\\\granbull.png', 'E:\\\\sugi\\\\sem 7\\\\Deep Learning\\\\Pokemon\\\\images\\\\graveler.png', 'E:\\\\sugi\\\\sem 7\\\\Deep Learning\\\\Pokemon\\\\images\\\\greninja.png', 'E:\\\\sugi\\\\sem 7\\\\Deep Learning\\\\Pokemon\\\\images\\\\grimer.png', 'E:\\\\sugi\\\\sem 7\\\\Deep Learning\\\\Pokemon\\\\images\\\\grotle.png', 'E:\\\\sugi\\\\sem 7\\\\Deep Learning\\\\Pokemon\\\\images\\\\groudon.png', 'E:\\\\sugi\\\\sem 7\\\\Deep Learning\\\\Pokemon\\\\images\\\\grovyle.png', 'E:\\\\sugi\\\\sem 7\\\\Deep Learning\\\\Pokemon\\\\images\\\\growlithe.png', 'E:\\\\sugi\\\\sem 7\\\\Deep Learning\\\\Pokemon\\\\images\\\\grubbin.png', 'E:\\\\sugi\\\\sem 7\\\\Deep Learning\\\\Pokemon\\\\images\\\\grumpig.png', 'E:\\\\sugi\\\\sem 7\\\\Deep Learning\\\\Pokemon\\\\images\\\\gulpin.png', 'E:\\\\sugi\\\\sem 7\\\\Deep Learning\\\\Pokemon\\\\images\\\\gumshoos.png', 'E:\\\\sugi\\\\sem 7\\\\Deep Learning\\\\Pokemon\\\\images\\\\gurdurr.png', 'E:\\\\sugi\\\\sem 7\\\\Deep Learning\\\\Pokemon\\\\images\\\\guzzlord.png', 'E:\\\\sugi\\\\sem 7\\\\Deep Learning\\\\Pokemon\\\\images\\\\gyarados.png', 'E:\\\\sugi\\\\sem 7\\\\Deep Learning\\\\Pokemon\\\\images\\\\hakamo-o.png', 'E:\\\\sugi\\\\sem 7\\\\Deep Learning\\\\Pokemon\\\\images\\\\happiny.png', 'E:\\\\sugi\\\\sem 7\\\\Deep Learning\\\\Pokemon\\\\images\\\\hariyama.png', 'E:\\\\sugi\\\\sem 7\\\\Deep Learning\\\\Pokemon\\\\images\\\\haunter.png', 'E:\\\\sugi\\\\sem 7\\\\Deep Learning\\\\Pokemon\\\\images\\\\hawlucha.png', 'E:\\\\sugi\\\\sem 7\\\\Deep Learning\\\\Pokemon\\\\images\\\\haxorus.png', 'E:\\\\sugi\\\\sem 7\\\\Deep Learning\\\\Pokemon\\\\images\\\\heatmor.png', 'E:\\\\sugi\\\\sem 7\\\\Deep Learning\\\\Pokemon\\\\images\\\\heatran.png', 'E:\\\\sugi\\\\sem 7\\\\Deep Learning\\\\Pokemon\\\\images\\\\heliolisk.png', 'E:\\\\sugi\\\\sem 7\\\\Deep Learning\\\\Pokemon\\\\images\\\\helioptile.png', 'E:\\\\sugi\\\\sem 7\\\\Deep Learning\\\\Pokemon\\\\images\\\\heracross.png', 'E:\\\\sugi\\\\sem 7\\\\Deep Learning\\\\Pokemon\\\\images\\\\herdier.png', 'E:\\\\sugi\\\\sem 7\\\\Deep Learning\\\\Pokemon\\\\images\\\\hippopotas.png', 'E:\\\\sugi\\\\sem 7\\\\Deep Learning\\\\Pokemon\\\\images\\\\hippowdon.png', 'E:\\\\sugi\\\\sem 7\\\\Deep Learning\\\\Pokemon\\\\images\\\\hitmonchan.png', 'E:\\\\sugi\\\\sem 7\\\\Deep Learning\\\\Pokemon\\\\images\\\\hitmonlee.png', 'E:\\\\sugi\\\\sem 7\\\\Deep Learning\\\\Pokemon\\\\images\\\\hitmontop.png', 'E:\\\\sugi\\\\sem 7\\\\Deep Learning\\\\Pokemon\\\\images\\\\ho-oh.png', 'E:\\\\sugi\\\\sem 7\\\\Deep Learning\\\\Pokemon\\\\images\\\\honchkrow.png', 'E:\\\\sugi\\\\sem 7\\\\Deep Learning\\\\Pokemon\\\\images\\\\honedge.png', 'E:\\\\sugi\\\\sem 7\\\\Deep Learning\\\\Pokemon\\\\images\\\\hoopa-confined.png', 'E:\\\\sugi\\\\sem 7\\\\Deep Learning\\\\Pokemon\\\\images\\\\hoothoot.png', 'E:\\\\sugi\\\\sem 7\\\\Deep Learning\\\\Pokemon\\\\images\\\\hoppip.png', 'E:\\\\sugi\\\\sem 7\\\\Deep Learning\\\\Pokemon\\\\images\\\\horsea.png', 'E:\\\\sugi\\\\sem 7\\\\Deep Learning\\\\Pokemon\\\\images\\\\houndoom.png', 'E:\\\\sugi\\\\sem 7\\\\Deep Learning\\\\Pokemon\\\\images\\\\houndour.png', 'E:\\\\sugi\\\\sem 7\\\\Deep Learning\\\\Pokemon\\\\images\\\\huntail.png', 'E:\\\\sugi\\\\sem 7\\\\Deep Learning\\\\Pokemon\\\\images\\\\hydreigon.png', 'E:\\\\sugi\\\\sem 7\\\\Deep Learning\\\\Pokemon\\\\images\\\\hypno.png', 'E:\\\\sugi\\\\sem 7\\\\Deep Learning\\\\Pokemon\\\\images\\\\igglybuff.png', 'E:\\\\sugi\\\\sem 7\\\\Deep Learning\\\\Pokemon\\\\images\\\\illumise.png', 'E:\\\\sugi\\\\sem 7\\\\Deep Learning\\\\Pokemon\\\\images\\\\incineroar.png', 'E:\\\\sugi\\\\sem 7\\\\Deep Learning\\\\Pokemon\\\\images\\\\infernape.png', 'E:\\\\sugi\\\\sem 7\\\\Deep Learning\\\\Pokemon\\\\images\\\\inkay.png', 'E:\\\\sugi\\\\sem 7\\\\Deep Learning\\\\Pokemon\\\\images\\\\ivysaur.png', 'E:\\\\sugi\\\\sem 7\\\\Deep Learning\\\\Pokemon\\\\images\\\\jangmo-o.png', 'E:\\\\sugi\\\\sem 7\\\\Deep Learning\\\\Pokemon\\\\images\\\\jellicent.png', 'E:\\\\sugi\\\\sem 7\\\\Deep Learning\\\\Pokemon\\\\images\\\\jigglypuff.png', 'E:\\\\sugi\\\\sem 7\\\\Deep Learning\\\\Pokemon\\\\images\\\\jirachi.png', 'E:\\\\sugi\\\\sem 7\\\\Deep Learning\\\\Pokemon\\\\images\\\\jolteon.png', 'E:\\\\sugi\\\\sem 7\\\\Deep Learning\\\\Pokemon\\\\images\\\\joltik.png', 'E:\\\\sugi\\\\sem 7\\\\Deep Learning\\\\Pokemon\\\\images\\\\jumpluff.png', 'E:\\\\sugi\\\\sem 7\\\\Deep Learning\\\\Pokemon\\\\images\\\\jynx.png', 'E:\\\\sugi\\\\sem 7\\\\Deep Learning\\\\Pokemon\\\\images\\\\kabuto.png', 'E:\\\\sugi\\\\sem 7\\\\Deep Learning\\\\Pokemon\\\\images\\\\kabutops.png', 'E:\\\\sugi\\\\sem 7\\\\Deep Learning\\\\Pokemon\\\\images\\\\kadabra.png', 'E:\\\\sugi\\\\sem 7\\\\Deep Learning\\\\Pokemon\\\\images\\\\kakuna.png', 'E:\\\\sugi\\\\sem 7\\\\Deep Learning\\\\Pokemon\\\\images\\\\kangaskhan.png', 'E:\\\\sugi\\\\sem 7\\\\Deep Learning\\\\Pokemon\\\\images\\\\karrablast.png', 'E:\\\\sugi\\\\sem 7\\\\Deep Learning\\\\Pokemon\\\\images\\\\kartana.png', 'E:\\\\sugi\\\\sem 7\\\\Deep Learning\\\\Pokemon\\\\images\\\\kecleon.png', 'E:\\\\sugi\\\\sem 7\\\\Deep Learning\\\\Pokemon\\\\images\\\\keldeo-ordinary.png', 'E:\\\\sugi\\\\sem 7\\\\Deep Learning\\\\Pokemon\\\\images\\\\kingdra.png', 'E:\\\\sugi\\\\sem 7\\\\Deep Learning\\\\Pokemon\\\\images\\\\kingler.png', 'E:\\\\sugi\\\\sem 7\\\\Deep Learning\\\\Pokemon\\\\images\\\\kirlia.png', 'E:\\\\sugi\\\\sem 7\\\\Deep Learning\\\\Pokemon\\\\images\\\\klang.png', 'E:\\\\sugi\\\\sem 7\\\\Deep Learning\\\\Pokemon\\\\images\\\\klefki.png', 'E:\\\\sugi\\\\sem 7\\\\Deep Learning\\\\Pokemon\\\\images\\\\klink.png', 'E:\\\\sugi\\\\sem 7\\\\Deep Learning\\\\Pokemon\\\\images\\\\klinklang.png', 'E:\\\\sugi\\\\sem 7\\\\Deep Learning\\\\Pokemon\\\\images\\\\koffing.png', 'E:\\\\sugi\\\\sem 7\\\\Deep Learning\\\\Pokemon\\\\images\\\\komala.png', 'E:\\\\sugi\\\\sem 7\\\\Deep Learning\\\\Pokemon\\\\images\\\\kommo-o.png', 'E:\\\\sugi\\\\sem 7\\\\Deep Learning\\\\Pokemon\\\\images\\\\krabby.png', 'E:\\\\sugi\\\\sem 7\\\\Deep Learning\\\\Pokemon\\\\images\\\\kricketot.png', 'E:\\\\sugi\\\\sem 7\\\\Deep Learning\\\\Pokemon\\\\images\\\\kricketune.png', 'E:\\\\sugi\\\\sem 7\\\\Deep Learning\\\\Pokemon\\\\images\\\\krokorok.png', 'E:\\\\sugi\\\\sem 7\\\\Deep Learning\\\\Pokemon\\\\images\\\\krookodile.png', 'E:\\\\sugi\\\\sem 7\\\\Deep Learning\\\\Pokemon\\\\images\\\\kyogre.png', 'E:\\\\sugi\\\\sem 7\\\\Deep Learning\\\\Pokemon\\\\images\\\\kyurem.png', 'E:\\\\sugi\\\\sem 7\\\\Deep Learning\\\\Pokemon\\\\images\\\\lairon.png', 'E:\\\\sugi\\\\sem 7\\\\Deep Learning\\\\Pokemon\\\\images\\\\lampent.png', 'E:\\\\sugi\\\\sem 7\\\\Deep Learning\\\\Pokemon\\\\images\\\\landorus-incarnate.png', 'E:\\\\sugi\\\\sem 7\\\\Deep Learning\\\\Pokemon\\\\images\\\\lanturn.png', 'E:\\\\sugi\\\\sem 7\\\\Deep Learning\\\\Pokemon\\\\images\\\\lapras.png', 'E:\\\\sugi\\\\sem 7\\\\Deep Learning\\\\Pokemon\\\\images\\\\larvesta.png', 'E:\\\\sugi\\\\sem 7\\\\Deep Learning\\\\Pokemon\\\\images\\\\larvitar.png', 'E:\\\\sugi\\\\sem 7\\\\Deep Learning\\\\Pokemon\\\\images\\\\latias.png', 'E:\\\\sugi\\\\sem 7\\\\Deep Learning\\\\Pokemon\\\\images\\\\latios.png', 'E:\\\\sugi\\\\sem 7\\\\Deep Learning\\\\Pokemon\\\\images\\\\leafeon.png', 'E:\\\\sugi\\\\sem 7\\\\Deep Learning\\\\Pokemon\\\\images\\\\leavanny.png', 'E:\\\\sugi\\\\sem 7\\\\Deep Learning\\\\Pokemon\\\\images\\\\ledian.png', 'E:\\\\sugi\\\\sem 7\\\\Deep Learning\\\\Pokemon\\\\images\\\\ledyba.png', 'E:\\\\sugi\\\\sem 7\\\\Deep Learning\\\\Pokemon\\\\images\\\\lickilicky.png', 'E:\\\\sugi\\\\sem 7\\\\Deep Learning\\\\Pokemon\\\\images\\\\lickitung.png', 'E:\\\\sugi\\\\sem 7\\\\Deep Learning\\\\Pokemon\\\\images\\\\liepard.png', 'E:\\\\sugi\\\\sem 7\\\\Deep Learning\\\\Pokemon\\\\images\\\\lileep.png', 'E:\\\\sugi\\\\sem 7\\\\Deep Learning\\\\Pokemon\\\\images\\\\lilligant.png', 'E:\\\\sugi\\\\sem 7\\\\Deep Learning\\\\Pokemon\\\\images\\\\lillipup.png', 'E:\\\\sugi\\\\sem 7\\\\Deep Learning\\\\Pokemon\\\\images\\\\linoone.png', 'E:\\\\sugi\\\\sem 7\\\\Deep Learning\\\\Pokemon\\\\images\\\\litleo.png', 'E:\\\\sugi\\\\sem 7\\\\Deep Learning\\\\Pokemon\\\\images\\\\litten.png', 'E:\\\\sugi\\\\sem 7\\\\Deep Learning\\\\Pokemon\\\\images\\\\litwick.png', 'E:\\\\sugi\\\\sem 7\\\\Deep Learning\\\\Pokemon\\\\images\\\\lombre.png', 'E:\\\\sugi\\\\sem 7\\\\Deep Learning\\\\Pokemon\\\\images\\\\lopunny.png', 'E:\\\\sugi\\\\sem 7\\\\Deep Learning\\\\Pokemon\\\\images\\\\lotad.png', 'E:\\\\sugi\\\\sem 7\\\\Deep Learning\\\\Pokemon\\\\images\\\\loudred.png', 'E:\\\\sugi\\\\sem 7\\\\Deep Learning\\\\Pokemon\\\\images\\\\lucario.png', 'E:\\\\sugi\\\\sem 7\\\\Deep Learning\\\\Pokemon\\\\images\\\\ludicolo.png', 'E:\\\\sugi\\\\sem 7\\\\Deep Learning\\\\Pokemon\\\\images\\\\lugia.png', 'E:\\\\sugi\\\\sem 7\\\\Deep Learning\\\\Pokemon\\\\images\\\\lumineon.png', 'E:\\\\sugi\\\\sem 7\\\\Deep Learning\\\\Pokemon\\\\images\\\\lunala.png', 'E:\\\\sugi\\\\sem 7\\\\Deep Learning\\\\Pokemon\\\\images\\\\lunatone.png', 'E:\\\\sugi\\\\sem 7\\\\Deep Learning\\\\Pokemon\\\\images\\\\lurantis.png', 'E:\\\\sugi\\\\sem 7\\\\Deep Learning\\\\Pokemon\\\\images\\\\luvdisc.png', 'E:\\\\sugi\\\\sem 7\\\\Deep Learning\\\\Pokemon\\\\images\\\\luxio.png', 'E:\\\\sugi\\\\sem 7\\\\Deep Learning\\\\Pokemon\\\\images\\\\luxray.png', 'E:\\\\sugi\\\\sem 7\\\\Deep Learning\\\\Pokemon\\\\images\\\\lycanroc-midday.png', 'E:\\\\sugi\\\\sem 7\\\\Deep Learning\\\\Pokemon\\\\images\\\\machamp.png', 'E:\\\\sugi\\\\sem 7\\\\Deep Learning\\\\Pokemon\\\\images\\\\machoke.png', 'E:\\\\sugi\\\\sem 7\\\\Deep Learning\\\\Pokemon\\\\images\\\\machop.png', 'E:\\\\sugi\\\\sem 7\\\\Deep Learning\\\\Pokemon\\\\images\\\\magby.png', 'E:\\\\sugi\\\\sem 7\\\\Deep Learning\\\\Pokemon\\\\images\\\\magcargo.png', 'E:\\\\sugi\\\\sem 7\\\\Deep Learning\\\\Pokemon\\\\images\\\\magearna.png', 'E:\\\\sugi\\\\sem 7\\\\Deep Learning\\\\Pokemon\\\\images\\\\magikarp.png', 'E:\\\\sugi\\\\sem 7\\\\Deep Learning\\\\Pokemon\\\\images\\\\magmar.png', 'E:\\\\sugi\\\\sem 7\\\\Deep Learning\\\\Pokemon\\\\images\\\\magmortar.png', 'E:\\\\sugi\\\\sem 7\\\\Deep Learning\\\\Pokemon\\\\images\\\\magnemite.png', 'E:\\\\sugi\\\\sem 7\\\\Deep Learning\\\\Pokemon\\\\images\\\\magneton.png', 'E:\\\\sugi\\\\sem 7\\\\Deep Learning\\\\Pokemon\\\\images\\\\magnezone.png', 'E:\\\\sugi\\\\sem 7\\\\Deep Learning\\\\Pokemon\\\\images\\\\makuhita.png', 'E:\\\\sugi\\\\sem 7\\\\Deep Learning\\\\Pokemon\\\\images\\\\malamar.png', 'E:\\\\sugi\\\\sem 7\\\\Deep Learning\\\\Pokemon\\\\images\\\\mamoswine.png', 'E:\\\\sugi\\\\sem 7\\\\Deep Learning\\\\Pokemon\\\\images\\\\manaphy.png', 'E:\\\\sugi\\\\sem 7\\\\Deep Learning\\\\Pokemon\\\\images\\\\mandibuzz.png', 'E:\\\\sugi\\\\sem 7\\\\Deep Learning\\\\Pokemon\\\\images\\\\manectric.png', 'E:\\\\sugi\\\\sem 7\\\\Deep Learning\\\\Pokemon\\\\images\\\\mankey.png', 'E:\\\\sugi\\\\sem 7\\\\Deep Learning\\\\Pokemon\\\\images\\\\mantine.png', 'E:\\\\sugi\\\\sem 7\\\\Deep Learning\\\\Pokemon\\\\images\\\\mantyke.png', 'E:\\\\sugi\\\\sem 7\\\\Deep Learning\\\\Pokemon\\\\images\\\\maractus.png', 'E:\\\\sugi\\\\sem 7\\\\Deep Learning\\\\Pokemon\\\\images\\\\mareanie.png', 'E:\\\\sugi\\\\sem 7\\\\Deep Learning\\\\Pokemon\\\\images\\\\mareep.png', 'E:\\\\sugi\\\\sem 7\\\\Deep Learning\\\\Pokemon\\\\images\\\\marill.png', 'E:\\\\sugi\\\\sem 7\\\\Deep Learning\\\\Pokemon\\\\images\\\\marowak.png', 'E:\\\\sugi\\\\sem 7\\\\Deep Learning\\\\Pokemon\\\\images\\\\marshadow.png', 'E:\\\\sugi\\\\sem 7\\\\Deep Learning\\\\Pokemon\\\\images\\\\marshtomp.png', 'E:\\\\sugi\\\\sem 7\\\\Deep Learning\\\\Pokemon\\\\images\\\\masquerain.png', 'E:\\\\sugi\\\\sem 7\\\\Deep Learning\\\\Pokemon\\\\images\\\\mawile.png', 'E:\\\\sugi\\\\sem 7\\\\Deep Learning\\\\Pokemon\\\\images\\\\medicham.png', 'E:\\\\sugi\\\\sem 7\\\\Deep Learning\\\\Pokemon\\\\images\\\\meditite.png', 'E:\\\\sugi\\\\sem 7\\\\Deep Learning\\\\Pokemon\\\\images\\\\meganium.png', 'E:\\\\sugi\\\\sem 7\\\\Deep Learning\\\\Pokemon\\\\images\\\\melmetal.png', 'E:\\\\sugi\\\\sem 7\\\\Deep Learning\\\\Pokemon\\\\images\\\\meloetta-aria.png', 'E:\\\\sugi\\\\sem 7\\\\Deep Learning\\\\Pokemon\\\\images\\\\meltan.png', 'E:\\\\sugi\\\\sem 7\\\\Deep Learning\\\\Pokemon\\\\images\\\\meowstic-male.png', 'E:\\\\sugi\\\\sem 7\\\\Deep Learning\\\\Pokemon\\\\images\\\\meowth.png', 'E:\\\\sugi\\\\sem 7\\\\Deep Learning\\\\Pokemon\\\\images\\\\mesprit.png', 'E:\\\\sugi\\\\sem 7\\\\Deep Learning\\\\Pokemon\\\\images\\\\metagross.png', 'E:\\\\sugi\\\\sem 7\\\\Deep Learning\\\\Pokemon\\\\images\\\\metang.png', 'E:\\\\sugi\\\\sem 7\\\\Deep Learning\\\\Pokemon\\\\images\\\\metapod.png', 'E:\\\\sugi\\\\sem 7\\\\Deep Learning\\\\Pokemon\\\\images\\\\mew.png', 'E:\\\\sugi\\\\sem 7\\\\Deep Learning\\\\Pokemon\\\\images\\\\mewtwo.png', 'E:\\\\sugi\\\\sem 7\\\\Deep Learning\\\\Pokemon\\\\images\\\\mienfoo.png', 'E:\\\\sugi\\\\sem 7\\\\Deep Learning\\\\Pokemon\\\\images\\\\mienshao.png', 'E:\\\\sugi\\\\sem 7\\\\Deep Learning\\\\Pokemon\\\\images\\\\mightyena.png', 'E:\\\\sugi\\\\sem 7\\\\Deep Learning\\\\Pokemon\\\\images\\\\milotic.png', 'E:\\\\sugi\\\\sem 7\\\\Deep Learning\\\\Pokemon\\\\images\\\\miltank.png', 'E:\\\\sugi\\\\sem 7\\\\Deep Learning\\\\Pokemon\\\\images\\\\mime-jr.png', 'E:\\\\sugi\\\\sem 7\\\\Deep Learning\\\\Pokemon\\\\images\\\\mimikyu.png', 'E:\\\\sugi\\\\sem 7\\\\Deep Learning\\\\Pokemon\\\\images\\\\minccino.png', 'E:\\\\sugi\\\\sem 7\\\\Deep Learning\\\\Pokemon\\\\images\\\\minior-meteor.png', 'E:\\\\sugi\\\\sem 7\\\\Deep Learning\\\\Pokemon\\\\images\\\\minun.png', 'E:\\\\sugi\\\\sem 7\\\\Deep Learning\\\\Pokemon\\\\images\\\\misdreavus.png', 'E:\\\\sugi\\\\sem 7\\\\Deep Learning\\\\Pokemon\\\\images\\\\mismagius.png', 'E:\\\\sugi\\\\sem 7\\\\Deep Learning\\\\Pokemon\\\\images\\\\moltres.png', 'E:\\\\sugi\\\\sem 7\\\\Deep Learning\\\\Pokemon\\\\images\\\\monferno.png', 'E:\\\\sugi\\\\sem 7\\\\Deep Learning\\\\Pokemon\\\\images\\\\morelull.png', 'E:\\\\sugi\\\\sem 7\\\\Deep Learning\\\\Pokemon\\\\images\\\\mothim.png', 'E:\\\\sugi\\\\sem 7\\\\Deep Learning\\\\Pokemon\\\\images\\\\mr-mime.png', 'E:\\\\sugi\\\\sem 7\\\\Deep Learning\\\\Pokemon\\\\images\\\\mudbray.png', 'E:\\\\sugi\\\\sem 7\\\\Deep Learning\\\\Pokemon\\\\images\\\\mudkip.png', 'E:\\\\sugi\\\\sem 7\\\\Deep Learning\\\\Pokemon\\\\images\\\\mudsdale.png', 'E:\\\\sugi\\\\sem 7\\\\Deep Learning\\\\Pokemon\\\\images\\\\muk.png', 'E:\\\\sugi\\\\sem 7\\\\Deep Learning\\\\Pokemon\\\\images\\\\munchlax.png', 'E:\\\\sugi\\\\sem 7\\\\Deep Learning\\\\Pokemon\\\\images\\\\munna.png', 'E:\\\\sugi\\\\sem 7\\\\Deep Learning\\\\Pokemon\\\\images\\\\murkrow.png', 'E:\\\\sugi\\\\sem 7\\\\Deep Learning\\\\Pokemon\\\\images\\\\musharna.png', 'E:\\\\sugi\\\\sem 7\\\\Deep Learning\\\\Pokemon\\\\images\\\\naganadel.png', 'E:\\\\sugi\\\\sem 7\\\\Deep Learning\\\\Pokemon\\\\images\\\\natu.png', 'E:\\\\sugi\\\\sem 7\\\\Deep Learning\\\\Pokemon\\\\images\\\\necrozma.png', 'E:\\\\sugi\\\\sem 7\\\\Deep Learning\\\\Pokemon\\\\images\\\\nidoking.png', 'E:\\\\sugi\\\\sem 7\\\\Deep Learning\\\\Pokemon\\\\images\\\\nidoqueen.png', 'E:\\\\sugi\\\\sem 7\\\\Deep Learning\\\\Pokemon\\\\images\\\\nidoran-f.png', 'E:\\\\sugi\\\\sem 7\\\\Deep Learning\\\\Pokemon\\\\images\\\\nidoran-m.png', 'E:\\\\sugi\\\\sem 7\\\\Deep Learning\\\\Pokemon\\\\images\\\\nidorina.png', 'E:\\\\sugi\\\\sem 7\\\\Deep Learning\\\\Pokemon\\\\images\\\\nidorino.png', 'E:\\\\sugi\\\\sem 7\\\\Deep Learning\\\\Pokemon\\\\images\\\\nihilego.png', 'E:\\\\sugi\\\\sem 7\\\\Deep Learning\\\\Pokemon\\\\images\\\\nincada.png', 'E:\\\\sugi\\\\sem 7\\\\Deep Learning\\\\Pokemon\\\\images\\\\ninetales.png', 'E:\\\\sugi\\\\sem 7\\\\Deep Learning\\\\Pokemon\\\\images\\\\ninjask.png', 'E:\\\\sugi\\\\sem 7\\\\Deep Learning\\\\Pokemon\\\\images\\\\noctowl.png', 'E:\\\\sugi\\\\sem 7\\\\Deep Learning\\\\Pokemon\\\\images\\\\noibat.png', 'E:\\\\sugi\\\\sem 7\\\\Deep Learning\\\\Pokemon\\\\images\\\\noivern.png', 'E:\\\\sugi\\\\sem 7\\\\Deep Learning\\\\Pokemon\\\\images\\\\nosepass.png', 'E:\\\\sugi\\\\sem 7\\\\Deep Learning\\\\Pokemon\\\\images\\\\numel.png', 'E:\\\\sugi\\\\sem 7\\\\Deep Learning\\\\Pokemon\\\\images\\\\nuzleaf.png', 'E:\\\\sugi\\\\sem 7\\\\Deep Learning\\\\Pokemon\\\\images\\\\octillery.png', 'E:\\\\sugi\\\\sem 7\\\\Deep Learning\\\\Pokemon\\\\images\\\\oddish.png', 'E:\\\\sugi\\\\sem 7\\\\Deep Learning\\\\Pokemon\\\\images\\\\omanyte.png', 'E:\\\\sugi\\\\sem 7\\\\Deep Learning\\\\Pokemon\\\\images\\\\omastar.png', 'E:\\\\sugi\\\\sem 7\\\\Deep Learning\\\\Pokemon\\\\images\\\\onix.png', 'E:\\\\sugi\\\\sem 7\\\\Deep Learning\\\\Pokemon\\\\images\\\\oranguru.png', 'E:\\\\sugi\\\\sem 7\\\\Deep Learning\\\\Pokemon\\\\images\\\\oricorio-baile.png', 'E:\\\\sugi\\\\sem 7\\\\Deep Learning\\\\Pokemon\\\\images\\\\oshawott.png', 'E:\\\\sugi\\\\sem 7\\\\Deep Learning\\\\Pokemon\\\\images\\\\pachirisu.png', 'E:\\\\sugi\\\\sem 7\\\\Deep Learning\\\\Pokemon\\\\images\\\\palkia.png', 'E:\\\\sugi\\\\sem 7\\\\Deep Learning\\\\Pokemon\\\\images\\\\palossand.png', 'E:\\\\sugi\\\\sem 7\\\\Deep Learning\\\\Pokemon\\\\images\\\\palpitoad.png', 'E:\\\\sugi\\\\sem 7\\\\Deep Learning\\\\Pokemon\\\\images\\\\pancham.png', 'E:\\\\sugi\\\\sem 7\\\\Deep Learning\\\\Pokemon\\\\images\\\\pangoro.png', 'E:\\\\sugi\\\\sem 7\\\\Deep Learning\\\\Pokemon\\\\images\\\\panpour.png', 'E:\\\\sugi\\\\sem 7\\\\Deep Learning\\\\Pokemon\\\\images\\\\pansage.png', 'E:\\\\sugi\\\\sem 7\\\\Deep Learning\\\\Pokemon\\\\images\\\\pansear.png', 'E:\\\\sugi\\\\sem 7\\\\Deep Learning\\\\Pokemon\\\\images\\\\paras.png', 'E:\\\\sugi\\\\sem 7\\\\Deep Learning\\\\Pokemon\\\\images\\\\parasect.png', 'E:\\\\sugi\\\\sem 7\\\\Deep Learning\\\\Pokemon\\\\images\\\\passimian.png', 'E:\\\\sugi\\\\sem 7\\\\Deep Learning\\\\Pokemon\\\\images\\\\patrat.png', 'E:\\\\sugi\\\\sem 7\\\\Deep Learning\\\\Pokemon\\\\images\\\\pawniard.png', 'E:\\\\sugi\\\\sem 7\\\\Deep Learning\\\\Pokemon\\\\images\\\\pelipper.png', 'E:\\\\sugi\\\\sem 7\\\\Deep Learning\\\\Pokemon\\\\images\\\\persian.png', 'E:\\\\sugi\\\\sem 7\\\\Deep Learning\\\\Pokemon\\\\images\\\\petilil.png', 'E:\\\\sugi\\\\sem 7\\\\Deep Learning\\\\Pokemon\\\\images\\\\phanpy.png', 'E:\\\\sugi\\\\sem 7\\\\Deep Learning\\\\Pokemon\\\\images\\\\phantump.png', 'E:\\\\sugi\\\\sem 7\\\\Deep Learning\\\\Pokemon\\\\images\\\\pheromosa.png', 'E:\\\\sugi\\\\sem 7\\\\Deep Learning\\\\Pokemon\\\\images\\\\phione.png', 'E:\\\\sugi\\\\sem 7\\\\Deep Learning\\\\Pokemon\\\\images\\\\pichu.png', 'E:\\\\sugi\\\\sem 7\\\\Deep Learning\\\\Pokemon\\\\images\\\\pidgeot.png', 'E:\\\\sugi\\\\sem 7\\\\Deep Learning\\\\Pokemon\\\\images\\\\pidgeotto.png', 'E:\\\\sugi\\\\sem 7\\\\Deep Learning\\\\Pokemon\\\\images\\\\pidgey.png', 'E:\\\\sugi\\\\sem 7\\\\Deep Learning\\\\Pokemon\\\\images\\\\pidove.png', 'E:\\\\sugi\\\\sem 7\\\\Deep Learning\\\\Pokemon\\\\images\\\\pignite.png', 'E:\\\\sugi\\\\sem 7\\\\Deep Learning\\\\Pokemon\\\\images\\\\pikachu.png', 'E:\\\\sugi\\\\sem 7\\\\Deep Learning\\\\Pokemon\\\\images\\\\pikipek.png', 'E:\\\\sugi\\\\sem 7\\\\Deep Learning\\\\Pokemon\\\\images\\\\piloswine.png', 'E:\\\\sugi\\\\sem 7\\\\Deep Learning\\\\Pokemon\\\\images\\\\pineco.png', 'E:\\\\sugi\\\\sem 7\\\\Deep Learning\\\\Pokemon\\\\images\\\\pinsir.png', 'E:\\\\sugi\\\\sem 7\\\\Deep Learning\\\\Pokemon\\\\images\\\\piplup.png', 'E:\\\\sugi\\\\sem 7\\\\Deep Learning\\\\Pokemon\\\\images\\\\plusle.png', 'E:\\\\sugi\\\\sem 7\\\\Deep Learning\\\\Pokemon\\\\images\\\\poipole.png', 'E:\\\\sugi\\\\sem 7\\\\Deep Learning\\\\Pokemon\\\\images\\\\politoed.png', 'E:\\\\sugi\\\\sem 7\\\\Deep Learning\\\\Pokemon\\\\images\\\\poliwag.png', 'E:\\\\sugi\\\\sem 7\\\\Deep Learning\\\\Pokemon\\\\images\\\\poliwhirl.png', 'E:\\\\sugi\\\\sem 7\\\\Deep Learning\\\\Pokemon\\\\images\\\\poliwrath.png', 'E:\\\\sugi\\\\sem 7\\\\Deep Learning\\\\Pokemon\\\\images\\\\ponyta.png', 'E:\\\\sugi\\\\sem 7\\\\Deep Learning\\\\Pokemon\\\\images\\\\poochyena.png', 'E:\\\\sugi\\\\sem 7\\\\Deep Learning\\\\Pokemon\\\\images\\\\popplio.png', 'E:\\\\sugi\\\\sem 7\\\\Deep Learning\\\\Pokemon\\\\images\\\\porygon-z.png', 'E:\\\\sugi\\\\sem 7\\\\Deep Learning\\\\Pokemon\\\\images\\\\porygon.png', 'E:\\\\sugi\\\\sem 7\\\\Deep Learning\\\\Pokemon\\\\images\\\\porygon2.png', 'E:\\\\sugi\\\\sem 7\\\\Deep Learning\\\\Pokemon\\\\images\\\\primarina.png', 'E:\\\\sugi\\\\sem 7\\\\Deep Learning\\\\Pokemon\\\\images\\\\primeape.png', 'E:\\\\sugi\\\\sem 7\\\\Deep Learning\\\\Pokemon\\\\images\\\\prinplup.png', 'E:\\\\sugi\\\\sem 7\\\\Deep Learning\\\\Pokemon\\\\images\\\\probopass.png', 'E:\\\\sugi\\\\sem 7\\\\Deep Learning\\\\Pokemon\\\\images\\\\psyduck.png', 'E:\\\\sugi\\\\sem 7\\\\Deep Learning\\\\Pokemon\\\\images\\\\pumpkaboo-average.png', 'E:\\\\sugi\\\\sem 7\\\\Deep Learning\\\\Pokemon\\\\images\\\\pupitar.png', 'E:\\\\sugi\\\\sem 7\\\\Deep Learning\\\\Pokemon\\\\images\\\\purrloin.png', 'E:\\\\sugi\\\\sem 7\\\\Deep Learning\\\\Pokemon\\\\images\\\\purugly.png', 'E:\\\\sugi\\\\sem 7\\\\Deep Learning\\\\Pokemon\\\\images\\\\pyroar.png', 'E:\\\\sugi\\\\sem 7\\\\Deep Learning\\\\Pokemon\\\\images\\\\pyukumuku.png', 'E:\\\\sugi\\\\sem 7\\\\Deep Learning\\\\Pokemon\\\\images\\\\quagsire.png', 'E:\\\\sugi\\\\sem 7\\\\Deep Learning\\\\Pokemon\\\\images\\\\quilava.png', 'E:\\\\sugi\\\\sem 7\\\\Deep Learning\\\\Pokemon\\\\images\\\\quilladin.png', 'E:\\\\sugi\\\\sem 7\\\\Deep Learning\\\\Pokemon\\\\images\\\\qwilfish.png', 'E:\\\\sugi\\\\sem 7\\\\Deep Learning\\\\Pokemon\\\\images\\\\raichu.png', 'E:\\\\sugi\\\\sem 7\\\\Deep Learning\\\\Pokemon\\\\images\\\\raikou.png', 'E:\\\\sugi\\\\sem 7\\\\Deep Learning\\\\Pokemon\\\\images\\\\ralts.png', 'E:\\\\sugi\\\\sem 7\\\\Deep Learning\\\\Pokemon\\\\images\\\\rampardos.png', 'E:\\\\sugi\\\\sem 7\\\\Deep Learning\\\\Pokemon\\\\images\\\\rapidash.png', 'E:\\\\sugi\\\\sem 7\\\\Deep Learning\\\\Pokemon\\\\images\\\\raticate.png', 'E:\\\\sugi\\\\sem 7\\\\Deep Learning\\\\Pokemon\\\\images\\\\rattata.png', 'E:\\\\sugi\\\\sem 7\\\\Deep Learning\\\\Pokemon\\\\images\\\\rayquaza.png', 'E:\\\\sugi\\\\sem 7\\\\Deep Learning\\\\Pokemon\\\\images\\\\regice.png', 'E:\\\\sugi\\\\sem 7\\\\Deep Learning\\\\Pokemon\\\\images\\\\regigigas.png', 'E:\\\\sugi\\\\sem 7\\\\Deep Learning\\\\Pokemon\\\\images\\\\regirock.png', 'E:\\\\sugi\\\\sem 7\\\\Deep Learning\\\\Pokemon\\\\images\\\\registeel.png', 'E:\\\\sugi\\\\sem 7\\\\Deep Learning\\\\Pokemon\\\\images\\\\relicanth.png', 'E:\\\\sugi\\\\sem 7\\\\Deep Learning\\\\Pokemon\\\\images\\\\remoraid.png', 'E:\\\\sugi\\\\sem 7\\\\Deep Learning\\\\Pokemon\\\\images\\\\reshiram.png', 'E:\\\\sugi\\\\sem 7\\\\Deep Learning\\\\Pokemon\\\\images\\\\reuniclus.png', 'E:\\\\sugi\\\\sem 7\\\\Deep Learning\\\\Pokemon\\\\images\\\\rhydon.png', 'E:\\\\sugi\\\\sem 7\\\\Deep Learning\\\\Pokemon\\\\images\\\\rhyhorn.png', 'E:\\\\sugi\\\\sem 7\\\\Deep Learning\\\\Pokemon\\\\images\\\\rhyperior.png', 'E:\\\\sugi\\\\sem 7\\\\Deep Learning\\\\Pokemon\\\\images\\\\ribombee.png', 'E:\\\\sugi\\\\sem 7\\\\Deep Learning\\\\Pokemon\\\\images\\\\riolu.png', 'E:\\\\sugi\\\\sem 7\\\\Deep Learning\\\\Pokemon\\\\images\\\\rockruff.png', 'E:\\\\sugi\\\\sem 7\\\\Deep Learning\\\\Pokemon\\\\images\\\\roggenrola.png', 'E:\\\\sugi\\\\sem 7\\\\Deep Learning\\\\Pokemon\\\\images\\\\roselia.png', 'E:\\\\sugi\\\\sem 7\\\\Deep Learning\\\\Pokemon\\\\images\\\\roserade.png', 'E:\\\\sugi\\\\sem 7\\\\Deep Learning\\\\Pokemon\\\\images\\\\rotom.png', 'E:\\\\sugi\\\\sem 7\\\\Deep Learning\\\\Pokemon\\\\images\\\\rowlet.png', 'E:\\\\sugi\\\\sem 7\\\\Deep Learning\\\\Pokemon\\\\images\\\\rufflet.png', 'E:\\\\sugi\\\\sem 7\\\\Deep Learning\\\\Pokemon\\\\images\\\\sableye.png', 'E:\\\\sugi\\\\sem 7\\\\Deep Learning\\\\Pokemon\\\\images\\\\salamence.png', 'E:\\\\sugi\\\\sem 7\\\\Deep Learning\\\\Pokemon\\\\images\\\\salandit.png', 'E:\\\\sugi\\\\sem 7\\\\Deep Learning\\\\Pokemon\\\\images\\\\salazzle.png', 'E:\\\\sugi\\\\sem 7\\\\Deep Learning\\\\Pokemon\\\\images\\\\samurott.png', 'E:\\\\sugi\\\\sem 7\\\\Deep Learning\\\\Pokemon\\\\images\\\\sandile.png', 'E:\\\\sugi\\\\sem 7\\\\Deep Learning\\\\Pokemon\\\\images\\\\sandshrew.png', 'E:\\\\sugi\\\\sem 7\\\\Deep Learning\\\\Pokemon\\\\images\\\\sandslash.png', 'E:\\\\sugi\\\\sem 7\\\\Deep Learning\\\\Pokemon\\\\images\\\\sandygast.png', 'E:\\\\sugi\\\\sem 7\\\\Deep Learning\\\\Pokemon\\\\images\\\\sawk.png', 'E:\\\\sugi\\\\sem 7\\\\Deep Learning\\\\Pokemon\\\\images\\\\sawsbuck.png', 'E:\\\\sugi\\\\sem 7\\\\Deep Learning\\\\Pokemon\\\\images\\\\scatterbug.png', 'E:\\\\sugi\\\\sem 7\\\\Deep Learning\\\\Pokemon\\\\images\\\\sceptile.png', 'E:\\\\sugi\\\\sem 7\\\\Deep Learning\\\\Pokemon\\\\images\\\\scizor.png', 'E:\\\\sugi\\\\sem 7\\\\Deep Learning\\\\Pokemon\\\\images\\\\scolipede.png', 'E:\\\\sugi\\\\sem 7\\\\Deep Learning\\\\Pokemon\\\\images\\\\scrafty.png', 'E:\\\\sugi\\\\sem 7\\\\Deep Learning\\\\Pokemon\\\\images\\\\scraggy.png', 'E:\\\\sugi\\\\sem 7\\\\Deep Learning\\\\Pokemon\\\\images\\\\scyther.png', 'E:\\\\sugi\\\\sem 7\\\\Deep Learning\\\\Pokemon\\\\images\\\\seadra.png', 'E:\\\\sugi\\\\sem 7\\\\Deep Learning\\\\Pokemon\\\\images\\\\seaking.png', 'E:\\\\sugi\\\\sem 7\\\\Deep Learning\\\\Pokemon\\\\images\\\\sealeo.png', 'E:\\\\sugi\\\\sem 7\\\\Deep Learning\\\\Pokemon\\\\images\\\\seedot.png', 'E:\\\\sugi\\\\sem 7\\\\Deep Learning\\\\Pokemon\\\\images\\\\seel.png', 'E:\\\\sugi\\\\sem 7\\\\Deep Learning\\\\Pokemon\\\\images\\\\seismitoad.png', 'E:\\\\sugi\\\\sem 7\\\\Deep Learning\\\\Pokemon\\\\images\\\\sentret.png', 'E:\\\\sugi\\\\sem 7\\\\Deep Learning\\\\Pokemon\\\\images\\\\serperior.png', 'E:\\\\sugi\\\\sem 7\\\\Deep Learning\\\\Pokemon\\\\images\\\\servine.png', 'E:\\\\sugi\\\\sem 7\\\\Deep Learning\\\\Pokemon\\\\images\\\\seviper.png', 'E:\\\\sugi\\\\sem 7\\\\Deep Learning\\\\Pokemon\\\\images\\\\sewaddle.png', 'E:\\\\sugi\\\\sem 7\\\\Deep Learning\\\\Pokemon\\\\images\\\\sharpedo.png', 'E:\\\\sugi\\\\sem 7\\\\Deep Learning\\\\Pokemon\\\\images\\\\shaymin-land.png', 'E:\\\\sugi\\\\sem 7\\\\Deep Learning\\\\Pokemon\\\\images\\\\shedinja.png', 'E:\\\\sugi\\\\sem 7\\\\Deep Learning\\\\Pokemon\\\\images\\\\shelgon.png', 'E:\\\\sugi\\\\sem 7\\\\Deep Learning\\\\Pokemon\\\\images\\\\shellder.png', 'E:\\\\sugi\\\\sem 7\\\\Deep Learning\\\\Pokemon\\\\images\\\\shellos.png', 'E:\\\\sugi\\\\sem 7\\\\Deep Learning\\\\Pokemon\\\\images\\\\shelmet.png', 'E:\\\\sugi\\\\sem 7\\\\Deep Learning\\\\Pokemon\\\\images\\\\shieldon.png', 'E:\\\\sugi\\\\sem 7\\\\Deep Learning\\\\Pokemon\\\\images\\\\shiftry.png', 'E:\\\\sugi\\\\sem 7\\\\Deep Learning\\\\Pokemon\\\\images\\\\shiinotic.png', 'E:\\\\sugi\\\\sem 7\\\\Deep Learning\\\\Pokemon\\\\images\\\\shinx.png', 'E:\\\\sugi\\\\sem 7\\\\Deep Learning\\\\Pokemon\\\\images\\\\shroomish.png', 'E:\\\\sugi\\\\sem 7\\\\Deep Learning\\\\Pokemon\\\\images\\\\shuckle.png', 'E:\\\\sugi\\\\sem 7\\\\Deep Learning\\\\Pokemon\\\\images\\\\shuppet.png', 'E:\\\\sugi\\\\sem 7\\\\Deep Learning\\\\Pokemon\\\\images\\\\sigilyph.png', 'E:\\\\sugi\\\\sem 7\\\\Deep Learning\\\\Pokemon\\\\images\\\\silcoon.png', 'E:\\\\sugi\\\\sem 7\\\\Deep Learning\\\\Pokemon\\\\images\\\\silvally.png', 'E:\\\\sugi\\\\sem 7\\\\Deep Learning\\\\Pokemon\\\\images\\\\simipour.png', 'E:\\\\sugi\\\\sem 7\\\\Deep Learning\\\\Pokemon\\\\images\\\\simisage.png', 'E:\\\\sugi\\\\sem 7\\\\Deep Learning\\\\Pokemon\\\\images\\\\simisear.png', 'E:\\\\sugi\\\\sem 7\\\\Deep Learning\\\\Pokemon\\\\images\\\\skarmory.png', 'E:\\\\sugi\\\\sem 7\\\\Deep Learning\\\\Pokemon\\\\images\\\\skiddo.png', 'E:\\\\sugi\\\\sem 7\\\\Deep Learning\\\\Pokemon\\\\images\\\\skiploom.png', 'E:\\\\sugi\\\\sem 7\\\\Deep Learning\\\\Pokemon\\\\images\\\\skitty.png', 'E:\\\\sugi\\\\sem 7\\\\Deep Learning\\\\Pokemon\\\\images\\\\skorupi.png', 'E:\\\\sugi\\\\sem 7\\\\Deep Learning\\\\Pokemon\\\\images\\\\skrelp.png', 'E:\\\\sugi\\\\sem 7\\\\Deep Learning\\\\Pokemon\\\\images\\\\skuntank.png', 'E:\\\\sugi\\\\sem 7\\\\Deep Learning\\\\Pokemon\\\\images\\\\slaking.png', 'E:\\\\sugi\\\\sem 7\\\\Deep Learning\\\\Pokemon\\\\images\\\\slakoth.png', 'E:\\\\sugi\\\\sem 7\\\\Deep Learning\\\\Pokemon\\\\images\\\\sliggoo.png', 'E:\\\\sugi\\\\sem 7\\\\Deep Learning\\\\Pokemon\\\\images\\\\slowbro.png', 'E:\\\\sugi\\\\sem 7\\\\Deep Learning\\\\Pokemon\\\\images\\\\slowking.png', 'E:\\\\sugi\\\\sem 7\\\\Deep Learning\\\\Pokemon\\\\images\\\\slowpoke.png', 'E:\\\\sugi\\\\sem 7\\\\Deep Learning\\\\Pokemon\\\\images\\\\slugma.png', 'E:\\\\sugi\\\\sem 7\\\\Deep Learning\\\\Pokemon\\\\images\\\\slurpuff.png', 'E:\\\\sugi\\\\sem 7\\\\Deep Learning\\\\Pokemon\\\\images\\\\smeargle.png', 'E:\\\\sugi\\\\sem 7\\\\Deep Learning\\\\Pokemon\\\\images\\\\smoochum.png', 'E:\\\\sugi\\\\sem 7\\\\Deep Learning\\\\Pokemon\\\\images\\\\sneasel.png', 'E:\\\\sugi\\\\sem 7\\\\Deep Learning\\\\Pokemon\\\\images\\\\snivy.png', 'E:\\\\sugi\\\\sem 7\\\\Deep Learning\\\\Pokemon\\\\images\\\\snorlax.png', 'E:\\\\sugi\\\\sem 7\\\\Deep Learning\\\\Pokemon\\\\images\\\\snorunt.png', 'E:\\\\sugi\\\\sem 7\\\\Deep Learning\\\\Pokemon\\\\images\\\\snover.png', 'E:\\\\sugi\\\\sem 7\\\\Deep Learning\\\\Pokemon\\\\images\\\\snubbull.png', 'E:\\\\sugi\\\\sem 7\\\\Deep Learning\\\\Pokemon\\\\images\\\\solgaleo.png', 'E:\\\\sugi\\\\sem 7\\\\Deep Learning\\\\Pokemon\\\\images\\\\solosis.png', 'E:\\\\sugi\\\\sem 7\\\\Deep Learning\\\\Pokemon\\\\images\\\\solrock.png', 'E:\\\\sugi\\\\sem 7\\\\Deep Learning\\\\Pokemon\\\\images\\\\spearow.png', 'E:\\\\sugi\\\\sem 7\\\\Deep Learning\\\\Pokemon\\\\images\\\\spewpa.png', 'E:\\\\sugi\\\\sem 7\\\\Deep Learning\\\\Pokemon\\\\images\\\\spheal.png', 'E:\\\\sugi\\\\sem 7\\\\Deep Learning\\\\Pokemon\\\\images\\\\spinarak.png', 'E:\\\\sugi\\\\sem 7\\\\Deep Learning\\\\Pokemon\\\\images\\\\spinda.png', 'E:\\\\sugi\\\\sem 7\\\\Deep Learning\\\\Pokemon\\\\images\\\\spiritomb.png', 'E:\\\\sugi\\\\sem 7\\\\Deep Learning\\\\Pokemon\\\\images\\\\spoink.png', 'E:\\\\sugi\\\\sem 7\\\\Deep Learning\\\\Pokemon\\\\images\\\\spritzee.png', 'E:\\\\sugi\\\\sem 7\\\\Deep Learning\\\\Pokemon\\\\images\\\\squirtle.png', 'E:\\\\sugi\\\\sem 7\\\\Deep Learning\\\\Pokemon\\\\images\\\\stakataka.png', 'E:\\\\sugi\\\\sem 7\\\\Deep Learning\\\\Pokemon\\\\images\\\\stantler.png', 'E:\\\\sugi\\\\sem 7\\\\Deep Learning\\\\Pokemon\\\\images\\\\staraptor.png', 'E:\\\\sugi\\\\sem 7\\\\Deep Learning\\\\Pokemon\\\\images\\\\staravia.png', 'E:\\\\sugi\\\\sem 7\\\\Deep Learning\\\\Pokemon\\\\images\\\\starly.png', 'E:\\\\sugi\\\\sem 7\\\\Deep Learning\\\\Pokemon\\\\images\\\\starmie.png', 'E:\\\\sugi\\\\sem 7\\\\Deep Learning\\\\Pokemon\\\\images\\\\staryu.png', 'E:\\\\sugi\\\\sem 7\\\\Deep Learning\\\\Pokemon\\\\images\\\\steelix.png', 'E:\\\\sugi\\\\sem 7\\\\Deep Learning\\\\Pokemon\\\\images\\\\steenee.png', 'E:\\\\sugi\\\\sem 7\\\\Deep Learning\\\\Pokemon\\\\images\\\\stoutland.png', 'E:\\\\sugi\\\\sem 7\\\\Deep Learning\\\\Pokemon\\\\images\\\\stufful.png', 'E:\\\\sugi\\\\sem 7\\\\Deep Learning\\\\Pokemon\\\\images\\\\stunfisk.png', 'E:\\\\sugi\\\\sem 7\\\\Deep Learning\\\\Pokemon\\\\images\\\\stunky.png', 'E:\\\\sugi\\\\sem 7\\\\Deep Learning\\\\Pokemon\\\\images\\\\sudowoodo.png', 'E:\\\\sugi\\\\sem 7\\\\Deep Learning\\\\Pokemon\\\\images\\\\suicune.png', 'E:\\\\sugi\\\\sem 7\\\\Deep Learning\\\\Pokemon\\\\images\\\\sunflora.png', 'E:\\\\sugi\\\\sem 7\\\\Deep Learning\\\\Pokemon\\\\images\\\\sunkern.png', 'E:\\\\sugi\\\\sem 7\\\\Deep Learning\\\\Pokemon\\\\images\\\\surskit.png', 'E:\\\\sugi\\\\sem 7\\\\Deep Learning\\\\Pokemon\\\\images\\\\swablu.png', 'E:\\\\sugi\\\\sem 7\\\\Deep Learning\\\\Pokemon\\\\images\\\\swadloon.png', 'E:\\\\sugi\\\\sem 7\\\\Deep Learning\\\\Pokemon\\\\images\\\\swalot.png', 'E:\\\\sugi\\\\sem 7\\\\Deep Learning\\\\Pokemon\\\\images\\\\swampert.png', 'E:\\\\sugi\\\\sem 7\\\\Deep Learning\\\\Pokemon\\\\images\\\\swanna.png', 'E:\\\\sugi\\\\sem 7\\\\Deep Learning\\\\Pokemon\\\\images\\\\swellow.png', 'E:\\\\sugi\\\\sem 7\\\\Deep Learning\\\\Pokemon\\\\images\\\\swinub.png', 'E:\\\\sugi\\\\sem 7\\\\Deep Learning\\\\Pokemon\\\\images\\\\swirlix.png', 'E:\\\\sugi\\\\sem 7\\\\Deep Learning\\\\Pokemon\\\\images\\\\swoobat.png', 'E:\\\\sugi\\\\sem 7\\\\Deep Learning\\\\Pokemon\\\\images\\\\sylveon.png', 'E:\\\\sugi\\\\sem 7\\\\Deep Learning\\\\Pokemon\\\\images\\\\taillow.png', 'E:\\\\sugi\\\\sem 7\\\\Deep Learning\\\\Pokemon\\\\images\\\\talonflame.png', 'E:\\\\sugi\\\\sem 7\\\\Deep Learning\\\\Pokemon\\\\images\\\\tangela.png', 'E:\\\\sugi\\\\sem 7\\\\Deep Learning\\\\Pokemon\\\\images\\\\tangrowth.png', 'E:\\\\sugi\\\\sem 7\\\\Deep Learning\\\\Pokemon\\\\images\\\\tapu-bulu.png', 'E:\\\\sugi\\\\sem 7\\\\Deep Learning\\\\Pokemon\\\\images\\\\tapu-fini.png', 'E:\\\\sugi\\\\sem 7\\\\Deep Learning\\\\Pokemon\\\\images\\\\tapu-koko.png', 'E:\\\\sugi\\\\sem 7\\\\Deep Learning\\\\Pokemon\\\\images\\\\tapu-lele.png', 'E:\\\\sugi\\\\sem 7\\\\Deep Learning\\\\Pokemon\\\\images\\\\tauros.png', 'E:\\\\sugi\\\\sem 7\\\\Deep Learning\\\\Pokemon\\\\images\\\\teddiursa.png', 'E:\\\\sugi\\\\sem 7\\\\Deep Learning\\\\Pokemon\\\\images\\\\tentacool.png', 'E:\\\\sugi\\\\sem 7\\\\Deep Learning\\\\Pokemon\\\\images\\\\tentacruel.png', 'E:\\\\sugi\\\\sem 7\\\\Deep Learning\\\\Pokemon\\\\images\\\\tepig.png', 'E:\\\\sugi\\\\sem 7\\\\Deep Learning\\\\Pokemon\\\\images\\\\terrakion.png', 'E:\\\\sugi\\\\sem 7\\\\Deep Learning\\\\Pokemon\\\\images\\\\throh.png', 'E:\\\\sugi\\\\sem 7\\\\Deep Learning\\\\Pokemon\\\\images\\\\thundurus-incarnate.png', 'E:\\\\sugi\\\\sem 7\\\\Deep Learning\\\\Pokemon\\\\images\\\\timburr.png', 'E:\\\\sugi\\\\sem 7\\\\Deep Learning\\\\Pokemon\\\\images\\\\tirtouga.png', 'E:\\\\sugi\\\\sem 7\\\\Deep Learning\\\\Pokemon\\\\images\\\\togedemaru.png', 'E:\\\\sugi\\\\sem 7\\\\Deep Learning\\\\Pokemon\\\\images\\\\togekiss.png', 'E:\\\\sugi\\\\sem 7\\\\Deep Learning\\\\Pokemon\\\\images\\\\togepi.png', 'E:\\\\sugi\\\\sem 7\\\\Deep Learning\\\\Pokemon\\\\images\\\\togetic.png', 'E:\\\\sugi\\\\sem 7\\\\Deep Learning\\\\Pokemon\\\\images\\\\torchic.png', 'E:\\\\sugi\\\\sem 7\\\\Deep Learning\\\\Pokemon\\\\images\\\\torkoal.png', 'E:\\\\sugi\\\\sem 7\\\\Deep Learning\\\\Pokemon\\\\images\\\\tornadus-incarnate.png', 'E:\\\\sugi\\\\sem 7\\\\Deep Learning\\\\Pokemon\\\\images\\\\torracat.png', 'E:\\\\sugi\\\\sem 7\\\\Deep Learning\\\\Pokemon\\\\images\\\\torterra.png', 'E:\\\\sugi\\\\sem 7\\\\Deep Learning\\\\Pokemon\\\\images\\\\totodile.png', 'E:\\\\sugi\\\\sem 7\\\\Deep Learning\\\\Pokemon\\\\images\\\\toucannon.png', 'E:\\\\sugi\\\\sem 7\\\\Deep Learning\\\\Pokemon\\\\images\\\\toxapex.png', 'E:\\\\sugi\\\\sem 7\\\\Deep Learning\\\\Pokemon\\\\images\\\\toxicroak.png', 'E:\\\\sugi\\\\sem 7\\\\Deep Learning\\\\Pokemon\\\\images\\\\tranquill.png', 'E:\\\\sugi\\\\sem 7\\\\Deep Learning\\\\Pokemon\\\\images\\\\trapinch.png', 'E:\\\\sugi\\\\sem 7\\\\Deep Learning\\\\Pokemon\\\\images\\\\treecko.png', 'E:\\\\sugi\\\\sem 7\\\\Deep Learning\\\\Pokemon\\\\images\\\\trevenant.png', 'E:\\\\sugi\\\\sem 7\\\\Deep Learning\\\\Pokemon\\\\images\\\\tropius.png', 'E:\\\\sugi\\\\sem 7\\\\Deep Learning\\\\Pokemon\\\\images\\\\trubbish.png', 'E:\\\\sugi\\\\sem 7\\\\Deep Learning\\\\Pokemon\\\\images\\\\trumbeak.png', 'E:\\\\sugi\\\\sem 7\\\\Deep Learning\\\\Pokemon\\\\images\\\\tsareena.png', 'E:\\\\sugi\\\\sem 7\\\\Deep Learning\\\\Pokemon\\\\images\\\\turtonator.png', 'E:\\\\sugi\\\\sem 7\\\\Deep Learning\\\\Pokemon\\\\images\\\\turtwig.png', 'E:\\\\sugi\\\\sem 7\\\\Deep Learning\\\\Pokemon\\\\images\\\\tympole.png', 'E:\\\\sugi\\\\sem 7\\\\Deep Learning\\\\Pokemon\\\\images\\\\tynamo.png', 'E:\\\\sugi\\\\sem 7\\\\Deep Learning\\\\Pokemon\\\\images\\\\type-null.png', 'E:\\\\sugi\\\\sem 7\\\\Deep Learning\\\\Pokemon\\\\images\\\\typhlosion.png', 'E:\\\\sugi\\\\sem 7\\\\Deep Learning\\\\Pokemon\\\\images\\\\tyranitar.png', 'E:\\\\sugi\\\\sem 7\\\\Deep Learning\\\\Pokemon\\\\images\\\\tyrantrum.png', 'E:\\\\sugi\\\\sem 7\\\\Deep Learning\\\\Pokemon\\\\images\\\\tyrogue.png', 'E:\\\\sugi\\\\sem 7\\\\Deep Learning\\\\Pokemon\\\\images\\\\tyrunt.png', 'E:\\\\sugi\\\\sem 7\\\\Deep Learning\\\\Pokemon\\\\images\\\\umbreon.png', 'E:\\\\sugi\\\\sem 7\\\\Deep Learning\\\\Pokemon\\\\images\\\\unfezant.png', 'E:\\\\sugi\\\\sem 7\\\\Deep Learning\\\\Pokemon\\\\images\\\\unown.png', 'E:\\\\sugi\\\\sem 7\\\\Deep Learning\\\\Pokemon\\\\images\\\\ursaring.png', 'E:\\\\sugi\\\\sem 7\\\\Deep Learning\\\\Pokemon\\\\images\\\\uxie.png', 'E:\\\\sugi\\\\sem 7\\\\Deep Learning\\\\Pokemon\\\\images\\\\vanillish.png', 'E:\\\\sugi\\\\sem 7\\\\Deep Learning\\\\Pokemon\\\\images\\\\vanillite.png', 'E:\\\\sugi\\\\sem 7\\\\Deep Learning\\\\Pokemon\\\\images\\\\vanilluxe.png', 'E:\\\\sugi\\\\sem 7\\\\Deep Learning\\\\Pokemon\\\\images\\\\vaporeon.png', 'E:\\\\sugi\\\\sem 7\\\\Deep Learning\\\\Pokemon\\\\images\\\\venipede.png', 'E:\\\\sugi\\\\sem 7\\\\Deep Learning\\\\Pokemon\\\\images\\\\venomoth.png', 'E:\\\\sugi\\\\sem 7\\\\Deep Learning\\\\Pokemon\\\\images\\\\venonat.png', 'E:\\\\sugi\\\\sem 7\\\\Deep Learning\\\\Pokemon\\\\images\\\\venusaur.png', 'E:\\\\sugi\\\\sem 7\\\\Deep Learning\\\\Pokemon\\\\images\\\\vespiquen.png', 'E:\\\\sugi\\\\sem 7\\\\Deep Learning\\\\Pokemon\\\\images\\\\vibrava.png', 'E:\\\\sugi\\\\sem 7\\\\Deep Learning\\\\Pokemon\\\\images\\\\victini.png', 'E:\\\\sugi\\\\sem 7\\\\Deep Learning\\\\Pokemon\\\\images\\\\victreebel.png', 'E:\\\\sugi\\\\sem 7\\\\Deep Learning\\\\Pokemon\\\\images\\\\vigoroth.png', 'E:\\\\sugi\\\\sem 7\\\\Deep Learning\\\\Pokemon\\\\images\\\\vikavolt.png', 'E:\\\\sugi\\\\sem 7\\\\Deep Learning\\\\Pokemon\\\\images\\\\vileplume.png', 'E:\\\\sugi\\\\sem 7\\\\Deep Learning\\\\Pokemon\\\\images\\\\virizion.png', 'E:\\\\sugi\\\\sem 7\\\\Deep Learning\\\\Pokemon\\\\images\\\\vivillon.png', 'E:\\\\sugi\\\\sem 7\\\\Deep Learning\\\\Pokemon\\\\images\\\\volbeat.png', 'E:\\\\sugi\\\\sem 7\\\\Deep Learning\\\\Pokemon\\\\images\\\\volcanion.png', 'E:\\\\sugi\\\\sem 7\\\\Deep Learning\\\\Pokemon\\\\images\\\\volcarona.png', 'E:\\\\sugi\\\\sem 7\\\\Deep Learning\\\\Pokemon\\\\images\\\\voltorb.png', 'E:\\\\sugi\\\\sem 7\\\\Deep Learning\\\\Pokemon\\\\images\\\\vullaby.png', 'E:\\\\sugi\\\\sem 7\\\\Deep Learning\\\\Pokemon\\\\images\\\\vulpix.png', 'E:\\\\sugi\\\\sem 7\\\\Deep Learning\\\\Pokemon\\\\images\\\\wailmer.png', 'E:\\\\sugi\\\\sem 7\\\\Deep Learning\\\\Pokemon\\\\images\\\\wailord.png', 'E:\\\\sugi\\\\sem 7\\\\Deep Learning\\\\Pokemon\\\\images\\\\walrein.png', 'E:\\\\sugi\\\\sem 7\\\\Deep Learning\\\\Pokemon\\\\images\\\\wartortle.png', 'E:\\\\sugi\\\\sem 7\\\\Deep Learning\\\\Pokemon\\\\images\\\\watchog.png', 'E:\\\\sugi\\\\sem 7\\\\Deep Learning\\\\Pokemon\\\\images\\\\weavile.png', 'E:\\\\sugi\\\\sem 7\\\\Deep Learning\\\\Pokemon\\\\images\\\\weedle.png', 'E:\\\\sugi\\\\sem 7\\\\Deep Learning\\\\Pokemon\\\\images\\\\weepinbell.png', 'E:\\\\sugi\\\\sem 7\\\\Deep Learning\\\\Pokemon\\\\images\\\\weezing.png', 'E:\\\\sugi\\\\sem 7\\\\Deep Learning\\\\Pokemon\\\\images\\\\whimsicott.png', 'E:\\\\sugi\\\\sem 7\\\\Deep Learning\\\\Pokemon\\\\images\\\\whirlipede.png', 'E:\\\\sugi\\\\sem 7\\\\Deep Learning\\\\Pokemon\\\\images\\\\whiscash.png', 'E:\\\\sugi\\\\sem 7\\\\Deep Learning\\\\Pokemon\\\\images\\\\whismur.png', 'E:\\\\sugi\\\\sem 7\\\\Deep Learning\\\\Pokemon\\\\images\\\\wigglytuff.png', 'E:\\\\sugi\\\\sem 7\\\\Deep Learning\\\\Pokemon\\\\images\\\\wimpod.png', 'E:\\\\sugi\\\\sem 7\\\\Deep Learning\\\\Pokemon\\\\images\\\\wingull.png', 'E:\\\\sugi\\\\sem 7\\\\Deep Learning\\\\Pokemon\\\\images\\\\wishiwashi-solo.png', 'E:\\\\sugi\\\\sem 7\\\\Deep Learning\\\\Pokemon\\\\images\\\\wobbuffet.png', 'E:\\\\sugi\\\\sem 7\\\\Deep Learning\\\\Pokemon\\\\images\\\\woobat.png', 'E:\\\\sugi\\\\sem 7\\\\Deep Learning\\\\Pokemon\\\\images\\\\wooper.png', 'E:\\\\sugi\\\\sem 7\\\\Deep Learning\\\\Pokemon\\\\images\\\\wormadam-plant.png', 'E:\\\\sugi\\\\sem 7\\\\Deep Learning\\\\Pokemon\\\\images\\\\wurmple.png', 'E:\\\\sugi\\\\sem 7\\\\Deep Learning\\\\Pokemon\\\\images\\\\wynaut.png', 'E:\\\\sugi\\\\sem 7\\\\Deep Learning\\\\Pokemon\\\\images\\\\xatu.png', 'E:\\\\sugi\\\\sem 7\\\\Deep Learning\\\\Pokemon\\\\images\\\\xerneas.png', 'E:\\\\sugi\\\\sem 7\\\\Deep Learning\\\\Pokemon\\\\images\\\\xurkitree.png', 'E:\\\\sugi\\\\sem 7\\\\Deep Learning\\\\Pokemon\\\\images\\\\yamask.png', 'E:\\\\sugi\\\\sem 7\\\\Deep Learning\\\\Pokemon\\\\images\\\\yanma.png', 'E:\\\\sugi\\\\sem 7\\\\Deep Learning\\\\Pokemon\\\\images\\\\yanmega.png', 'E:\\\\sugi\\\\sem 7\\\\Deep Learning\\\\Pokemon\\\\images\\\\yungoos.png', 'E:\\\\sugi\\\\sem 7\\\\Deep Learning\\\\Pokemon\\\\images\\\\yveltal.png', 'E:\\\\sugi\\\\sem 7\\\\Deep Learning\\\\Pokemon\\\\images\\\\zangoose.png', 'E:\\\\sugi\\\\sem 7\\\\Deep Learning\\\\Pokemon\\\\images\\\\zapdos.png', 'E:\\\\sugi\\\\sem 7\\\\Deep Learning\\\\Pokemon\\\\images\\\\zebstrika.png', 'E:\\\\sugi\\\\sem 7\\\\Deep Learning\\\\Pokemon\\\\images\\\\zekrom.png', 'E:\\\\sugi\\\\sem 7\\\\Deep Learning\\\\Pokemon\\\\images\\\\zeraora.png', 'E:\\\\sugi\\\\sem 7\\\\Deep Learning\\\\Pokemon\\\\images\\\\zigzagoon.png', 'E:\\\\sugi\\\\sem 7\\\\Deep Learning\\\\Pokemon\\\\images\\\\zoroark.png', 'E:\\\\sugi\\\\sem 7\\\\Deep Learning\\\\Pokemon\\\\images\\\\zorua.png', 'E:\\\\sugi\\\\sem 7\\\\Deep Learning\\\\Pokemon\\\\images\\\\zubat.png', 'E:\\\\sugi\\\\sem 7\\\\Deep Learning\\\\Pokemon\\\\images\\\\zweilous.png', 'E:\\\\sugi\\\\sem 7\\\\Deep Learning\\\\Pokemon\\\\images\\\\zygarde-50.png']\n"
     ]
    }
   ],
   "source": [
    "import glob\n",
    "\n",
    "# Adjust the path to point to your images folder\n",
    "images_path = glob.glob(r'E:\\sugi\\sem 7\\Deep Learning\\Pokemon\\images\\*')\n",
    "\n",
    "# Print the list of image paths\n",
    "print(images_path)\n"
   ]
  },
  {
   "cell_type": "code",
   "execution_count": 65,
   "id": "37847745-88b6-4a9b-8cd0-80f2b7521006",
   "metadata": {},
   "outputs": [
    {
     "name": "stdout",
     "output_type": "stream",
     "text": [
      "Shape of X: 809\n",
      "Shape of y: (809, 18)\n"
     ]
    }
   ],
   "source": [
    "import numpy as np\n",
    "import pandas as pd\n",
    "from sklearn.preprocessing import OneHotEncoder\n",
    "\n",
    "# Load your CSV file\n",
    "df = pd.read_csv(r'E:\\sugi\\sem 7\\Deep Learning\\Pokemon\\pokemon.csv')\n",
    "\n",
    "# Assuming 'Type1' is the column with the class labels\n",
    "classes = df['Type1'].unique()\n",
    "\n",
    "# Construct image paths based on the names in your DataFrame\n",
    "# Adjust this if your image files have a different extension or naming convention\n",
    "X = r'E:\\sugi\\sem 7\\Deep Learning\\Pokemon\\images\\\\' + df['Name'].values + '.png'\n",
    "y = df['Type1'].values\n",
    "\n",
    "# Initialize OneHotEncoder\n",
    "label_encoder = OneHotEncoder(sparse_output=False)\n",
    "\n",
    "# Transform the labels into one-hot encoded format\n",
    "y = label_encoder.fit_transform(np.expand_dims(y, 1))\n",
    "\n",
    "# Optionally, print to check the shapes\n",
    "print(\"Shape of X:\", len(X))\n",
    "print(\"Shape of y:\", y.shape)\n"
   ]
  },
  {
   "cell_type": "code",
   "execution_count": 66,
   "id": "484ef258-ee9e-4734-85bc-4280cdb4ff13",
   "metadata": {},
   "outputs": [
    {
     "name": "stdout",
     "output_type": "stream",
     "text": [
      "['Grass' 'Fire' 'Water' 'Bug' 'Normal' 'Poison' 'Electric' 'Ground'\n",
      " 'Fairy' 'Fighting' 'Psychic' 'Rock' 'Ghost' 'Ice' 'Dragon' 'Dark' 'Steel'\n",
      " 'Flying']\n"
     ]
    }
   ],
   "source": [
    "print(classes)"
   ]
  },
  {
   "cell_type": "code",
   "execution_count": 67,
   "id": "2367cfcc-9642-4f73-8a1a-f3840b321a52",
   "metadata": {},
   "outputs": [],
   "source": [
    "from sklearn.model_selection import train_test_split\n",
    "\n",
    "train_X, test_X, train_y, test_y = train_test_split(X, y, test_size=0.2, random_state=42)"
   ]
  },
  {
   "cell_type": "code",
   "execution_count": 68,
   "id": "cdba0e97-b2c4-4657-b85d-b3f5d7e06c53",
   "metadata": {},
   "outputs": [],
   "source": [
    "import torchvision.transforms as transforms\n",
    "\n",
    "\"\"\"\n",
    "- RandomHorizontalFlip\n",
    "- RandomVerticalFlip\n",
    "- ToTensor\n",
    "- Normalize (custom normaliser)\n",
    "\"\"\"\n",
    "\n",
    "image_transform = transforms.Compose([\n",
    "    # transforms.RandomHorizontalFlip(p=0.5),\n",
    "    # transforms.RandomVerticalFlip(p=0.5),\n",
    "    transforms.ToTensor(),\n",
    "    # transforms.Normalize((0.0, 0.0, 0.0), (1.0/255, 1.0/255, 1.0/255)) \n",
    "])"
   ]
  },
  {
   "cell_type": "code",
   "execution_count": 69,
   "id": "50fc746b-1e4c-4a57-a987-40db970e890b",
   "metadata": {},
   "outputs": [],
   "source": [
    "from torch.utils.data import Dataset\n",
    "from PIL import Image\n",
    "\n",
    "class ImageDataset(Dataset):\n",
    "    def __init__(self, images_paths, labels, transform=None):\n",
    "        # self.images = list(map(lambda x: toImageTensor(x), images_path))\n",
    "        self.labels = torch.tensor(labels, dtype=torch.float32)\n",
    "        # self.labels = labels\n",
    "        self.image_paths = images_paths\n",
    "        self.transform = transform\n",
    "    \n",
    "    def __len__(self):\n",
    "        return len(self.image_paths)\n",
    "    \n",
    "    def __getitem__(self, idx):\n",
    "        image_path = self.image_paths[idx]\n",
    "        image = Image.open(image_path).convert('RGB')\n",
    "        # Apply transformatiojn\n",
    "        if self.transform:\n",
    "            image = self.transform(image)\n",
    "        return image, self.labels[idx]"
   ]
  },
  {
   "cell_type": "code",
   "execution_count": 70,
   "id": "01459cbc-cfd8-42df-85d0-63cdf5229357",
   "metadata": {},
   "outputs": [],
   "source": [
    "train_dataset = ImageDataset(images_paths=train_X, labels=train_y, transform=image_transform)\n",
    "test_dataset = ImageDataset(images_paths=test_X, labels=test_y, transform=image_transform)"
   ]
  },
  {
   "cell_type": "code",
   "execution_count": 71,
   "id": "db9b725c-16fa-4422-8577-4e2fd1b302ee",
   "metadata": {},
   "outputs": [
    {
     "name": "stdout",
     "output_type": "stream",
     "text": [
      "Number of training items: 647\n"
     ]
    }
   ],
   "source": [
    "print(\"Number of training items:\", len(train_y))"
   ]
  },
  {
   "cell_type": "code",
   "execution_count": 72,
   "id": "1fa4ea17-091a-42ad-b7f8-ec25ffc5175b",
   "metadata": {},
   "outputs": [],
   "source": [
    "from torchvision import utils\n",
    "def plot_img(img,y=None,color=True):\n",
    "    npimg = img.numpy()\n",
    "    npimg_T = np.transpose(npimg,(1,2,0))\n",
    "    plt.imshow(npimg_T)\n",
    "    plt.title('Image samples from each of the 10 classes')\n",
    "    plt.axis('on')"
   ]
  },
  {
   "cell_type": "code",
   "execution_count": 74,
   "id": "fb276f6f-8e35-482c-924b-0d413f832c06",
   "metadata": {},
   "outputs": [
    {
     "data": {
      "image/png": "[encoded data removed]",
      "text/plain": [
       "<Figure size 1200x1200 with 9 Axes>"
      ]
     },
     "metadata": {},
     "output_type": "display_data"
    }
   ],
   "source": [
    "import matplotlib.pyplot as plt\n",
    "\n",
    "# Function to plot an individual image\n",
    "def plot_img(img):\n",
    "    # Normalize the image for display\n",
    "    img_min, img_max = img.min(), img.max()\n",
    "    normalized_img = (img - img_min) / (img_max - img_min)\n",
    "    \n",
    "    # Change the shape to (H, W, C)\n",
    "    normalized_img = normalized_img.permute(1, 2, 0)\n",
    "    \n",
    "    plt.imshow(normalized_img)\n",
    "    plt.axis('off')  # Hide axes\n",
    "\n",
    "# Set the figure size for larger images\n",
    "plt.figure(figsize=(12, 12))  # Adjust the size as needed\n",
    "\n",
    "# Loop to display images\n",
    "for i in range(9):\n",
    "    plt.subplot(3, 3, i + 1)\n",
    "    img = train_dataset[i][0]\n",
    "    plot_img(img)\n",
    "\n",
    "plt.tight_layout()  # Adjust layout to prevent overlap\n",
    "plt.show()\n"
   ]
  },
  {
   "cell_type": "code",
   "execution_count": 75,
   "id": "9bd63724-c78c-4ac4-b9f0-56d8d479e9a6",
   "metadata": {},
   "outputs": [],
   "source": [
    "# Build model\n",
    "\n",
    "class Classifier(nn.Module):\n",
    "    def __init__(self):\n",
    "        super(Classifier, self).__init__()\n",
    "        self.conv1 = nn.Conv2d(3, 32, kernel_size=3, stride=1, padding=1,)\n",
    "        self.conv2 = nn.Conv2d(32,64, kernel_size=3, stride=1, padding=1)\n",
    "        self.pool = nn.MaxPool2d(kernel_size=2, stride=2, padding=0)\n",
    "        self.fc1 = nn.Linear(64 * 30 * 30, 120)\n",
    "        self.fc2 = nn.Linear(120, len(classes))\n",
    "\n",
    "    def forward(self, x):\n",
    "        # [(W−K+2P)/S]+1\n",
    "        x = self.pool(torch.relu(self.conv1(x)))\n",
    "        x = self.pool(torch.relu(self.conv2(x)))\n",
    "        # Conv to Linear\n",
    "        x = x.view(-1, 64 * 30 * 30)\n",
    "        x = torch.relu(self.fc1(x))\n",
    "        x = self.fc2(x)\n",
    "        # x = torch.softmax(x, dim=1)\n",
    "        return x"
   ]
  },
  {
   "cell_type": "code",
   "execution_count": 76,
   "id": "ec2fd9bb-743b-4d18-b1ab-0856b926e871",
   "metadata": {},
   "outputs": [
    {
     "name": "stdout",
     "output_type": "stream",
     "text": [
      "Classifier(\n",
      "  (conv1): Conv2d(3, 32, kernel_size=(3, 3), stride=(1, 1), padding=(1, 1))\n",
      "  (conv2): Conv2d(32, 64, kernel_size=(3, 3), stride=(1, 1), padding=(1, 1))\n",
      "  (pool): MaxPool2d(kernel_size=2, stride=2, padding=0, dilation=1, ceil_mode=False)\n",
      "  (fc1): Linear(in_features=57600, out_features=120, bias=True)\n",
      "  (fc2): Linear(in_features=120, out_features=18, bias=True)\n",
      ")\n"
     ]
    }
   ],
   "source": [
    "device = torch.device('cpu')\n",
    "\n",
    "model = Classifier()\n",
    "\n",
    "model = model.to(device)\n",
    "\n",
    "print(model)"
   ]
  },
  {
   "cell_type": "code",
   "execution_count": 77,
   "id": "ccfe7c8c-e410-4d1d-a96c-286df55821ed",
   "metadata": {},
   "outputs": [
    {
     "name": "stdout",
     "output_type": "stream",
     "text": [
      "Epoch [1/10], Loss: 0.0898\n",
      "Epoch [2/10], Loss: 0.0834\n",
      "Epoch [3/10], Loss: 0.0749\n",
      "Epoch [4/10], Loss: 0.0634\n",
      "Epoch [5/10], Loss: 0.0506\n",
      "Epoch [6/10], Loss: 0.0359\n",
      "Epoch [7/10], Loss: 0.0238\n",
      "Epoch [8/10], Loss: 0.0142\n",
      "Epoch [9/10], Loss: 0.0091\n",
      "Epoch [10/10], Loss: 0.0058\n"
     ]
    }
   ],
   "source": [
    "from torch.utils.data import DataLoader\n",
    "import torch.optim as optim\n",
    "\n",
    "batch_size = 32\n",
    "optimizer = optim.Adam(model.parameters(), lr= 1e-3)\n",
    "criterion = nn.CrossEntropyLoss()\n",
    "\n",
    "num_epochs = 10\n",
    "\n",
    "\n",
    "train_loader = DataLoader(train_dataset, batch_size=batch_size, shuffle=True)\n",
    "\n",
    "model.train()\n",
    "for epoch in range(num_epochs):\n",
    "    running_loss = 0\n",
    "\n",
    "    for images, labels in train_loader:\n",
    "        optimizer.zero_grad()\n",
    "        outputs = model(images)\n",
    "        loss = criterion(outputs, labels)\n",
    "        loss.backward()\n",
    "        optimizer.step()\n",
    "\n",
    "        running_loss += loss.item()\n",
    "    \n",
    "    epoch_loss = running_loss / len(train_dataset)\n",
    "    print(f\"Epoch [{epoch+1}/{num_epochs}], Loss: {epoch_loss:.4f}\")"
   ]
  },
  {
   "cell_type": "code",
   "execution_count": 78,
   "id": "0e078b71-4447-4986-ba53-eeb09fc777b9",
   "metadata": {},
   "outputs": [
    {
     "name": "stdout",
     "output_type": "stream",
     "text": [
      "Accuracy of the network on the 10000 test images: 90 %\n"
     ]
    }
   ],
   "source": [
    "from sklearn.metrics import accuracy_score\n",
    "# Evaluation\n",
    "model.eval()\n",
    "test_loader = DataLoader(test_dataset, batch_size=batch_size, shuffle=False)\n",
    "correct = 0\n",
    "total = 0\n",
    "\n",
    "with torch.no_grad():\n",
    "    for inputs, labels in test_loader:\n",
    "        outputs = model(inputs)\n",
    "        # _, predicted = torch.max(outputs, 2)\n",
    "        max_index = np.argmax(outputs, axis=1)\n",
    "\n",
    "        one_hot = np.zeros_like(outputs)\n",
    "        one_hot[np.arange(len(outputs)), max_index] = 1\n",
    "        \n",
    "        total += labels.size(0)\n",
    "        c = (torch.tensor(one_hot) == labels).sum().item() / 18\n",
    "        correct += c\n",
    "\n",
    "\n",
    "print('Accuracy of the network on the 10000 test images: %d %%' % (100 * correct / total))"
   ]
  },
  {
   "cell_type": "code",
   "execution_count": 79,
   "id": "75c306c3-ee99-4429-b068-f16548e86f92",
   "metadata": {},
   "outputs": [
    {
     "name": "stdout",
     "output_type": "stream",
     "text": [
      "Predicted: [['Dragon']]\n",
      "Original : [['Dragon']]\n"
     ]
    }
   ],
   "source": [
    "decoder = label_encoder.inverse_transform\n",
    "\n",
    "i = 20\n",
    "\n",
    "p = model(train_dataset[i][0]).detach().numpy()\n",
    "\n",
    "max_index = np.argmax(p)\n",
    "\n",
    "one_hot = np.zeros_like(p)\n",
    "one_hot[np.arange(len(p)), max_index] = 1\n",
    "\n",
    "\n",
    "print(f'Predicted: {decoder(one_hot)}')\n",
    "print(f'Original : {decoder([np.array(train_dataset[i][1])])}')\n",
    "# decoder([[0., 0., 0., 0., 0., 0., 0., 0., 0., 0., 0., 0., 0., 0., 0., 1., 0., 0.]])\n"
   ]
  },
  {
   "cell_type": "code",
   "execution_count": 81,
   "id": "e13f44de-968d-443b-bbac-706f30c3dcd8",
   "metadata": {},
   "outputs": [
    {
     "data": {
      "image/png": "[encoded data removed]",
      "text/plain": [
       "<Figure size 640x480 with 1 Axes>"
      ]
     },
     "metadata": {},
     "output_type": "display_data"
    }
   ],
   "source": [
    "import numpy as np\n",
    "import matplotlib.pyplot as plt\n",
    "import torchvision.transforms as transforms\n",
    "import torch\n",
    "\n",
    "# Assuming 'train_dataset' contains image tensors directly\n",
    "decoder = label_encoder.inverse_transform\n",
    "\n",
    "# Set the index of the image you want to test\n",
    "i = 20\n",
    "\n",
    "\n",
    "# Retrieve the image tensor and label from the training dataset\n",
    "image_tensor = train_dataset[i][0]  # This should be a tensor\n",
    "original_label = train_dataset[i][1]  # This should give you the original label\n",
    "\n",
    "# Ensure that the image tensor is a 3D tensor (C, H, W)\n",
    "if isinstance(image_tensor, torch.Tensor):\n",
    "    # Convert the tensor to a numpy array for displaying\n",
    "    image_np = image_tensor.permute(1, 2, 0).numpy()  # Change from (C, H, W) to (H, W, C)\n",
    "    image_np = (image_np * 255).astype(np.uint8)  # Scale to 0-255 for display if necessary\n",
    "else:\n",
    "    print(\"Image tensor is not a valid tensor.\")\n",
    "\n",
    "# Display the original image\n",
    "plt.imshow(image_np)\n",
    "plt.title(f\"Test Item: {decoder([np.array(original_label)])}\")\n",
    "plt.axis('off')  # Hide axes\n",
    "plt.show()"
   ]
  }
 ],
 "metadata": {
  "kernelspec": {
   "display_name": "Python 3 (ipykernel)",
   "language": "python",
   "name": "python3"
  },
  "language_info": {
   "codemirror_mode": {
    "name": "ipython",
    "version": 3
   },
   "file_extension": ".py",
   "mimetype": "text/x-python",
   "name": "python",
   "nbconvert_exporter": "python",
   "pygments_lexer": "ipython3",
   "version": "3.11.7"
  },
  "papermill": {
   "default_parameters": {},
   "duration": 142.476613,
   "end_time": "2023-09-18T07:04:34.091118",
   "environment_variables": {},
   "exception": null,
   "input_path": "__notebook__.ipynb",
   "output_path": "__notebook__.ipynb",
   "parameters": {},
   "start_time": "2023-09-18T07:02:11.614505",
   "version": "2.4.0"
  }
 },
 "nbformat": 4,
 "nbformat_minor": 5
}
